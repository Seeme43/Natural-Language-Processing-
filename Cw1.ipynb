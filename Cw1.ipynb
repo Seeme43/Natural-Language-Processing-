{
 "cells": [
  {
   "cell_type": "markdown",
   "metadata": {},
   "source": [
    "<center style=\"color:maroon\"> <h1> Part I NLP Coursework 1 </h1> </center>\n",
    "<center> <h3> Tagging on the Treebank corpus </h3> </center>\n",
    "\n"
   ]
  },
  {
   "cell_type": "code",
   "execution_count": 1,
   "metadata": {},
   "outputs": [],
   "source": [
    "# IMPORT LIBRARIES\n",
    "import nltk\n",
    "from nltk.corpus import treebank\n",
    "from collections import defaultdict\n",
    "import numpy as np\n",
    "import re\n",
    "from operator import itemgetter"
   ]
  },
  {
   "cell_type": "code",
   "execution_count": 5,
   "metadata": {
    "scrolled": true
   },
   "outputs": [
    {
     "name": "stdout",
     "output_type": "stream",
     "text": [
      "['Pierre', 'Vinken', ',', '61', 'years', 'old', ',', ...]\n",
      "[('Pierre', 'NNP'), ('Vinken', 'NNP'), (',', ','), ...]\n"
     ]
    }
   ],
   "source": [
    "# Print the corpus divided per word and the tagged corpus per word, in order to get an idea\n",
    "print(treebank.words())\n",
    "print(treebank.tagged_words())"
   ]
  },
  {
   "cell_type": "code",
   "execution_count": 2,
   "metadata": {},
   "outputs": [
    {
     "data": {
      "text/plain": [
       "[[('Pierre', 'NNP'), ('Vinken', 'NNP'), (',', ','), ('61', 'CD'), ('years', 'NNS'), ('old', 'JJ'), (',', ','), ('will', 'MD'), ('join', 'VB'), ('the', 'DT'), ('board', 'NN'), ('as', 'IN'), ('a', 'DT'), ('nonexecutive', 'JJ'), ('director', 'NN'), ('Nov.', 'NNP'), ('29', 'CD'), ('.', '.')], [('Mr.', 'NNP'), ('Vinken', 'NNP'), ('is', 'VBZ'), ('chairman', 'NN'), ('of', 'IN'), ('Elsevier', 'NNP'), ('N.V.', 'NNP'), (',', ','), ('the', 'DT'), ('Dutch', 'NNP'), ('publishing', 'VBG'), ('group', 'NN'), ('.', '.')], ...]"
      ]
     },
     "execution_count": 2,
     "metadata": {},
     "output_type": "execute_result"
    }
   ],
   "source": [
    "# Create the variable related to the treebank split per sentence and the treebank tagged per sentence\n",
    "treebank_sents = treebank.sents()\n",
    "treebank_tagged_sents = treebank.tagged_sents()\n",
    "treebank_tagged_sents # visualise it"
   ]
  },
  {
   "cell_type": "markdown",
   "metadata": {},
   "source": [
    "<font color='maroon'> <h2>  Regular expression Tagger \n",
    "\n",
    " </font> \n",
    "  #### 1.Evaluate the tagger as it is against the tagged sentences in NLTK’s sample treebank corpus and report your result.\n",
    "\n"
   ]
  },
  {
   "cell_type": "code",
   "execution_count": 42,
   "metadata": {},
   "outputs": [],
   "source": [
    "# REGULAR EXPRESSION EXPOSED IN THE BOOK \n",
    "\n",
    "patterns = [\n",
    "     (r'.*ing$', 'VBG'),               # gerunds\n",
    "     (r'.*ed$', 'VBD'),                # simple past\n",
    "     (r'.*es$', 'VBZ'),                # 3rd singular present\n",
    "     (r'.*ould$', 'MD'),               # modals\n",
    "     (r'.*\\'s$', 'NN$'),               # possessive nouns\n",
    "     (r'.*s$', 'NNS'),                 # plural nouns\n",
    "     (r'^-?[0-9]+(.[0-9]+)?$', 'CD'),  # cardinal numbers\n",
    "     (r'.*', 'NN')     ]                # nouns (default)"
   ]
  },
  {
   "cell_type": "code",
   "execution_count": 23,
   "metadata": {
    "scrolled": false
   },
   "outputs": [
    {
     "data": {
      "text/plain": [
       "0.21951607135762247"
      ]
     },
     "execution_count": 23,
     "metadata": {},
     "output_type": "execute_result"
    }
   ],
   "source": [
    "regexp_tagger = nltk.RegexpTagger(patterns)\n",
    "regexp_tagger.evaluate(treebank_tagged_sents) # evaluate the perfomance by using only the pattern exposed on the book"
   ]
  },
  {
   "cell_type": "markdown",
   "metadata": {},
   "source": [
    "---"
   ]
  },
  {
   "cell_type": "markdown",
   "metadata": {},
   "source": [
    "#### 2.Improve the accuracy of the tagger \n",
    "\n",
    "Coding REs for parts of speech that are not covered in the book version"
   ]
  },
  {
   "cell_type": "code",
   "execution_count": 24,
   "metadata": {},
   "outputs": [
    {
     "name": "stdout",
     "output_type": "stream",
     "text": [
      "Number of total words: 100676\n"
     ]
    }
   ],
   "source": [
    "# Create Treebanks_words variable\n",
    "treebank_words = treebank.words()\n",
    "print('Number of total words:', len(treebank_words))"
   ]
  },
  {
   "cell_type": "code",
   "execution_count": 250,
   "metadata": {},
   "outputs": [],
   "source": [
    "# Define a function to analyse the Words contained in each tag, to help me find patterns\n",
    "# Code obtained from the book (Natural Language Processing with Python, by Steven Bird, Ewan Klein, and Edward Loper)\n",
    "\n",
    "def findtags(tag_prefix, tagged_text):\n",
    "    cfd = nltk.ConditionalFreqDist((tag, word) for (word, tag) in tagged_text\n",
    "                                  if tag.startswith(tag_prefix))\n",
    "    return dict((tag, cfd[tag].most_common(40)) for tag in cfd.conditions())"
   ]
  },
  {
   "cell_type": "code",
   "execution_count": 251,
   "metadata": {},
   "outputs": [],
   "source": [
    "# I create a function in which I can insert the Tag and directly obtain the frequency sorted and printed\n",
    "def tag(x):\n",
    "    tagdict = findtags(x, nltk.corpus.treebank.tagged_words())\n",
    "    for tag in sorted(tagdict):\n",
    "        print(tag, tagdict[tag])"
   ]
  },
  {
   "cell_type": "code",
   "execution_count": 66,
   "metadata": {},
   "outputs": [],
   "source": [
    "# Create a function which evaluates the nltk.RegexpTagger\n",
    "\n",
    "def go():\n",
    "    regexp_tagger = nltk.RegexpTagger(patterns)\n",
    "    print(round(regexp_tagger.evaluate(treebank_tagged_sents),3))    "
   ]
  },
  {
   "cell_type": "markdown",
   "metadata": {},
   "source": [
    "---"
   ]
  },
  {
   "cell_type": "code",
   "execution_count": 61,
   "metadata": {
    "scrolled": true
   },
   "outputs": [
    {
     "name": "stdout",
     "output_type": "stream",
     "text": [
      "TO [('to', 2161), ('To', 17), ('TO', 1)]\n"
     ]
    }
   ],
   "source": [
    "# 1. Verify the Tag 'TO'\n",
    "tag('TO')"
   ]
  },
  {
   "cell_type": "code",
   "execution_count": 130,
   "metadata": {},
   "outputs": [],
   "source": [
    "# Modify the pattern by adding the tag TO, \n",
    "# taking into consideration that the order in which pattern appear influence the results \n",
    "\n",
    "patterns = [     (r'.*ing$', 'VBG'),      # gerunds\n",
    "     (r'\\b[Tt][oO]\\b', 'TO'),          # Tag TO <---------------------- +++ ( this means added )\n",
    "     (r'.*ed$', 'VBD'),                # simple past\n",
    "     (r'.*es$', 'VBZ'),                # 3rd singular present\n",
    "     (r'.*ould$', 'MD'),               # modals\n",
    "     (r'.*\\'s$', 'NN$'),               # possessive nouns\n",
    "     (r'.*s$', 'NNS'),                 # plural nouns\n",
    "     (r'^-?[0-9]+(.[0-9]+)?$', 'CD'),  # cardinal numbers\n",
    "     \n",
    "     (r'.*', 'NN')                     # nouns (default)\n",
    " ]"
   ]
  },
  {
   "cell_type": "code",
   "execution_count": 131,
   "metadata": {},
   "outputs": [
    {
     "name": "stdout",
     "output_type": "stream",
     "text": [
      "0.241\n"
     ]
    }
   ],
   "source": [
    "go()"
   ]
  },
  {
   "cell_type": "markdown",
   "metadata": {},
   "source": [
    "---"
   ]
  },
  {
   "cell_type": "code",
   "execution_count": 132,
   "metadata": {
    "scrolled": true
   },
   "outputs": [
    {
     "name": "stdout",
     "output_type": "stream",
     "text": [
      "RB [(\"n't\", 325), ('also', 147), ('not', 133), ('only', 68), ('even', 64), ('now', 61), ('so', 55), ('as', 52), ('up', 49), ('well', 46), ('just', 44), ('still', 36), ('already', 35), ('much', 30), ('very', 28), ('far', 28), ('then', 27), ('about', 27), ('recently', 25), ('often', 24), ('however', 24), ('almost', 22), ('currently', 22), ('down', 22), ('too', 22), ('here', 20), ('never', 20), ('particularly', 17), ('nearly', 17), ('rather', 16), ('ago', 16), ('Also', 16), ('closely', 15), ('always', 15), ('back', 15), ('probably', 14), ('again', 14), ('yet', 14), ('early', 14), ('apparently', 14)]\n",
      "RBR [('more', 86), ('less', 11), ('earlier', 11), ('better', 9), ('longer', 4), ('More', 2), ('later', 2), ('further', 2), ('higher', 2), ('drearier', 1), ('never', 1), ('lower', 1), ('closer', 1), ('sooner', 1), ('harder', 1), ('Earlier', 1)]\n",
      "RBS [('most', 33), ('Most', 2)]\n"
     ]
    }
   ],
   "source": [
    "# 2. Verify the Tag 'RB'\n",
    "tag('RB')"
   ]
  },
  {
   "cell_type": "code",
   "execution_count": 133,
   "metadata": {},
   "outputs": [
    {
     "name": "stdout",
     "output_type": "stream",
     "text": [
      "0.25\n"
     ]
    }
   ],
   "source": [
    "# I will insert pattern without writing the pattern everytime, then in the end I will fix the order\n",
    "\n",
    "patterns.insert(-1,(r'.*ly$', 'RB')) #  words ending in 'ly' for adverb \n",
    "go()"
   ]
  },
  {
   "cell_type": "code",
   "execution_count": 82,
   "metadata": {
    "scrolled": false
   },
   "outputs": [
    {
     "name": "stdout",
     "output_type": "stream",
     "text": [
      "WP [('who', 163), ('what', 49), ('What', 19), ('whom', 6), ('Who', 4)]\n",
      "WP$ [('whose', 14)]\n"
     ]
    }
   ],
   "source": [
    "# 3. Verify the Tag 'WP'\n",
    "tag('WP')"
   ]
  },
  {
   "cell_type": "code",
   "execution_count": 134,
   "metadata": {},
   "outputs": [
    {
     "name": "stdout",
     "output_type": "stream",
     "text": [
      "0.251\n"
     ]
    }
   ],
   "source": [
    "patterns.insert(-4,(r'^[Ww]ho.*', 'WP')) #  Whom, whose, who* \n",
    "go()"
   ]
  },
  {
   "cell_type": "code",
   "execution_count": 84,
   "metadata": {
    "scrolled": true
   },
   "outputs": [
    {
     "name": "stdout",
     "output_type": "stream",
     "text": [
      "DT [('the', 4038), ('a', 1874), ('The', 713), ('an', 316), ('this', 184), ('some', 122), ('A', 105), ('any', 103), ('all', 86), ('that', 77), ('no', 76), ('those', 55), ('these', 55), ('another', 42), ('This', 40), ('That', 37), ('each', 37), ('both', 34), ('These', 22), ('Some', 22), ('every', 19), ('An', 18), ('All', 12), ('No', 10), ('half', 10), ('Both', 9), ('Each', 9), ('neither', 7), ('Those', 6), ('Another', 6), ('Neither', 5), ('either', 5), ('Any', 3), ('THE', 2), ('Every', 2), ('la', 1), ('le', 1), ('del', 1), ('AN', 1)]\n"
     ]
    }
   ],
   "source": [
    "# 4. Verify the tag 'DT'\n",
    "tag('DT')"
   ]
  },
  {
   "cell_type": "code",
   "execution_count": 135,
   "metadata": {},
   "outputs": [
    {
     "name": "stdout",
     "output_type": "stream",
     "text": [
      "0.32\n"
     ]
    }
   ],
   "source": [
    "patterns.insert(-4,(r'\\b[Tt]he\\b', 'DT')) # the: since it is so current it is important to identify it precisely\n",
    "patterns.insert(-3,(r'\\b[aA]\\b', 'DT')) # a: since it is so current it is important to identify it precisely\n",
    "patterns.insert(-2,(r'^[Tt]h.*', 'DT')) # this,that,these,those, .. \n",
    "go()"
   ]
  },
  {
   "cell_type": "code",
   "execution_count": 86,
   "metadata": {
    "scrolled": true
   },
   "outputs": [
    {
     "name": "stdout",
     "output_type": "stream",
     "text": [
      "PRP [('it', 476), ('he', 230), ('they', 210), ('I', 113), ('It', 100), ('she', 77), ('He', 73), ('you', 70), ('them', 70), ('They', 53), ('we', 48), ('We', 47), ('us', 26), ('You', 24), ('She', 21), ('her', 18), ('him', 16), ('themselves', 12), ('himself', 9), ('me', 9), ('itself', 7), ('yourself', 3), ('one', 2), ('herself', 1), ('IT', 1)]\n",
      "PRP$ [('its', 332), ('their', 181), ('his', 121), ('her', 33), ('our', 26), ('your', 23), ('my', 18), ('Its', 11), ('Your', 7), ('His', 5), ('Her', 4), ('Their', 3), ('My', 2)]\n"
     ]
    }
   ],
   "source": [
    "# 5. Verify the tag 'PRP'\n",
    "tag('PRP')"
   ]
  },
  {
   "cell_type": "code",
   "execution_count": 136,
   "metadata": {
    "scrolled": true
   },
   "outputs": [
    {
     "name": "stdout",
     "output_type": "stream",
     "text": [
      "0.327\n"
     ]
    }
   ],
   "source": [
    "patterns.insert(-6,(r'^.?he.?$', 'PRP'))\n",
    "go()"
   ]
  },
  {
   "cell_type": "code",
   "execution_count": 88,
   "metadata": {
    "scrolled": true
   },
   "outputs": [
    {
     "name": "stdout",
     "output_type": "stream",
     "text": [
      ", [(',', 4885), ('Wa', 1)]\n"
     ]
    }
   ],
   "source": [
    "# 6. Verify the tag ',' (comma)\n",
    "tag(',') "
   ]
  },
  {
   "cell_type": "code",
   "execution_count": 137,
   "metadata": {},
   "outputs": [
    {
     "name": "stdout",
     "output_type": "stream",
     "text": [
      "0.376\n"
     ]
    }
   ],
   "source": [
    "patterns.insert(1,(r',', ',')) #  4885 occurencies should give a great boost to the accuracy, hopefully\n",
    "go()"
   ]
  },
  {
   "cell_type": "code",
   "execution_count": 79,
   "metadata": {},
   "outputs": [
    {
     "name": "stdout",
     "output_type": "stream",
     "text": [
      ". [('.', 3828), ('?', 40), ('!', 6)]\n"
     ]
    }
   ],
   "source": [
    "# 7. Verify the tag '.' (period)\n",
    "tag('.') "
   ]
  },
  {
   "cell_type": "code",
   "execution_count": 138,
   "metadata": {},
   "outputs": [
    {
     "name": "stdout",
     "output_type": "stream",
     "text": [
      "0.414\n"
     ]
    }
   ],
   "source": [
    "patterns.insert(-4,(r'\\.', '.')) \n",
    "go()"
   ]
  },
  {
   "cell_type": "code",
   "execution_count": 99,
   "metadata": {},
   "outputs": [
    {
     "name": "stdout",
     "output_type": "stream",
     "text": [
      "WDT [('which', 224), ('that', 214), ('what', 3), ('That', 2), ('THAT', 1), ('whichever', 1)]\n"
     ]
    }
   ],
   "source": [
    "# 8. Verify the tag 'WDT'\n",
    "tag('WDT')"
   ]
  },
  {
   "cell_type": "code",
   "execution_count": 139,
   "metadata": {},
   "outputs": [
    {
     "name": "stdout",
     "output_type": "stream",
     "text": [
      "0.417\n"
     ]
    }
   ],
   "source": [
    "patterns.insert(-3, (r'^.hat$', 'WDT')) # that, what\n",
    "patterns.insert(-3, (r'^which.*', 'WDT')) # which, whichever\n",
    "go()"
   ]
  },
  {
   "cell_type": "code",
   "execution_count": 101,
   "metadata": {},
   "outputs": [
    {
     "name": "stdout",
     "output_type": "stream",
     "text": [
      "JJ [('new', 162), ('other', 134), ('last', 86), ('many', 83), ('such', 82), ('Japanese', 80), ('recent', 72), ('first', 66), ('next', 58), ('common', 54), ('federal', 51), ('small', 44), ('major', 44), ('financial', 42), ('economic', 41), ('fiscal', 41), ('good', 40), ('own', 40), ('due', 38), ('net', 38), ('same', 37), ('big', 37), ('few', 33), ('several', 32), ('current', 30), ('much', 30), ('early', 29), ('large', 29), ('executive', 28), ('American', 28), ('high', 26), ('additional', 26), ('certain', 26), ('corporate', 25), ('old', 24), ('possible', 24), ('strong', 24), ('local', 23), ('foreign', 23), ('low', 23)]\n",
      "JJR [('more', 111), ('higher', 47), ('earlier', 34), ('lower', 30), ('less', 29), ('greater', 11), ('better', 10), ('smaller', 8), ('larger', 7), ('fewer', 6), ('broader', 6), ('easier', 6), ('stronger', 5), ('older', 5), ('cheaper', 5), ('longer', 4), ('More', 4), ('faster', 4), ('slower', 4), ('harder', 4), ('Earlier', 3), ('closer', 3), ('worse', 3), ('Higher', 3), ('weaker', 3), ('steeper', 2), ('younger', 2), ('bigger', 2), ('cleaner', 2), ('Longer', 1), ('Shorter', 1), ('lesser', 1), ('Moreover', 1), ('sharper', 1), ('happier', 1), ('lighter', 1), ('newer', 1), ('savvier', 1), ('fuller', 1), ('stiffer', 1)]\n",
      "JJS [('most', 42), ('largest', 28), ('least', 24), ('latest', 22), ('best', 12), ('highest', 8), ('biggest', 7), ('Most', 6), ('lowest', 4), ('worst', 4), ('strongest', 4), ('oldest', 2), ('greatest', 2), ('dirtiest', 2), ('longest', 1), ('earliest', 1), ('hottest', 1), ('third-highest', 1), ('finest', 1), ('brightest', 1), ('best-selling', 1), ('busiest', 1), ('fastest', 1), ('priciest', 1), ('smallest', 1), ('loveliest', 1), ('cheapest', 1), ('loudest', 1), ('newest', 1)]\n"
     ]
    }
   ],
   "source": [
    "# 9. Verify the tag 'JJ'\n",
    "tag('JJ')"
   ]
  },
  {
   "cell_type": "code",
   "execution_count": 140,
   "metadata": {},
   "outputs": [
    {
     "name": "stdout",
     "output_type": "stream",
     "text": [
      "0.413\n"
     ]
    }
   ],
   "source": [
    "patterns.insert(-1, (r'\\bother\\b', 'JJ')) #  expression matching only one word, since it occurs 134 times, and it would be insert in the wrong label ( the one below)\n",
    "patterns.insert(-1, (r'.+er$', 'JJR')) # \n",
    "patterns.insert(-1, (r'.+est$', 'JJS')) \n",
    "go()"
   ]
  },
  {
   "cell_type": "code",
   "execution_count": 103,
   "metadata": {},
   "outputs": [
    {
     "name": "stdout",
     "output_type": "stream",
     "text": [
      "NNP [('Mr.', 375), ('U.S.', 220), ('New', 159), ('Corp.', 117), ('York', 107), ('Inc.', 97), ('Japan', 75), ('Co.', 74), ('October', 61), ('Mrs.', 58), ('House', 55), ('Exchange', 50), ('Tuesday', 46), ('Congress', 46), ('Bush', 44), ('Board', 43), ('Chicago', 43), ('September', 42), ('Department', 42), ('Treasury', 41), ('South', 39), ('American', 38), ('Street', 38), ('Wall', 37), ('Yeargin', 37), ('Columbia', 37), ('Cray', 36), ('First', 35), ('S&P', 35), ('John', 34), ('International', 33), ('Stock', 33), ('Big', 33), ('Bank', 32), ('President', 28), ('Campbell', 27), ('Group', 26), ('London', 26), ('California', 26), ('China', 25)]\n",
      "NNPS [('Securities', 16), ('Containers', 16), ('Industries', 12), ('Materials', 10), ('Soviets', 8), ('Americans', 6), ('Savings', 5), ('Associates', 5), ('States', 5), ('Democrats', 5), ('Motors', 5), ('Airlines', 5), ('Services', 4), ('Systems', 4), ('Communications', 4), ('Resources', 4), ('Travelers', 4), ('Markets', 4), ('Machines', 3), ('Philippines', 3), ('Friends', 3), ('Brothers', 3), ('Investors', 3), ('Giants', 3), ('Partners', 3), ('Stores', 3), ('Issues', 3), ('Dealers', 2), ('Instruments', 2), ('Islands', 2), ('ADRs', 2), ('Nations', 2), ('Messrs.', 2), ('Institutes', 2), ('Writers', 2), ('Burgundies', 2), ('Cabernets', 2), ('Options', 2), ('Futures', 2), ('Laboratories', 2)]\n"
     ]
    }
   ],
   "source": [
    "# 10. Verify the tag NNP\n",
    "tag('NNP')"
   ]
  },
  {
   "cell_type": "code",
   "execution_count": 141,
   "metadata": {},
   "outputs": [
    {
     "name": "stdout",
     "output_type": "stream",
     "text": [
      "0.491\n"
     ]
    }
   ],
   "source": [
    "patterns.insert(-1, (r'^[A-Z].*', 'NNP'))  #Proper nouns \n",
    "go()"
   ]
  },
  {
   "cell_type": "code",
   "execution_count": 106,
   "metadata": {},
   "outputs": [
    {
     "name": "stdout",
     "output_type": "stream",
     "text": [
      "IN [('of', 2319), ('in', 1554), ('for', 815), ('that', 513), ('on', 483), ('by', 427), ('at', 402), ('with', 387), ('from', 386), ('as', 333), ('In', 195), ('than', 180), ('about', 176), ('because', 116), ('into', 87), ('if', 80), ('after', 77), ('over', 72), ('under', 60), ('since', 50), ('while', 47), ('like', 44), ('before', 42), ('through', 41), ('If', 40), ('during', 38), ('For', 36), ('between', 36), ('against', 34), ('below', 32), ('among', 31), ('until', 31), ('without', 29), ('As', 29), ('whether', 28), ('out', 28), ('At', 28), ('up', 27), ('though', 25), ('While', 25)]\n"
     ]
    }
   ],
   "source": [
    "# 11. Verify the tag IN\n",
    "tag('IN')"
   ]
  },
  {
   "cell_type": "code",
   "execution_count": 142,
   "metadata": {},
   "outputs": [
    {
     "name": "stdout",
     "output_type": "stream",
     "text": [
      "0.542\n"
     ]
    }
   ],
   "source": [
    "patterns.insert(1, (r'\\bof\\b|\\bin\\b|\\bfor\\b|\\bon\\b', 'IN'))  \n",
    "# Rely on the importance of these words, which have the highest frequency in the category, \n",
    "# defining specific words rather than patterns\n",
    "go()"
   ]
  },
  {
   "cell_type": "code",
   "execution_count": 143,
   "metadata": {
    "scrolled": true
   },
   "outputs": [],
   "source": [
    "patterns.insert(-3, (r'^..$', 'IN'))  \n",
    "patterns.insert(-7, (r'^be.*', 'IN')) # because, before, between, below\n"
   ]
  },
  {
   "cell_type": "code",
   "execution_count": 144,
   "metadata": {},
   "outputs": [
    {
     "name": "stdout",
     "output_type": "stream",
     "text": [
      "0.554\n"
     ]
    }
   ],
   "source": [
    "go()"
   ]
  },
  {
   "cell_type": "code",
   "execution_count": 111,
   "metadata": {
    "scrolled": true
   },
   "outputs": [
    {
     "name": "stdout",
     "output_type": "stream",
     "text": [
      "NNS [('years', 115), ('shares', 114), ('prices', 86), ('cents', 70), ('funds', 67), ('stocks', 66), ('investors', 63), ('companies', 63), ('futures', 63), ('sales', 59), ('bonds', 59), ('months', 59), ('people', 56), ('markets', 52), ('days', 51), ('banks', 51), ('rates', 49), ('traders', 48), ('officials', 47), ('managers', 40), ('earnings', 38), ('issues', 36), ('firms', 34), ('securities', 33), ('products', 32), ('students', 31), ('analysts', 30), ('points', 30), ('operations', 29), ('notes', 29), ('orders', 28), ('problems', 28), ('members', 26), ('services', 25), ('appropriations', 25), ('contracts', 24), ('customers', 23), ('programs', 23), ('weeks', 22), ('cases', 22)]\n",
      "0.542\n"
     ]
    }
   ],
   "source": [
    "# 13. Verify tag NNS\n",
    "tag('NNS')"
   ]
  },
  {
   "cell_type": "code",
   "execution_count": 145,
   "metadata": {},
   "outputs": [
    {
     "name": "stdout",
     "output_type": "stream",
     "text": [
      "0.554\n"
     ]
    }
   ],
   "source": [
    "patterns.insert(-4, (r'.*\\'s', 'NNS'))\n",
    "go()"
   ]
  },
  {
   "cell_type": "code",
   "execution_count": 116,
   "metadata": {},
   "outputs": [
    {
     "name": "stdout",
     "output_type": "stream",
     "text": [
      "CC [('and', 1505), ('or', 291), ('But', 157), ('but', 150), ('&', 85), ('And', 44), ('nor', 11), ('Yet', 4), ('plus', 3), ('Or', 3), ('v.', 3), ('either', 2), ('yet', 2), ('Either', 1), ('Nor', 1), ('minus', 1), ('versus', 1), ('vs.', 1)]\n"
     ]
    }
   ],
   "source": [
    "# 14. Verify tag CC\n",
    "tag('CC')"
   ]
  },
  {
   "cell_type": "code",
   "execution_count": 146,
   "metadata": {},
   "outputs": [
    {
     "name": "stdout",
     "output_type": "stream",
     "text": [
      "0.556\n"
     ]
    }
   ],
   "source": [
    "patterns.insert(-4, (r'..t$', 'CC'))\n",
    "patterns.insert(-4, (r'..r$', 'CC'))\n",
    "go()"
   ]
  },
  {
   "cell_type": "code",
   "execution_count": 118,
   "metadata": {},
   "outputs": [
    {
     "name": "stdout",
     "output_type": "stream",
     "text": [
      "-NONE- [('*-1', 1123), ('0', 1099), ('*', 965), ('*T*-1', 806), ('*U*', 744), ('*-2', 372), ('*T*-2', 345), ('*-3', 130), ('*T*-3', 97), ('*ICH*-1', 70), ('*?*', 45), ('*-4', 34), ('*ICH*-2', 34), ('*RNR*-1', 34), ('*EXP*-1', 33), ('*T*-4', 23), ('*ICH*-3', 13), ('*-5', 11), ('*EXP*-2', 8), ('*T*-5', 5), ('*ICH*-4', 5), ('*RNR*-2', 5), ('*-6', 4), ('*-7', 4), ('*-52', 4), ('*-25', 3), ('*T*-51', 3), ('*EXP*-3', 3), ('*-64', 3), ('*-73', 3), ('*-80', 3), ('*PPA*-3', 3), ('*T*-6', 2), ('*T*-7', 2), ('*T*-8', 2), ('*-8', 2), ('*-9', 2), ('*T*-9', 2), ('*T*-10', 2), ('*-10', 2)]\n"
     ]
    }
   ],
   "source": [
    "# 15. Verify tag -NONE-\n",
    "tag('-NONE-')"
   ]
  },
  {
   "cell_type": "code",
   "execution_count": 147,
   "metadata": {
    "scrolled": true
   },
   "outputs": [
    {
     "name": "stdout",
     "output_type": "stream",
     "text": [
      "0.61\n"
     ]
    }
   ],
   "source": [
    "patterns.insert(3, (r'^\\*.*', '-NONE-'))\n",
    "go()"
   ]
  },
  {
   "cell_type": "code",
   "execution_count": 148,
   "metadata": {},
   "outputs": [],
   "source": [
    "# The research of patterns could probably move on and increase the accuracy more than this.\n",
    "# I believe it would be important in this content to expose regular express that could directly match\n",
    "# a single word rather than a generic pattern, when this is very frequent.\n",
    "# However, this scope transcend the purpose of the exercise."
   ]
  },
  {
   "cell_type": "code",
   "execution_count": 150,
   "metadata": {
    "scrolled": true
   },
   "outputs": [
    {
     "data": {
      "text/plain": [
       "[('.*ing$', 'VBG'),\n",
       " ('\\\\bof\\\\b|\\\\bin\\\\b|\\\\bfor\\\\b|\\\\bon\\\\b', 'IN'),\n",
       " (',', ','),\n",
       " ('^\\\\*.*', '-NONE-'),\n",
       " ('\\\\b[Tt][oO]\\\\b', 'TO'),\n",
       " ('.*ed$', 'VBD'),\n",
       " ('.*es$', 'VBZ'),\n",
       " ('.*ould$', 'MD'),\n",
       " (\".*\\\\'s$\", 'NN$'),\n",
       " ('^[Ww]ho.*', 'WP'),\n",
       " ('\\\\b[Tt]he\\\\b', 'DT'),\n",
       " ('^.?he.?$', 'PRP'),\n",
       " ('.*s$', 'NNS'),\n",
       " ('\\\\b[aA]\\\\b', 'DT'),\n",
       " ('\\\\.', '.'),\n",
       " ('^-?[0-9]+(.[0-9]+)?$', 'CD'),\n",
       " ('^.hat$', 'WDT'),\n",
       " ('^which.*', 'WDT'),\n",
       " ('^[Tt]h.*', 'DT'),\n",
       " ('.*ly$', 'RB'),\n",
       " (\".*\\\\'s\", 'NNS'),\n",
       " ('\\\\bother\\\\b', 'JJ'),\n",
       " ('.+er$', 'JJR'),\n",
       " ('..t$', 'CC'),\n",
       " ('..r$', 'CC'),\n",
       " ('^..$', 'IN'),\n",
       " ('.+est$', 'JJS'),\n",
       " ('^[A-Z].*', 'NNP'),\n",
       " ('.*', 'NN')]"
      ]
     },
     "execution_count": 150,
     "metadata": {},
     "output_type": "execute_result"
    }
   ],
   "source": [
    "# FIX THE ORDER OF THE PATTERN IN ORDER TO VERIFY THE POSSIBILITY OF INCREASE THE ACCURACY \n",
    "\n",
    "pattern # I will copy the output and paste it on a new cell so that I can try to modify it and play with it"
   ]
  },
  {
   "cell_type": "code",
   "execution_count": 180,
   "metadata": {},
   "outputs": [],
   "source": [
    "patterns = [  ('^\\\\*.*', '-NONE-'),                               \n",
    "             ('\\\\bof\\\\b|\\\\bin\\\\b|\\\\bfor\\\\b|\\\\bon\\\\b', 'IN'),\n",
    "             (',', ','),                                        \n",
    "             ('\\\\.', '.'),\n",
    "             ('\\\\b[Tt][oO]\\\\b', 'TO'),\n",
    "             ('.*ing$', 'VBG'),                                  \n",
    "             ('.*ed$', 'VBD'),\n",
    "             ('.*es$', 'VBZ'),\n",
    "             ('.*ould$', 'MD'),\n",
    "             ('^[A-Z].*', 'NNP'),\n",
    "             (\".*\\\\'s$\", 'NNS'),\n",
    "             ('^[Ww]ho.*', 'WP'),\n",
    "             ('\\\\b[Tt]he\\\\b', 'DT'),\n",
    "             ('^.?he.?$', 'PRP'),\n",
    "             ('.*s$', 'NNS'),\n",
    "             ('\\\\b[aA]\\\\b', 'DT'),\n",
    "             \n",
    "             ('^-?[0-9]+(.[0-9]+)?$', 'CD'),\n",
    "             ('^.hat$', 'WDT'),\n",
    "             ('^which.*', 'WDT'),\n",
    "             ('^[Tt]h.*', 'DT'),\n",
    "             ('.*ly$', 'RB'),\n",
    "             (\".*\\\\'s\", 'NNS'),\n",
    "             ('\\\\bother\\\\b', 'JJ'),\n",
    "             #('.+er$', 'JJR'),\n",
    "             ('..t$', 'CC'),\n",
    "             ('..r$', 'CC'),\n",
    "             ('^..$', 'IN'),\n",
    "             ('.+est$', 'JJS'),\n",
    "             ('.*', 'NN')]"
   ]
  },
  {
   "cell_type": "code",
   "execution_count": 192,
   "metadata": {},
   "outputs": [
    {
     "data": {
      "text/plain": [
       "0.6102546783741905"
      ]
     },
     "execution_count": 192,
     "metadata": {},
     "output_type": "execute_result"
    }
   ],
   "source": [
    "regexp_tagger = nltk.RegexpTagger(patterns)\n",
    "regexp_tagger.evaluate(treebank_tagged_sents)"
   ]
  },
  {
   "cell_type": "markdown",
   "metadata": {},
   "source": [
    "---"
   ]
  },
  {
   "cell_type": "markdown",
   "metadata": {},
   "source": [
    "<font color='maroon'> <h2> Unigram, Bigram, Backoff </font> \n",
    "#### I. Find the most common POS tag in the corpus."
   ]
  },
  {
   "cell_type": "code",
   "execution_count": 183,
   "metadata": {},
   "outputs": [
    {
     "data": {
      "text/plain": [
       "[('NN', 13166), ('IN', 9857), ('NNP', 9410)]"
      ]
     },
     "execution_count": 183,
     "metadata": {},
     "output_type": "execute_result"
    }
   ],
   "source": [
    "# Find the most common POS tag in the corpus, by looking the frequency distribution of the Top 3 tags\n",
    "\n",
    "counts = defaultdict(int)\n",
    "for (word, tag) in treebank.tagged_words():\n",
    "     counts[tag] += 1\n",
    "tag_count = sorted(counts.items(), key=itemgetter(1), reverse=True)\n",
    "tag_count[:3]\n",
    "\n"
   ]
  },
  {
   "cell_type": "raw",
   "metadata": {},
   "source": [
    "--> The most common POS tag in the corpus is NN <--"
   ]
  },
  {
   "cell_type": "markdown",
   "metadata": {},
   "source": [
    "#### .Train/evaluate unigram tagger and bigram tagger individually, then evaluate them using backoff with a default tagger"
   ]
  },
  {
   "cell_type": "code",
   "execution_count": 184,
   "metadata": {},
   "outputs": [
    {
     "data": {
      "text/plain": [
       "('Unigram Tagger performance:', 0.8608213982733669)"
      ]
     },
     "execution_count": 184,
     "metadata": {},
     "output_type": "execute_result"
    }
   ],
   "source": [
    "# Obtain Train / Test data\n",
    "size = int(len(treebank_tagged_sents) * 0.8)\n",
    "train_sents = treebank_tagged_sents[:size]\n",
    "test_sents = treebank_tagged_sents[size:]\n",
    "\n",
    "# UNIGRAM TAGGER \n",
    "unigram_tagger = nltk.UnigramTagger(train_sents)\n",
    "unigram = 'Unigram Tagger performance:', unigram_tagger.evaluate(test_sents)\n",
    "unigram"
   ]
  },
  {
   "cell_type": "code",
   "execution_count": 186,
   "metadata": {},
   "outputs": [
    {
     "data": {
      "text/plain": [
       "('Bigram Tagger performance:', 0.1132791057437996)"
      ]
     },
     "execution_count": 186,
     "metadata": {},
     "output_type": "execute_result"
    }
   ],
   "source": [
    "# BIGRAM TAGGER \n",
    "\n",
    "bigram_tagger = nltk.BigramTagger(train_sents)\n",
    "bigram = 'Bigram Tagger performance:', bigram_tagger.evaluate(test_sents) # Sparse Data problem \n",
    "bigram"
   ]
  },
  {
   "cell_type": "code",
   "execution_count": 187,
   "metadata": {},
   "outputs": [
    {
     "data": {
      "text/plain": [
       "('Unigram with backoff default tagger:', 0.8785368531363841)"
      ]
     },
     "execution_count": 187,
     "metadata": {},
     "output_type": "execute_result"
    }
   ],
   "source": [
    "# UNIGRAM TAGGER with backoff default tagger\n",
    "\n",
    "baseline_unigram_tagger = nltk.UnigramTagger(train_sents, \n",
    "                                     backoff=nltk.DefaultTagger('NN')) # Which is the most common \n",
    "unigram_backoff = 'Unigram with backoff default tagger:', baseline_unigram_tagger.evaluate(test_sents)\n",
    "unigram_backoff"
   ]
  },
  {
   "cell_type": "code",
   "execution_count": 188,
   "metadata": {},
   "outputs": [
    {
     "data": {
      "text/plain": [
       "('Bigram with backoff default tagger:', 0.7834722291531514)"
      ]
     },
     "execution_count": 188,
     "metadata": {},
     "output_type": "execute_result"
    }
   ],
   "source": [
    "# BIGRAM TAGGER with backoff default tagger \n",
    "\n",
    "baseline_bigram_tagger = nltk.BigramTagger(train_sents, \n",
    "                                          backoff = nltk.DefaultTagger('NN'))\n",
    "bigram_backoff = 'Bigram with backoff default tagger:', baseline_bigram_tagger.evaluate(test_sents)\n",
    "bigram_backoff"
   ]
  },
  {
   "cell_type": "code",
   "execution_count": 272,
   "metadata": {},
   "outputs": [
    {
     "name": "stdout",
     "output_type": "stream",
     "text": [
      " ('Unigram Tagger performance:', 0.8608213982733669) \n",
      " ('Bigram Tagger performance:', 0.1132791057437996) \n",
      " ('Unigram with backoff default tagger:', 0.8785368531363841) \n",
      " ('Bigram with backoff default tagger:', 0.7834722291531514)\n"
     ]
    }
   ],
   "source": [
    "# SUMMARY of all the model trained \n",
    "\n",
    "print('',unigram,'\\n', bigram, '\\n', unigram_backoff, '\\n', bigram_backoff )"
   ]
  },
  {
   "cell_type": "markdown",
   "metadata": {},
   "source": [
    "#### II. Repeat the backoff tagging with your RE tagger in place of the default tagger, and compare the results."
   ]
  },
  {
   "cell_type": "code",
   "execution_count": 193,
   "metadata": {},
   "outputs": [
    {
     "data": {
      "text/plain": [
       "('Unigram with backoff re tagger:', 0.9238983981236588)"
      ]
     },
     "execution_count": 193,
     "metadata": {},
     "output_type": "execute_result"
    }
   ],
   "source": [
    "regexp_tagger = nltk.RegexpTagger(patterns)\n",
    "unigram_retag = nltk.UnigramTagger(train_sents,\n",
    "                                  backoff = regexp_tagger ) # The model trained during task I ( Regular expression tagger)\n",
    "\n",
    "unigram_retag_print = ('Unigram with backoff re tagger:', unigram_retag.evaluate(test_sents))\n",
    "unigram_retag_print"
   ]
  },
  {
   "cell_type": "code",
   "execution_count": 194,
   "metadata": {},
   "outputs": [
    {
     "data": {
      "text/plain": [
       "('Bigram with backoff re tagger:', 0.8962523079994011)"
      ]
     },
     "execution_count": 194,
     "metadata": {},
     "output_type": "execute_result"
    }
   ],
   "source": [
    "bigram_retag = nltk.BigramTagger(train_sents,\n",
    "                                backoff = regexp_tagger )\n",
    "\n",
    "bigram_retag_print = ('Bigram with backoff re tagger:', bigram_retag.evaluate(test_sents))\n",
    "bigram_retag_print"
   ]
  },
  {
   "cell_type": "code",
   "execution_count": 199,
   "metadata": {},
   "outputs": [
    {
     "name": "stdout",
     "output_type": "stream",
     "text": [
      " ('Unigram Tagger performance:', 0.8608213982733669) \n",
      " ('Bigram Tagger performance:', 0.1132791057437996) \n",
      " ('Unigram with backoff default tagger:', 0.8785368531363841) \n",
      " ('Bigram with backoff default tagger:', 0.7834722291531514)\n",
      " ('Unigram with backoff re tagger:', 0.9238983981236588) \n",
      " ('Bigram with backoff re tagger:', 0.8962523079994011)\n"
     ]
    }
   ],
   "source": [
    "# COMPARE THE RESULTS\n",
    "\n",
    "print('',unigram,'\\n', bigram, '\\n', unigram_backoff, '\\n', bigram_backoff )\n",
    "print('',unigram_retag_print,'\\n',bigram_retag_print)"
   ]
  },
  {
   "cell_type": "markdown",
   "metadata": {},
   "source": [
    "#### III. A substantial number of items in the treebank corpus are tagged as -NONE-.  Extract a random sample of 50 of these items and propose reasons why they have not been classified into any grammatical categories."
   ]
  },
  {
   "cell_type": "code",
   "execution_count": 256,
   "metadata": {},
   "outputs": [
    {
     "name": "stdout",
     "output_type": "stream",
     "text": [
      "-NONE- [('*-1', 1123), ('0', 1099), ('*', 965), ('*T*-1', 806), ('*U*', 744), ('*-2', 372), ('*T*-2', 345), ('*-3', 130), ('*T*-3', 97), ('*ICH*-1', 70), ('*?*', 45), ('*-4', 34), ('*ICH*-2', 34), ('*RNR*-1', 34), ('*EXP*-1', 33), ('*T*-4', 23), ('*ICH*-3', 13), ('*-5', 11), ('*EXP*-2', 8), ('*T*-5', 5), ('*ICH*-4', 5), ('*RNR*-2', 5), ('*-6', 4), ('*-7', 4), ('*-52', 4), ('*-25', 3), ('*T*-51', 3), ('*EXP*-3', 3), ('*-64', 3), ('*-73', 3), ('*-80', 3), ('*PPA*-3', 3), ('*T*-6', 2), ('*T*-7', 2), ('*T*-8', 2), ('*-8', 2), ('*-9', 2), ('*T*-9', 2), ('*T*-10', 2), ('*-10', 2), ('*T*-11', 2), ('*-11', 2), ('*-12', 2), ('*T*-12', 2), ('*T*-13', 2), ('*T*-14', 2), ('*T*-15', 2), ('*RNR*-4', 2), ('*-13', 2), ('*-14', 2)]\n"
     ]
    }
   ],
   "source": [
    "# modify the findtags function to return 50 most common\n",
    "\n",
    "def findtags(tag_prefix, tagged_text):\n",
    "    cfd = nltk.ConditionalFreqDist((tag, word) for (word, tag) in tagged_text\n",
    "                                  if tag.startswith(tag_prefix))\n",
    "    return dict((tag, cfd[tag].most_common(50)) for tag in cfd.conditions())\n",
    "\n",
    "# Obtain 50 -NONE- tags\n",
    "tag('-NONE-')"
   ]
  },
  {
   "cell_type": "code",
   "execution_count": 3,
   "metadata": {},
   "outputs": [
    {
     "name": "stdout",
     "output_type": "stream",
     "text": [
      "['A', 'form', 'of', 'asbestos', 'once', 'used', '*', '*', 'to', 'make', 'Kent', 'cigarette', 'filters', 'has', 'caused', 'a', 'high', 'percentage', 'of', 'cancer', 'deaths', 'among', 'a', 'group', 'of', 'workers', 'exposed', '*', 'to', 'it', 'more', 'than', '30', 'years', 'ago', ',', 'researchers', 'reported', '0', '*T*-1', '.']\n",
      "['The', 'asbestos', 'fiber', ',', 'crocidolite', ',', 'is', 'unusually', 'resilient', 'once', 'it', 'enters', 'the', 'lungs', ',', 'with', 'even', 'brief', 'exposures', 'to', 'it', 'causing', 'symptoms', 'that', '*T*-1', 'show', 'up', 'decades', 'later', ',', 'researchers', 'said', '0', '*T*-2', '.']\n",
      "['``', 'We', 'have', 'no', 'useful', 'information', 'on', 'whether', 'users', 'are', 'at', 'risk', ',', \"''\", 'said', '*T*-1', 'James', 'A.', 'Talcott', 'of', 'Boston', \"'s\", 'Dana-Farber', 'Cancer', 'Institute', '.']\n",
      "['From', '1953', 'to', '1955', ',', '9.8', 'billion', 'Kent', 'cigarettes', 'with', 'the', 'filters', 'were', 'sold', '*-3', ',', 'the', 'company', 'said', '0', '*T*-1', '.']\n",
      "['The', 'total', 'of', '18', 'deaths', 'from', 'malignant', 'mesothelioma', ',', 'lung', 'cancer', 'and', 'asbestosis', 'was', 'far', 'higher', 'than', '*', 'expected', '*?*', ',', 'the', 'researchers', 'said', '0', '*T*-1', '.']\n",
      "['``', 'The', 'morbidity', 'rate', 'is', 'a', 'striking', 'finding', 'among', 'those', 'of', 'us', 'who', '*T*-5', 'study', 'asbestos-related', 'diseases', ',', \"''\", 'said', '*T*-1', 'Dr.', 'Talcott', '.']\n",
      "['The', 'plant', ',', 'which', '*T*-1', 'is', 'owned', '*-4', 'by', 'Hollingsworth', '&', 'Vose', 'Co.', ',', 'was', 'under', 'contract', '*ICH*-2', 'with', 'Lorillard', '*', 'to', 'make', 'the', 'cigarette', 'filters', '.']\n",
      "['The', 'finding', 'probably', 'will', 'support', 'those', 'who', '*T*-6', 'argue', 'that', 'the', 'U.S.', 'should', 'regulate', 'the', 'class', 'of', 'asbestos', 'including', 'crocidolite', 'more', 'stringently', 'than', 'the', 'common', 'kind', 'of', 'asbestos', ',', 'chrysotile', ',', 'found', '*', 'in', 'most', 'schools', 'and', 'other', 'buildings', ',', 'Dr.', 'Talcott', 'said', '0', '*T*-1', '.']\n",
      "['The', 'U.S.', 'is', 'one', 'of', 'the', 'few', 'industrialized', 'nations', 'that', '*T*-7', 'does', \"n't\", 'have', 'a', 'higher', 'standard', 'of', 'regulation', 'for', 'the', 'smooth', ',', 'needle-like', 'fibers', 'such', 'as', 'crocidolite', 'that', '*T*-1', 'are', 'classified', '*-5', 'as', 'amphobiles', ',', 'according', 'to', 'Brooke', 'T.', 'Mossman', ',', 'a', 'professor', 'of', 'pathlogy', 'at', 'the', 'University', 'of', 'Vermont', 'College', 'of', 'Medicine', '.']\n",
      "['Areas', 'of', 'the', 'factory', '*ICH*-2', 'were', 'particularly', 'dusty', 'where', 'the', 'crocidolite', 'was', 'used', '*-8', '*T*-1', '.']\n",
      "['Workers', 'described', '``', 'clouds', 'of', 'blue', 'dust', \"''\", 'that', '*T*-1', 'hung', 'over', 'parts', 'of', 'the', 'factory', ',', 'even', 'though', 'exhaust', 'fans', 'ventilated', 'the', 'area', '.']\n",
      "['``', 'There', \"'s\", 'no', 'question', 'that', 'some', 'of', 'those', 'workers', 'and', 'managers', 'contracted', 'asbestos-related', 'diseases', ',', \"''\", 'said', '*T*-1', 'Darrell', 'Phillips', ',', 'vice', 'president', 'of', 'human', 'resources', 'for', 'Hollingsworth', '&', 'Vose', '.']\n",
      "['Nevertheless', ',', 'said', '*T*-1', 'Brenda', 'Malizia', 'Negus', ',', 'editor', 'of', 'Money', 'Fund', 'Report', ',', 'yields', '``', 'may', 'blip', 'up', 'again', 'before', 'they', 'blip', 'down', \"''\", 'because', 'of', 'recent', 'rises', 'in', 'short-term', 'interest', 'rates', '.']\n",
      "['Until', 'Congress', 'acts', ',', 'the', 'government', 'has', \"n't\", 'any', 'authority', '*', 'to', 'issue', 'new', 'debt', 'obligations', 'of', 'any', 'kind', ',', 'the', 'Treasury', 'said', '0', '*T*-1', '.']\n",
      "['Legislation', '0', '*T*-1', 'to', 'lift', 'the', 'debt', 'ceiling', 'is', 'ensnarled', '*-11', 'in', 'the', 'fight', 'over', '*', 'cutting', 'capital-gains', 'taxes', '.']\n",
      "['When', 'it', \"'s\", 'time', 'for', 'their', 'biannual', 'powwow', '*T*-1', ',', 'the', 'nation', \"'s\", 'manufacturing', 'titans', 'typically', 'jet', 'off', 'to', 'the', 'sunny', 'confines', 'of', 'resort', 'towns', 'like', 'Boca', 'Raton', 'and', 'Hot', 'Springs', '.']\n",
      "['The', 'idea', ',', 'of', 'course', ':', '*', 'to', 'prove', 'to', '125', 'corporate', 'decision', 'makers', 'that', 'the', 'buckle', 'on', 'the', 'Rust', 'Belt', 'is', \"n't\", 'so', 'rusty', 'after', 'all', ',', 'that', 'it', \"'s\", 'a', 'good', 'place', '0', 'for', 'a', 'company', 'to', 'expand', '*T*-1', '.']\n",
      "['On', 'the', 'receiving', 'end', 'of', 'the', 'message', 'were', '*T*-1', 'officials', 'from', 'giants', 'like', 'Du', 'Pont', 'and', 'Maytag', ',', 'along', 'with', 'lesser', 'knowns', 'like', 'Trojan', 'Steel', 'and', 'the', 'Valley', 'Queen', 'Cheese', 'Factory', '.']\n",
      "['*-2', 'Knowing', 'a', 'tasty', '--', 'and', 'free', '--', 'meal', 'when', 'they', 'eat', 'one', '*T*-1', ',', 'the', 'executives', 'gave', 'the', 'chefs', 'a', 'standing', 'ovation', '.']\n",
      "['The', 'new', 'ad', 'plan', 'from', 'Newsweek', ',', 'a', 'unit', 'of', 'the', 'Washington', 'Post', 'Co.', ',', 'is', 'the', 'second', 'incentive', 'plan', '0', 'the', 'magazine', 'has', 'offered', 'advertisers', '*T*-1', 'in', 'three', 'years', '.']\n",
      "['Newsweek', 'said', '0', 'it', 'will', 'introduce', 'the', 'Circulation', 'Credit', 'Plan', ',', 'which', '*T*-1', 'awards', 'space', 'credits', '*ICH*-2', 'to', 'advertisers', 'on', '``', 'renewal', 'advertising', '.', \"''\"]\n",
      "['The', 'magazine', 'will', 'reward', 'with', '``', 'page', 'bonuses', \"''\", 'advertisers', 'who', 'in', '1990', '*T*-1', 'meet', 'or', 'exceed', 'their', '1989', 'spending', ',', 'as', 'long', 'as', 'they', 'spent', '$', '325,000', '*U*', 'in', '1989', 'and', '$', '340,000', '*U*', 'in', '1990', '.']\n",
      "['``', 'What', '*T*-14', 'matters', 'is', 'what', 'advertisers', 'are', 'paying', '*T*-15', 'per', 'page', ',', 'and', 'in', 'that', 'department', 'we', 'are', 'doing', 'fine', 'this', 'fall', ',', \"''\", 'said', '*T*-1', 'Mr.', 'Spoon', '.']\n",
      "['The', 'move', 'leaves', 'United', 'Illuminating', 'Co.', 'and', 'Northeast', 'Utilities', 'as', 'the', 'remaining', 'outside', 'bidders', 'for', 'PS', 'of', 'New', 'Hampshire', ',', 'which', '*T*-1', 'also', 'has', 'proposed', 'an', 'internal', 'reorganization', 'plan', 'in', 'Chapter', '11', 'bankruptcy', 'proceedings', 'under', 'which', 'it', 'would', 'remain', 'an', 'independent', 'company', '*T*-2', '.']\n",
      "['``', 'When', 'we', 'evaluated', '*-2', 'raising', 'our', 'bid', '*T*-1', ',', 'the', 'risks', 'seemed', 'substantial', 'and', 'persistent', 'over', 'the', 'next', 'five', 'years', ',', 'and', 'the', 'rewards', 'seemed', 'a', 'long', 'way', 'out', '.']\n",
      "['That', 'got', 'hard', '0', '*', 'to', 'take', '*T*-1', ',', \"''\", 'he', 'added', '*T*-2', '.']\n",
      "['No', 'matter', 'who', '*T*-16', 'owns', 'PS', 'of', 'New', 'Hampshire', ',', 'after', 'it', 'emerges', 'from', 'bankruptcy', 'proceedings', 'its', 'rates', 'will', 'be', 'among', 'the', 'highest', 'in', 'the', 'nation', ',', 'he', 'said', '0', '*T*-1', '.']\n",
      "['it', 'was', 'just', 'another', 'one', 'of', 'the', 'risk', 'factors', \"''\", 'that', '*T*-17', 'led', 'to', 'the', 'company', \"'s\", 'decision', '*', 'to', 'withdraw', 'from', 'the', 'bidding', ',', 'he', 'added', '0', '*T*-1', '.']\n",
      "['The', 'fact', 'that', 'New', 'England', 'proposed', 'lower', 'rate', 'increases', '--', '4.8', '%', '*U*', 'over', 'seven', 'years', 'against', 'around', '5.5', '%', 'boosts', 'proposed', '*', 'by', 'the', 'other', 'two', 'outside', 'bidders', '--', 'complicated', 'negotiations', 'with', 'state', 'officials', ',', 'Mr.', 'Ross', 'asserted', '0', '*T*-1', '.']\n",
      "['``', 'Now', 'the', 'field', 'is', 'less', 'cluttered', ',', \"''\", 'he', 'added', '*T*-1', '.']\n",
      "['Commonwealth', 'Edison', 'now', 'faces', 'an', 'additional', 'court-ordered', 'refund', 'on', 'its', 'summer\\\\/winter', 'rate', 'differential', 'collections', 'that', 'the', 'Illinois', 'Appellate', 'Court', 'has', 'estimated', '*T*-1', 'at', '$', '140', 'million', '*U*', '.']\n",
      "['Commonwealth', 'Edison', 'is', 'seeking', 'about', '$', '245', 'million', '*U*', 'in', 'rate', 'increases', '0', '*T*-1', 'to', 'pay', 'for', 'Braidwood', '2', '.']\n",
      "['Japan', \"'s\", 'domestic', 'sales', 'of', 'cars', ',', 'trucks', 'and', 'buses', 'in', 'October', 'rose', '18', '%', 'from', 'a', 'year', 'earlier', 'to', '500,004', 'units', ',', 'a', 'record', 'for', 'the', 'month', ',', 'the', 'Japan', 'Automobile', 'Dealers', \"'\", 'Association', 'said', '0', '*T*-1', '.']\n",
      "['The', 'new', 'plant', ',', 'located', '*', 'in', 'Chinchon', 'about', '60', 'miles', 'from', 'Seoul', ',', 'will', 'help', '*-2', 'meet', 'increasing', 'and', 'diversifying', 'demand', 'for', 'control', 'products', 'in', 'South', 'Korea', ',', 'the', 'company', 'said', '0', '*T*-1', '.']\n",
      "['Documents', 'filed', '*', 'with', 'the', 'Securities', 'and', 'Exchange', 'Commission', 'on', 'the', 'pending', 'spinoff', 'disclosed', 'that', 'Cray', 'Research', 'Inc.', 'will', 'withdraw', 'the', 'almost', '$', '100', 'million', '*U*', 'in', 'financing', '0', 'it', 'is', 'providing', 'the', 'new', 'firm', '*T*-1', 'if', 'Mr.', 'Cray', 'leaves', 'or', 'if', 'the', 'product-design', 'project', '0', 'he', 'heads', '*T*-2', 'is', 'scrapped', '*-18', '.']\n",
      "['While', 'many', 'of', 'the', 'risks', 'were', 'anticipated', '*-19', 'when', 'Minneapolis-based', 'Cray', 'Research', 'first', 'announced', 'the', 'spinoff', 'in', 'May', '*T*-1', ',', 'the', 'strings', '0', 'it', 'attached', '*T*-2', 'to', 'the', 'financing', 'had', \"n't\", 'been', 'made', '*-3', 'public', 'until', 'yesterday', '.']\n",
      "['``', 'We', 'did', \"n't\", 'have', 'much', 'of', 'a', 'choice', ',', \"''\", 'Cray', 'Computer', \"'s\", 'chief', 'financial', 'officer', ',', 'Gregory', 'Barnum', ',', 'said', '*T*-1', 'in', 'an', 'interview', '.']\n",
      "['``', 'It', 'has', '*-2', 'to', 'be', 'considered', '*-21', 'as', 'an', 'additional', 'risk', 'for', 'the', 'investor', ',', \"''\", 'said', '*T*-1', 'Gary', 'P.', 'Smaby', 'of', 'Smaby', 'Group', 'Inc.', ',', 'Minneapolis', '.']\n",
      "['``', 'Cray', 'Computer', 'will', 'be', 'a', 'concept', 'stock', ',', \"''\", 'he', 'said', '*T*-1', '.']\n",
      "['The', 'SEC', 'documents', 'describe', 'those', 'chips', ',', 'which', '*T*-1', 'are', 'made', '*-22', 'of', 'gallium', 'arsenide', ',', 'as', '*-2', 'being', 'so', 'fragile', 'and', 'minute', '0', 'they', 'will', 'require', 'special', 'robotic', 'handling', 'equipment', '.']\n",
      "['Pro-forma', 'balance', 'sheets', 'clearly', 'show', 'why', 'Cray', 'Research', 'favored', 'the', 'spinoff', '*T*-1', '.']\n",
      "['Without', 'the', 'Cray-3', 'research', 'and', 'development', 'expenses', ',', 'the', 'company', 'would', 'have', 'been', 'able', '*-2', 'to', 'report', 'a', 'profit', 'of', '$', '19.3', 'million', '*U*', '*ICH*-3', 'for', 'the', 'first', 'half', 'of', '1989', 'rather', 'than', 'the', '$', '5.9', 'million', '*U*', '0', 'it', 'posted', '*T*-1', '.']\n",
      "['Mr.', 'Cray', ',', 'who', '*T*-1', 'could', \"n't\", 'be', 'reached', '*-24', 'for', 'comment', ',', 'will', 'work', 'for', 'the', 'new', 'Colorado', 'Springs', ',', 'Colo.', ',', 'company', 'as', 'an', 'independent', 'contractor', '--', 'the', 'arrangement', '0', 'he', 'had', '*T*-2', 'with', 'Cray', 'Research', '.']\n",
      "['However', ',', 'five', 'other', 'countries', '--', 'China', ',', 'Thailand', ',', 'India', ',', 'Brazil', 'and', 'Mexico', '--', 'will', 'remain', 'on', 'that', 'so-called', 'priority', 'watch', 'list', 'as', 'a', 'result', 'of', 'an', 'interim', 'review', ',', 'U.S.', 'Trade', 'Representative', 'Carla', 'Hills', 'announced', '0', '*T*-1', '.']\n",
      "['Mrs.', 'Hills', 'said', '0', 'many', 'of', 'the', '25', 'countries', 'that', 'she', 'placed', '*T*-1', 'under', 'varying', 'degrees', 'of', 'scrutiny', 'have', 'made', '``', 'genuine', 'progress', \"''\", 'on', 'this', 'touchy', 'issue', '.']\n",
      "['Seoul', 'also', 'has', 'instituted', 'effective', 'search-and-seizure', 'procedures', '0', '*', 'to', 'aid', 'these', 'teams', '*T*-2', ',', 'she', 'said', '0', '*T*-1', '.']\n",
      "['Taiwan', 'has', 'improved', 'its', 'standing', 'with', 'the', 'U.S.', 'by', '*-2', 'initialing', 'a', 'bilateral', 'copyright', 'agreement', ',', 'amending', 'its', 'trademark', 'law', 'and', 'introducing', 'legislation', '0', '*', 'to', 'protect', 'foreign', 'movie', 'producers', 'from', 'unauthorized', 'showings', 'of', 'their', 'films', '*T*-1', '.']\n",
      "['Saudi', 'Arabia', ',', 'for', 'its', 'part', ',', 'has', 'vowed', '*-2', 'to', 'enact', 'a', 'copyright', 'law', 'compatible', 'with', 'international', 'standards', 'and', '*-2', 'to', 'apply', 'the', 'law', 'to', 'computer', 'software', 'as', 'well', 'as', 'to', 'literary', 'works', ',', 'Mrs.', 'Hills', 'said', '0', '*T*-1', '.']\n",
      "['``', 'What', 'this', 'tells', 'us', '*T*-28', 'is', 'that', 'U.S.', 'trade', 'law', 'is', 'working', ',', \"''\", 'he', 'said', '*T*-1', '.']\n",
      "['He', 'said', '0', 'Mexico', 'could', 'be', 'one', 'of', 'the', 'next', 'countries', '0', '*T*-1', 'to', 'be', 'removed', '*-2', 'from', 'the', 'priority', 'list', 'because', 'of', 'its', 'efforts', '*', 'to', 'craft', 'a', 'new', 'patent', 'law', '.']\n",
      "['``', 'Argentina', 'aspires', '*-2', 'to', 'reach', 'a', 'reduction', 'of', '50', '%', 'in', 'the', 'value', 'of', 'its', 'external', 'debt', ',', \"''\", 'Mr.', 'Rapanelli', 'said', '*T*-1', 'through', 'his', 'spokesman', ',', 'Miguel', 'Alurralde', '.']\n",
      "['Mr.', 'Rapanelli', 'recently', 'has', 'said', '0', 'the', 'government', 'of', 'President', 'Carlos', 'Menem', ',', 'who', '*T*-29', 'took', 'office', 'July', '8', ',', 'feels', '0', 'a', 'significant', 'reduction', 'of', 'principal', 'and', 'interest', 'is', 'the', 'only', 'way', '0', 'the', 'debt', 'problem', 'may', 'be', 'solved', '*-31', '*T*-1', '.']\n",
      "['But', 'Apple', 'II', 'was', 'a', 'major', 'advance', 'from', 'Apple', 'I', ',', 'which', '*T*-1', 'was', 'built', '*-33', 'in', 'a', 'garage', 'by', 'Stephen', 'Wozniak', 'and', 'Steven', 'Jobs', 'for', 'hobbyists', 'such', 'as', 'the', 'Homebrew', 'Computer', 'Club', '.']\n",
      "['Japanese', 'investors', 'nearly', 'single-handedly', 'bought', 'up', 'two', 'new', 'mortgage', 'securities-based', 'mutual', 'funds', 'totaling', '$', '701', 'million', '*U*', ',', 'the', 'U.S.', 'Federal', 'National', 'Mortgage', 'Association', 'said', '0', '*T*-1', '.']\n",
      "['The', 'purchases', 'show', 'the', 'strong', 'interest', 'of', 'Japanese', 'investors', 'in', 'U.S.', 'mortgage-based', 'instruments', ',', 'Fannie', 'Mae', \"'s\", 'chairman', ',', 'David', 'O.', 'Maxwell', ',', 'said', '0', '*T*-1', 'at', 'a', 'news', 'conference', '.']\n",
      "['By', '*', 'addressing', 'those', 'problems', ',', 'Mr.', 'Maxwell', 'said', '0', '*T*-1', ',', 'the', 'new', 'funds', 'have', 'become', '``', 'extremely', 'attractive', 'to', 'Japanese', 'and', 'other', 'investors', 'outside', 'the', 'U.S.', '.', \"''\"]\n",
      "['The', 'protracted', 'downturn', 'reflects', 'the', 'intensity', 'of', 'Bank', 'of', 'Japan', 'yen-support', 'intervention', 'since', 'June', ',', 'when', 'the', 'U.S.', 'currency', 'temporarily', 'surged', 'above', 'the', '150.00', 'yen', 'level', '*T*-1', '.']\n",
      "['Next', 'week', ',', 'the', 'Philippine', 'Fund', \"'s\", 'launch', 'will', 'be', 'capped', '*-46', 'by', 'a', 'visit', 'by', 'Philippine', 'President', 'Corazon', 'Aquino', '--', 'the', 'first', 'time', '0', 'a', 'head', 'of', 'state', 'has', 'kicked', 'off', 'an', 'issue', 'at', 'the', 'Big', 'Board', 'here', '*T*-1', '.']\n",
      "['``', 'Anything', \"'s\", 'possible', '--', 'how', 'about', 'the', 'New', 'Guinea', 'Fund', '?', \"''\", 'quips', '*T*-1', 'George', 'Foot', ',', 'a', 'managing', 'partner', 'at', 'Newgate', 'Management', 'Associates', 'of', 'Northampton', ',', 'Mass', '.']\n",
      "['The', 'recent', 'explosion', 'of', 'country', 'funds', 'mirrors', 'the', '``', 'closed-end', 'fund', 'mania', \"''\", 'of', 'the', '1920s', ',', 'Mr.', 'Foot', 'says', '0', '*T*-2', ',', 'when', 'narrowly', 'focused', 'funds', 'grew', 'wildly', 'popular', '*T*-1', '.']\n",
      "['Behind', 'all', 'the', 'hoopla', 'is', '*T*-1', 'some', 'heavy-duty', 'competition', '.']\n",
      "['Country', 'funds', 'offer', 'an', 'easy', 'way', '0', '*', 'to', 'get', 'a', 'taste', 'of', 'foreign', 'stocks', 'without', 'the', 'hard', 'research', 'of', '*', 'seeking', 'out', 'individual', 'companies', '*T*-1', '.']\n",
      "['When', 'the', 'stock', 'market', 'dropped', 'nearly', '7', '%', 'Oct.', '13', '*T*-1', ',', 'for', 'instance', ',', 'the', 'Mexico', 'Fund', 'plunged', 'about', '18', '%', 'and', 'the', 'Spain', 'Fund', 'fell', '16', '%', '.']\n",
      "['The', 'reason', ':', 'Share', 'prices', 'of', 'many', 'of', 'these', 'funds', 'this', 'year', 'have', 'climbed', 'much', 'more', 'sharply', 'than', 'the', 'foreign', 'stocks', '0', 'they', 'hold', '*T*-1', '.']\n",
      "['It', \"'s\", 'probably', 'worth', '*', 'paying', 'a', 'premium', 'for', 'funds', 'that', '*T*-42', 'invest', 'in', 'markets', 'that', '*T*-43', 'are', 'partially', 'closed', 'to', 'foreign', 'investors', ',', 'such', 'as', 'South', 'Korea', ',', 'some', 'specialists', 'say', '0', '*T*-1', '.']\n",
      "['``', 'I', \"'m\", 'very', 'alarmed', '*-2', 'to', 'see', 'these', 'rich', 'valuations', ',', \"''\", 'says', '*T*-1', 'Smith', 'Barney', \"'s\", 'Mr.', 'Porter', '.']\n",
      "['The', 'newly', 'fattened', 'premiums', 'reflect', 'the', 'increasingly', 'global', 'marketing', 'of', 'some', 'country', 'funds', ',', 'Mr.', 'Porter', 'suggests', '0', '*T*-1', '.']\n",
      "['``', 'There', 'may', 'be', 'an', 'international', 'viewpoint', 'cast', '*-2', 'on', 'the', 'funds', 'listed', '*', 'here', ',', \"''\", 'Mr.', 'Porter', 'says', '*T*-1', '.']\n",
      "['If', 'the', 'debts', 'are', 'repaid', '*-49', ',', 'it', 'could', 'clear', 'the', 'way', '0', 'for', 'Soviet', 'bonds', 'to', 'be', 'sold', '*-50', 'in', 'the', 'U.S.', '*T*-1', '.']\n",
      "['But', 'a', 'Soviet', 'bank', 'here', 'would', 'be', 'crippled', '*-51', 'unless', 'Moscow', 'found', 'a', 'way', '0', '*', 'to', 'settle', 'the', '$', '188', 'million', '*U*', 'debt', ',', 'which', '*T*-1', 'was', 'lent', '*-52', 'to', 'the', 'country', \"'s\", 'short-lived', 'democratic', 'Kerensky', 'government', 'before', 'the', 'Communists', 'seized', 'power', 'in', '1917', '*T*-2', '.']\n",
      "['``', 'What', 'sector', 'is', '*T*-46', 'stepping', 'forward', '*-2', 'to', 'pick', 'up', 'the', 'slack', '?', \"''\", 'he', 'asked', '*T*-1', '.']\n",
      "['So', 'did', '*?*', '*T*-1', 'the', 'Federal', 'Reserve', 'Board', \"'s\", 'industrial-production', 'index', '.']\n",
      "['``', 'This', 'conforms', 'to', 'the', '`', 'soft', 'landing', \"'\", 'scenario', ',', \"''\", 'said', '*T*-1', 'Elliott', 'Platt', ',', 'an', 'economist', 'at', 'Donaldson', ',', 'Lufkin', '&', 'Jenrette', 'Securities', 'Corp', '.']\n",
      "['Shipments', 'have', 'been', 'relatively', 'level', 'since', 'January', ',', 'the', 'Commerce', 'Department', 'noted', '0', '*T*-1', '.']\n",
      "['The', 'goverment', 'counts', 'money', 'as', 'it', 'is', 'spent', '*-53', ';', 'Dodge', 'counts', 'contracts', 'when', 'they', 'are', 'awarded', '*-54', '*T*-1', '.']\n"
     ]
    },
    {
     "name": "stdout",
     "output_type": "stream",
     "text": [
      "['For', 'the', 'fifth', 'consecutive', 'month', ',', 'purchasing', 'managers', 'said', '0', 'prices', 'for', 'the', 'goods', '0', 'they', 'purchased', '*T*-1', 'fell', '.']\n",
      "['When', 'demand', 'is', 'stronger', 'than', 'suppliers', 'can', 'handle', '*T*-1', 'and', 'delivery', 'times', 'lengthen', '*T*-1', ',', 'prices', 'tend', '*-2', 'to', 'rise', '.']\n",
      "['When', 'demand', 'is', 'stronger', 'than', 'suppliers', 'can', 'handle', '*T*-1', 'and', 'delivery', 'times', 'lengthen', '*T*-1', ',', 'prices', 'tend', '*-2', 'to', 'rise', '.']\n",
      "['It', 'found', 'that', 'of', 'the', '73', '%', 'who', '*T*-51', 'import', ',', '10', '%', '*T*-1', 'said', '0', 'they', 'imported', 'more', 'in', 'October', 'and', '12', '%', '*T*-1', 'said', '0', 'they', 'imported', 'less', 'than', 'the', 'previous', 'month', '.']\n",
      "['It', 'found', 'that', 'of', 'the', '73', '%', 'who', '*T*-51', 'import', ',', '10', '%', '*T*-1', 'said', '0', 'they', 'imported', 'more', 'in', 'October', 'and', '12', '%', '*T*-1', 'said', '0', 'they', 'imported', 'less', 'than', 'the', 'previous', 'month', '.']\n",
      "['``', 'It', \"'s\", 'an', 'odd', 'thing', '0', '*', 'to', 'put', '*T*-1', 'on', 'the', 'list', ',', \"''\", 'Mr.', 'Bretz', 'noted', '*T*-2', '.']\n",
      "['Here', 'are', '*T*-1', 'the', 'Commerce', 'Department', \"'s\", 'figures', 'for', 'construction', 'spending', 'in', 'billions', 'of', 'dollars', 'at', 'seasonally', 'adjusted', 'annual', 'rates', '.']\n",
      "['Here', 'are', '*T*-1', 'the', 'Commerce', 'Department', \"'s\", 'latest', 'figures', 'for', 'manufacturers', 'in', 'billions', 'of', 'dollars', ',', 'seasonally', 'adjusted', '.']\n",
      "['In', 'Robert', 'Whiting', \"'s\", '``', 'You', 'Gotta', 'Have', 'Wa', \"''\", '-LRB-', 'Macmillan', ',', '339', 'pages', ',', '$', '17.95', '*U*', '-RRB-', ',', 'the', 'Beatles', 'give', 'way', 'to', 'baseball', ',', 'in', 'the', 'Nipponese', 'version', '0', 'we', 'would', 'be', 'hard', 'put', '*-2', 'to', 'call', '*T*-1', 'a', '``', 'game', '.', \"''\"]\n",
      "['``', 'You', 'Gotta', 'Have', 'Wa', \"''\", 'is', 'the', 'often', 'amusing', 'chronicle', 'of', 'how', 'American', 'ballplayers', ',', 'rationed', '*', 'to', 'two', 'per', 'team', ',', 'fare', '*T*-1', 'in', 'Japan', '.']\n",
      "['Despite', 'the', 'enormous', 'sums', 'of', 'money', '0', 'they', \"'re\", 'paid', '*T*-1', '*-2', 'to', 'stand', 'up', 'at', 'a', 'Japanese', 'plate', ',', 'a', 'good', 'number', 'decide', '0', 'it', \"'s\", 'not', 'worth', 'it', 'and', 'run', 'for', 'home', '.']\n",
      "['In', 'sometimes', 'amusing', ',', 'more', 'often', 'supercilious', ',', 'even', 'vicious', 'passages', ',', 'Mr.', 'Katzenstein', 'describes', 'how', 'Sony', 'invades', 'even', 'the', 'most', 'mundane', 'aspects', 'of', 'its', 'workers', \"'\", 'lives', '--', 'at', 'the', 'regimented', 'office', ',', 'where', 'employees', 'are', 'assigned', '*-59', 'lunch', 'partners', '*T*-1', '--', 'and', 'at', '``', 'home', \"''\", 'in', 'the', 'austere', 'company', 'dormitory', 'run', '*', 'by', 'a', 'prying', 'caretaker', '*T*-2', '.']\n",
      "['Discos', 'and', 'private', 'clubs', 'are', 'exempt', 'from', 'the', 'ban', ',', 'and', 'smoking', 'will', 'be', 'permitted', '*-60', 'in', 'bars', 'except', 'during', 'meal', 'hours', ',', 'an', 'official', 'said', '0', '*T*-1', '.']\n",
      "['A', 'marketing', 'study', 'indicates', 'that', 'Hong', 'Kong', 'consumers', 'are', 'the', 'most', 'materialistic', 'in', 'the', '14', 'major', 'markets', 'where', 'the', 'survey', 'was', 'carried', 'out', '*T*-1', '.']\n",
      "['Yasser', 'Arafat', 'has', 'written', 'to', 'the', 'chairman', 'of', 'the', 'International', 'Olympic', 'Committee', '*-2', 'asking', 'him', '*-3', 'to', 'back', 'a', 'Palestinian', 'bid', '*', 'to', 'join', 'the', 'committee', ',', 'the', 'Palestine', 'Liberation', 'Organization', 'news', 'agency', 'WAFA', 'said', '0', '*T*-1', '.']\n",
      "['A', 'Beijing', 'food-shop', 'assistant', 'has', 'become', 'the', 'first', 'mainland', 'Chinese', '0', '*T*-2', 'to', 'get', 'AIDS', 'through', 'sex', ',', 'the', 'People', \"'s\", 'Daily', 'said', '0', '*T*-1', '.']\n",
      "['The', 'man', 'had', 'for', 'a', 'long', 'time', 'had', '``', 'a', 'chaotic', 'sex', 'life', ',', \"''\", 'including', 'relations', 'with', 'foreign', 'men', ',', 'the', 'newspaper', 'said', '0', '*T*-1', '.']\n",
      "['A', 'painting', 'by', 'August', 'Strindberg', 'set', 'a', 'Scandinavian', 'price', 'record', 'when', 'it', 'sold', 'at', 'auction', 'in', 'Stockholm', 'for', '$', '2.44', 'million', '*U*', '*T*-1', '.']\n",
      "['The', 'issue', 'will', 'be', 'swapped', '*-70', 'into', 'fixed-rate', 'U.S.', 'dollars', 'at', 'a', 'rate', '0', 'the', 'company', 'said', '0', '*T*-1', 'is', 'less', 'than', '9', '%', ';', 'a', 'spokesman', 'declined', '*-2', 'to', 'elaborate', '.']\n",
      "['So', 'would', '*?*', '*T*-1', 'the', 'Little', 'Tramp', ',', 'for', 'that', 'matter', '.']\n",
      "['On', 'Wall', 'Street', 'men', 'and', 'women', 'walk', 'with', 'great', 'purpose', ',', '*-2', 'noticing', 'one', 'another', 'only', 'when', 'they', 'jostle', 'for', 'cabs', '*T*-1', '.']\n",
      "['At', 'night', 'he', 'returns', 'to', 'the', 'condemned', 'building', '0', 'he', 'calls', '*T*-1', 'home', '.']\n",
      "['Then', ',', 'just', 'as', 'the', 'Tramp', 'is', 'given', '*-72', 'a', 'blind', 'girl', '0', '*', 'to', 'cure', '*T*-2', 'in', '``', 'City', 'Lights', ',', \"''\", 'the', 'Artist', 'is', 'put', '*-73', 'in', 'charge', 'of', '*-73', 'returning', 'a', 'two-year-old', 'waif', '-LRB-', 'Nicole', 'Alysia', '-RRB-', ',', 'whose', 'father', '*T*-1', 'has', 'been', 'murdered', '*-74', 'by', 'thugs', ',', 'to', 'her', 'mother', '.']\n",
      "['He', 'has', 'made', 'a', 'harsh', ',', 'brilliant', 'picture', '--', 'one', 'that', '*T*-70', \"'s\", 'captivating', '--', 'about', 'a', 'character', 'who', ',', '*-2', 'viewed', '*-3', 'from', 'the', 'most', 'sympathetic', 'angle', ',', '*T*-1', 'would', 'seem', 'disagreeable', '.']\n",
      "['Yet', 'this', 'woman', ',', 'Marie-Louise', 'Giraud', ',', 'carries', 'historical', 'significance', ',', 'both', 'as', 'one', 'of', 'the', 'last', 'women', '0', '*T*-1', 'to', 'be', 'executed', '*-2', 'in', 'France', 'and', 'as', 'a', 'symbol', 'of', 'the', 'Vichy', 'government', \"'s\", 'hypocrisy', '.']\n",
      "['There', 'is', 'very', 'little', '0', '*T*-1', 'to', 'recommend', '``', 'Old', 'Gringo', ',', \"''\", 'a', 'confused', 'rendering', 'of', 'the', 'Carlos', 'Fuentes', 'novel', 'of', 'the', 'Mexican', 'Revolution', '.']\n",
      "['This', 'is', 'the', 'year', '0', 'the', 'negative', 'ad', ',', 'for', 'years', 'a', 'secondary', 'presence', 'in', 'most', 'political', 'campaigns', ',', 'became', 'the', 'main', 'event', '*T*-1', '.']\n",
      "['``', 'Now', ',', \"''\", 'says', '*T*-1', 'Joseph', 'Napolitan', ',', 'a', 'pioneer', 'in', 'political', 'television', ',', '``', 'the', 'idea', 'is', '*', 'to', 'attack', 'first', ',', 'last', 'and', 'always', '.', \"''\"]\n",
      "['``', 'David', 'Dinkins', 'failed', '*-2', 'to', 'file', 'his', 'income', 'taxes', 'for', 'four', 'straight', 'years', ',', \"''\", 'says', '*T*-1', 'a', 'disembodied', 'male', 'voice', '.']\n",
      "['``', '*', 'Compare', 'two', 'candidates', 'for', 'mayor', ',', \"''\", 'says', '*T*-1', 'the', 'announcer', '.']\n",
      "['``', 'Funny', 'thing', ',', \"''\", 'says', '*T*-1', 'the', 'kicker', ',', '``', 'both', 'these', 'candidates', 'are', 'named', '*-2', 'Rudolph', 'Giuliani', '.', \"''\"]\n",
      "['Who', \"'s\", '*T*-1', 'telling', 'the', 'truth', '?']\n",
      "['And', ',', 'says', '0', '*T*-1', 'Mr.', 'Dinkins', ',', 'he', 'did', \"n't\", 'know', '0', 'the', 'man', '0', 'his', 'campaign', 'paid', '*T*-2', 'for', 'a', 'get-out-the-vote', 'effort', 'had', 'been', 'convicted', '*-3', 'of', 'kidnapping', '.']\n",
      "['But', ',', 'say', '0', '*T*-1', 'Mr.', 'Dinkins', \"'s\", 'managers', ',', 'he', 'did', 'have', 'an', 'office', 'and', 'his', 'organization', 'did', 'have', 'members', '.']\n",
      "['The', 'other', 'side', ',', 'he', 'argues', '0', '*T*-1', ',', '``', 'knows', '0', 'Giuliani', 'has', 'always', 'been', 'pro-choice', ',', 'even', 'though', 'he', 'has', 'personal', 'reservations', '.']\n",
      "['Democratic', 'Lt.', 'Gov.', 'Douglas', 'Wilder', 'opened', 'his', 'gubernatorial', 'battle', 'with', 'Republican', 'Marshall', 'Coleman', 'with', 'an', 'abortion', 'commercial', 'produced', '*', 'by', 'Frank', 'Greer', 'that', 'analysts', 'of', 'every', 'political', 'persuasion', 'agree', '0', '*T*-1', 'was', 'a', 'tour', 'de', 'force', '.']\n",
      "['Against', 'a', 'shot', 'of', 'Monticello', 'superimposed', '*', 'on', 'an', 'American', 'flag', ',', 'an', 'announcer', 'talks', 'about', 'the', '``', 'strong', 'tradition', 'of', 'freedom', 'and', 'individual', 'liberty', \"''\", 'that', 'Virginians', 'have', 'nurtured', '*T*-1', 'for', 'generations', '.']\n",
      "['Then', 'an', 'announcer', 'interjects', ':', '``', 'It', 'was', 'Douglas', 'Wilder', 'who', '*T*-78', 'introduced', 'a', 'bill', '0', '*T*-1', 'to', 'force', 'rape', 'victims', 'age', '13', 'and', 'younger', 'to', 'be', 'interrogated', '*-2', 'about', 'their', 'private', 'lives', 'by', 'lawyers', 'for', 'accused', 'rapists', '.']\n",
      "['So', 'the', 'next', 'time', '0', 'Mr.', 'Wilder', 'talks', 'about', 'the', 'rights', 'of', 'women', '*T*-1', ',', '*', 'ask', 'him', 'about', 'this', 'law', '0', 'he', 'tried', '*-3', 'to', 'pass', '*T*-2', '.', \"''\"]\n",
      "['``', 'People', 'have', 'grown', 'tired', 'of', 'these', 'ads', 'and', 'Coleman', 'has', 'gotten', 'the', 'stigma', 'of', '*', 'being', 'a', 'negative', 'campaigner', ',', \"''\", 'says', '*T*-1', 'Mark', 'Rozell', ',', 'a', 'political', 'scientist', 'at', 'Mary', 'Washington', 'College', '.']\n",
      "['``', '*', 'Remember', 'Pinocchio', '?', \"''\", 'says', '*T*-1', 'a', 'female', 'voice', '.']\n",
      "['The', 'only', 'fraud', 'involved', ',', 'cry', '*T*-1', 'Mr.', 'Courter', \"'s\", 'partisans', ',', 'is', 'the', 'Florio', 'commercial', 'itself', ',', 'and', 'so', 'the', 'Courter', 'campaign', 'has', 'responded', 'with', 'its', 'own', 'Pinocchio', 'commercial', ',', 'produced', '*', 'by', 'Mr.', 'Ailes', '.']\n",
      "['``', 'Who', '*T*-1', \"'s\", 'really', 'lying', '?', \"''\", 'asks', '*T*-2', 'a', 'female', 'voice', '.']\n",
      "['Who', '*T*-1', \"'s\", 'telling', 'the', 'truth', '?']\n",
      "['Stephen', 'Salmore', ',', 'a', 'political', 'scientist', 'at', 'New', 'Jersey', \"'s\", 'Eagleton', 'Institute', ',', 'says', '0', 'it', \"'s\", 'another', 'example', 'of', 'an', 'ad', 'that', '*T*-1', \"'s\", 'true', 'but', 'not', 'fully', 'accurate', '.']\n",
      "['These', 'nations', \"'\", 'internal', 'decisions', '``', 'will', 'be', 'made', '*-3', 'in', 'a', 'way', '0', '*', 'not', 'to', 'offend', 'their', 'largest', 'aid', 'donor', ',', 'largest', 'private', 'investor', 'and', 'largest', 'lender', '*T*-1', ',', \"''\", 'says', '0', '*T*-2', 'Richard', 'Drobnick', ',', 'director', 'of', 'the', 'international', 'business', 'and', 'research', 'program', 'at', 'the', 'University', 'of', 'Southern', 'California', \"'s\", 'Graduate', 'School', 'of', 'Business', '.']\n",
      "['Rather', ',', 'Japanese', 'investment', 'will', 'spur', 'integration', 'of', 'certain', 'sectors', ',', 'says', '0', '*T*-1', 'Kent', 'Calder', ',', 'a', 'specialist', 'in', 'East', 'Asian', 'economies', 'at', 'the', 'Woodrow', 'Wilson', 'School', 'for', 'Public', 'and', 'Internatonal', 'Affairs', 'at', 'Princeton', 'University', '.']\n",
      "['``', 'The', 'effect', 'will', 'be', '*', 'to', 'pull', 'Asia', 'together', 'not', 'as', 'a', 'common', 'market', 'but', 'as', 'an', 'integrated', 'production', 'zone', ',', \"''\", 'says', '0', '*T*-1', 'Goldman', 'Sachs', \"'s\", 'Mr.', 'Hormats', '.']\n",
      "['``', 'In', 'Asia', ',', 'as', 'in', 'Europe', ',', 'a', 'new', 'order', 'is', 'taking', 'shape', ',', \"''\", 'Mr.', 'Baker', 'said', '0', '*T*-1', '.']\n",
      "['``', 'No', 'one', 'wants', 'the', 'U.S.', 'to', 'pick', 'up', 'its', 'marbles', 'and', 'go', 'home', ',', \"''\", 'Mr.', 'Hormats', 'says', '*T*-1', '.']\n",
      "['``', 'They', 'do', \"n't\", 'want', 'Japan', 'to', 'monopolize', 'the', 'region', 'and', 'sew', 'it', 'up', ',', \"''\", 'says', '*T*-1', 'Chong-sik', 'Lee', ',', 'professor', 'of', 'East', 'Asian', 'politics', 'at', 'the', 'University', 'of', 'Pennsylvania', '.']\n",
      "['Virtually', 'word', 'for', 'word', ',', 'the', 'notes', 'matched', 'questions', 'and', 'answers', 'on', 'the', 'social-studies', 'section', 'of', 'the', 'test', '0', 'the', 'student', 'was', 'taking', '*T*-1', '.']\n",
      "['Mrs.', 'Yeargin', \"'s\", 'case', 'also', 'casts', 'some', 'light', 'on', 'the', 'dark', 'side', 'of', 'school', 'reform', ',', 'where', 'pressures', 'on', 'teachers', 'are', 'growing', '*T*-1', 'and', 'where', 'high-stakes', 'testing', 'has', 'enhanced', 'the', 'temptation', '*', 'to', 'cheat', '*T*-2', '.']\n",
      "['The', '1987', 'statute', '0', 'Mrs.', 'Yeargin', 'violated', '*T*-1', 'was', 'designed', '*-2', '*-3', 'to', 'enforce', 'provisions', 'of', 'South', 'Carolina', \"'s\", 'school-improvement', 'laws', '.']\n",
      "['``', 'There', 'is', 'incredible', 'pressure', '*ICH*-2', 'on', 'school', 'systems', 'and', 'teachers', '*', 'to', 'raise', 'test', 'scores', ',', \"''\", 'says', '*T*-1', 'Walt', 'Haney', ',', 'an', 'education', 'professor', 'and', 'testing', 'specialist', 'at', 'Boston', 'College', '.']\n",
      "['By', '*-3', 'using', 'them', ',', 'teachers', '--', 'with', 'administrative', 'blessing', '--', 'telegraph', 'to', 'students', 'beforehand', 'the', 'precise', 'areas', 'on', 'which', 'a', 'test', 'will', 'concentrate', '*T*-1', ',', 'and', 'sometimes', 'give', 'away', 'a', 'few', 'exact', 'questions', 'and', 'answers', '.']\n",
      "['Experts', 'say', '0', 'there', 'is', \"n't\", 'another', 'state', 'in', 'the', 'country', 'where', 'tests', 'mean', 'as', 'much', 'as', 'they', 'do', '*?*', 'in', 'South', 'Carolina', '*T*-1', '.']\n",
      "['Says', '0', '*ICH*-3', 'the', 'organization', \"'s\", 'founder', ',', 'John', 'Cannell', ',', '*', 'prosecuting', 'Mrs.', 'Yeargin', 'is', '``', 'a', 'way', 'for', '0', 'administrators', 'to', 'protect', 'themselves', '*T*-4', 'and', 'look', 'like', 'they', 'take', 'cheating', 'seriously', '*T*-4', ',', 'when', 'in', 'fact', 'they', 'do', \"n't\", 'take', 'it', 'seriously', 'at', 'all', '*T*-1', '.', \"''\"]\n",
      "['``', 'It', 'was', 'full', 'of', 'violence', 'and', 'gangs', 'and', 'kids', 'cutting', 'class', ',', \"''\", 'says', '*T*-1', 'Linda', 'Ward', ',', 'the', 'school', \"'s\", 'principal', '.']\n",
      "['Academically', ',', 'Mrs.', 'Ward', 'says', '0', '*T*-1', ',', 'the', 'school', 'was', 'having', 'trouble', '*-2', 'serving', 'in', 'harmony', 'its', 'two', 'disparate', ',', 'and', 'evenly', 'split', ',', 'student', 'groups', ':', 'a', 'privileged', 'white', 'elite', 'from', 'old', 'monied', 'neighborhoods', 'and', 'blacks', ',', 'many', 'of', 'them', 'poor', ',', 'from', 'run-down', ',', 'inner', 'city', 'neighborhoods', '.']\n",
      "['``', '*', 'Being', 'a', 'teacher', 'just', 'became', 'my', 'life', ',', \"''\", 'says', '*T*-1', 'the', '37-year-old', 'Mrs.', 'Yeargin', ',', 'a', 'teacher', 'for', '12', 'years', 'before', 'her', 'dismissal', '.', '``']\n",
      "['I', 'even', 'dreamt', 'about', 'school', 'and', 'new', 'things', '0', '*', 'to', 'do', '*T*-1', 'with', 'my', 'students', '.', \"''\"]\n",
      "['``', 'She', 'was', 'an', 'inspirational', 'lady', ';', 'she', 'had', 'it', 'all', 'together', ',', \"''\", 'says', '*T*-1', 'Laura', 'Dobson', ',', 'a', 'freshman', 'at', 'the', 'University', 'of', 'South', 'Carolina', 'who', '*T*-90', 'had', 'Mrs.', 'Yeargin', 'in', 'the', 'teacher-cadet', 'class', 'last', 'year', '.']\n",
      "['``', 'She', 'just', 'never', 'gave', 'it', 'up', ',', \"''\", 'says', '*T*-1', 'Mary', 'Marchand', ',', 'Mary', 'Beth', \"'s\", 'mother', '.']\n",
      "['*', 'Winning', 'a', 'bonus', 'for', 'a', 'third', 'year', 'was', \"n't\", 'that', 'important', 'to', 'her', ',', 'Mrs.', 'Yeargin', 'insists', '0', '*T*-1', '.']\n",
      "['The', 'rest', 'were', 'history', ',', 'sociology', ',', 'finance', '--', 'subjects', '0', 'they', 'never', 'had', '*T*-1', '.', \"''\"]\n",
      "['Mostly', ',', 'she', 'says', '0', '*T*-1', ',', 'she', 'wanted', '*-2', 'to', 'prevent', 'the', 'damage', 'to', 'self-esteem', 'that', 'her', 'low-ability', 'students', 'would', 'suffer', '*T*-3', 'from', '*', 'doing', 'badly', 'on', 'the', 'test', '.']\n",
      "['``', 'These', 'kids', 'broke', 'my', 'heart', ',', \"''\", 'she', 'says', '*T*-1', '.']\n",
      "['The', 'last', 'thing', '0', 'they', 'needed', '*T*-1', 'was', 'another', 'drag-down', 'blow', '.', \"''\"]\n",
      "['``', 'Do', 'I', 'have', 'much', 'sympathy', 'for', 'her', '?', \"''\", 'Mr.', 'Watson', 'asks', '*T*-1', '.']\n",
      "['Mrs.', 'Ward', 'says', 'that', 'when', 'the', 'cheating', 'was', 'discovered', '*-4', '*T*-1', ',', 'she', 'wanted', '*-2', 'to', 'avoid', 'the', 'morale-damaging', 'public', 'disclosure', 'that', 'a', 'trial', 'would', 'bring', '*T*-3', '.']\n",
      "['I', 'was', 'dumbfounded', ',', \"''\", 'Mrs.', 'Ward', 'recalls', '*T*-1', '.']\n",
      "['The', 'school-board', 'hearing', 'at', 'which', 'she', 'was', 'dismissed', '*-2', '*T*-1', 'was', 'crowded', '*-4', 'with', 'students', ',', 'teachers', 'and', 'parents', 'who', '*T*-98', 'came', '*-3', 'to', 'testify', 'on', 'her', 'behalf', '.']\n",
      "['Supportive', 'callers', 'decried', 'unfair', 'testing', ',', 'not', 'Mrs.', 'Yeargin', ',', 'on', 'a', 'local', 'radio', 'talk', 'show', 'on', 'which', 'she', 'appeared', '*T*-1', '.']\n",
      "['Editorials', 'in', 'the', 'Greenville', 'newspaper', 'allowed', 'that', 'Mrs.', 'Yeargin', 'was', 'wrong', ',', 'but', 'also', 'said', '0', 'the', 'case', 'showed', 'how', 'testing', 'was', 'being', 'overused', '*-2', '*T*-1', '.']\n",
      "['The', 'radio', 'show', '``', 'enraged', 'us', ',', \"''\", 'says', '*T*-1', 'Mrs.', 'Ward', '.']\n",
      "['Partly', 'because', 'of', 'the', 'show', ',', 'Mr.', 'Watson', 'says', '0', '*T*-1', ',', 'the', 'district', 'decided', 'not', '*-2', 'to', 'recommend', 'Mrs.', 'Yeargin', 'for', 'a', 'first-time', 'offenders', 'program', 'that', '*T*-99', 'could', 'have', 'expunged', 'the', 'charges', 'and', 'the', 'conviction', 'from', 'her', 'record', '.']\n",
      "['``', 'She', 'did', 'a', 'lot', 'of', 'harm', ',', \"''\", 'says', '*T*-1', 'Cathryn', 'Rice', ',', 'who', '*T*-100', 'had', 'discovered', 'the', 'crib', 'notes', '.']\n",
      "['``', 'We', 'work', 'damn', 'hard', 'at', 'what', 'we', 'do', '*T*-101', 'for', 'damn', 'little', 'pay', ',', 'and', 'what', 'she', 'did', '*T*-1', 'cast', 'unfair', 'aspersions', 'on', 'all', 'of', 'us', '.', \"''\"]\n",
      "['There', 'may', 'be', 'others', 'doing', 'what', 'she', 'did', '*T*-1', '.', \"''\"]\n",
      "['These', 'days', ',', 'students', 'can', 'often', 'find', 'the', 'answer', 'in', 'test-coaching', 'workbooks', 'and', 'worksheets', '0', 'their', 'teachers', 'give', 'them', '*T*-1', 'in', 'the', 'weeks', 'prior', 'to', '*', 'taking', 'standardized', 'achievement', 'tests', '.']\n",
      "['The', 'mathematics', 'section', 'of', 'the', 'widely', 'used', 'California', 'Achievement', 'Test', 'asks', 'fifth', 'graders', ':', '``', 'What', 'is', '*T*-1', 'another', 'name', 'for', 'the', 'Roman', 'numeral', 'IX', '?', \"''\"]\n",
      "['Close', 'parallels', 'between', 'tests', 'and', 'practice', 'tests', 'are', 'common', ',', 'some', 'educators', 'and', 'researchers', 'say', '0', '*T*-1', '.']\n",
      "['When', '*', 'referred', '*-2', 'to', 'the', 'questions', 'that', '*T*-107', 'matched', '*T*-1', ',', 'he', 'said', '0', 'it', 'was', 'coincidental', '.']\n",
      "['Because', 'many', 'of', 'these', 'subskills', '--', 'the', 'symmetry', 'of', 'geometrical', 'figures', ',', 'metric', 'measurement', 'of', 'volume', ',', 'or', 'pie', 'and', 'bar', 'graphs', ',', 'for', 'example', '--', 'are', 'only', 'a', 'small', 'part', 'of', 'the', 'total', 'fifth-grade', 'curriculum', ',', 'Mr.', 'Kaminski', 'says', '0', '*T*-1', ',', 'the', 'preparation', 'kits', 'would', \"n't\", 'replicate', 'too', 'many', ',', 'if', 'their', 'real', 'intent', 'was', 'general', 'instruction', 'or', 'even', 'general', 'familiarization', 'with', 'test', 'procedures', '.']\n"
     ]
    },
    {
     "name": "stdout",
     "output_type": "stream",
     "text": [
      "['Rick', 'Brownell', ',', 'senior', 'editor', 'of', 'Scoring', 'High', ',', 'says', 'that', 'Messrs.', 'Kaminski', 'and', 'Mehrens', 'are', 'ignoring', '``', 'the', 'need', '0', 'students', 'have', '*T*-1', 'for', '*', 'becoming', 'familiar', 'with', 'tests', 'and', 'testing', 'format', '.', \"''\"]\n",
      "['When', 'Scoring', 'High', 'first', 'came', 'out', 'in', '1979', '*T*-1', ',', 'it', 'was', 'a', 'publication', 'of', 'Random', 'House', '.']\n",
      "['Both', 'Dr.', 'Mason', 'and', 'Dr.', 'Sullivan', 'oppose', 'federal', 'funding', 'for', 'abortion', ',', 'as', 'does', 'President', 'Bush', '*?*', ',', 'except', 'in', 'cases', 'where', 'a', 'woman', \"'s\", 'life', 'is', 'threatened', '*-2', '*T*-1', '.']\n",
      "['The', 'controversy', 'began', 'in', '1987', 'when', 'the', 'National', 'Institutes', 'of', 'Health', ',', 'aware', 'of', 'the', 'policy', 'implications', 'of', 'its', 'research', ',', 'asked', 'for', 'an', 'HHS', 'review', 'of', 'its', 'plan', '*', 'to', 'implant', 'fetal', 'tissue', 'into', 'the', 'brain', 'of', 'a', 'patient', 'suffering', 'from', 'Parkinson', \"'s\", 'disease', '*T*-1', '.']\n",
      "['The', 'dispute', 'has', 'hampered', 'the', 'administration', \"'s\", 'efforts', '*', 'to', 'recruit', 'prominent', 'doctors', '0', '*T*-1', 'to', 'fill', 'prestigious', 'posts', 'at', 'the', 'helm', 'of', 'the', 'NIH', 'and', 'the', 'Centers', 'for', 'Disease', 'Control', '.']\n",
      "['``', 'When', 'scientific', 'progress', 'moves', 'into', 'uncharted', 'ground', '*T*-1', ',', 'there', 'has', '*-3', 'to', 'be', 'a', 'role', '*ICH*-4', 'for', 'society', '*', 'to', 'make', 'judgments', 'about', 'its', 'applications', ',', \"''\", 'says', '*T*-2', 'Myron', 'Genel', ',', 'associate', 'dean', 'of', 'the', 'Yale', 'Medical', 'School', '.']\n",
      "['``', 'The', 'unavailability', 'of', 'federal', 'funds', ',', 'and', 'the', 'climate', 'in', 'which', 'the', 'decision', 'was', 'made', '*-2', '*T*-1', ',', 'certainly', 'do', \"n't\", 'provide', 'any', 'incentive', 'for', 'one', 'of', 'the', 'more', 'visible', 'foundations', 'to', 'provide', 'support', ',', \"''\", 'he', 'said', '*T*-3', '.']\n",
      "['The', 'bank', 'stocks', 'got', 'a', 'boost', 'when', 'Connecticut', 'Bank', '&', 'Trust', 'and', 'Bank', 'of', 'New', 'England', 'said', '0', 'they', 'no', 'longer', 'oppose', 'pending', 'legislation', 'that', '*T*-1', 'would', 'permit', 'banks', 'from', 'other', 'regions', 'to', 'merge', 'with', 'Connecticut', 'and', 'Massachusetts', 'banks', '*T*-2', '.']\n",
      "['``', 'A', 'lot', 'of', 'the', 'stocks', 'that', '*T*-117', 'have', 'been', 'under', 'water', 'finally', 'saw', 'a', 'reason', '0', '*', 'to', 'uptick', '*T*-1', ',', \"''\", 'said', '*T*-2', 'George', 'Jennison', ',', 'head', 'trader', 'of', 'banking', 'issues', 'in', 'Shearson', 'Lehman', 'Hutton', \"'s\", 'OTC', 'department', '.']\n",
      "['The', 'two', 'concerns', 'said', '0', 'they', 'entered', 'into', 'a', 'definitive', 'merger', 'agreement', 'under', 'which', 'Ratners', 'will', 'begin', 'a', 'tender', 'offer', 'for', 'all', 'of', 'Weisfield', \"'s\", 'common', 'shares', 'for', '$', '57.50', '*U*', 'each', '*T*-1', '.']\n",
      "['Heritage', 'Media', ',', 'which', 'already', '*T*-1', 'owns', 'about', '51', '%', 'of', 'POP', 'Radio', ',', 'proposed', '*-2', 'paying', 'POP', 'Radio', 'shareholders', 'with', 'shares', 'of', 'a', 'new', 'class', 'of', 'Heritage', 'Media', 'preferred', 'stock', 'that', '*T*-122', 'would', 'be', 'convertible', 'into', 'four', 'shares', 'of', 'Heritage', 'Media', \"'s\", 'common', '.']\n",
      "['The', 'IRS', 'warnings', 'stem', 'from', 'a', '1984', 'law', 'that', '*T*-1', 'requires', 'anyone', 'who', '*T*-126', 'receives', 'more', 'than', '$', '10,000', '*U*', 'in', 'cash', 'from', 'a', 'client', 'or', 'customer', 'in', 'one', 'or', 'more', 'related', 'transactions', '``', 'in', 'the', 'course', 'of', 'trade', 'or', 'business', \"''\", 'to', 'report', 'the', 'payment', 'on', 'a', 'document', 'known', '*', 'as', 'Form', '8300', '.']\n",
      "['Failure', '*', 'to', 'complete', 'the', 'form', 'had', 'been', 'punishable', 'as', 'a', 'misdemeanor', 'until', 'last', 'November', ',', 'when', 'Congress', 'determined', 'that', 'the', 'crime', 'was', 'a', 'felony', 'punishable', 'by', 'up', 'to', '10', 'years', 'in', 'prison', '*T*-1', '.']\n",
      "['Attorneys', 'have', 'argued', 'since', '1985', ',', 'when', 'the', 'law', 'took', 'effect', '*T*-1', ',', 'that', 'they', 'can', 'not', 'provide', 'information', 'about', 'clients', 'who', '*T*-127', 'do', \"n't\", 'wish', 'their', 'identities', 'to', 'be', 'known', '*-3', '.']\n",
      "['``', 'This', 'form', 'forces', 'a', 'lawyer', 'to', 'become', ',', 'in', 'effect', ',', 'a', 'witness', 'against', 'his', 'client', ',', \"''\", 'said', '*T*-1', 'Neal', 'R.', 'Sonnett', ',', 'president', 'of', 'the', 'National', 'Association', 'of', 'Criminal', 'Defense', 'Lawyers', '.']\n",
      "['These', 'individuals', 'may', 'not', 'necessarily', 'be', 'under', 'investigation', 'when', 'they', 'hire', 'lawyers', '*T*-1', '.']\n",
      "['Mr.', 'Sonnett', 'said', '0', 'there', 'also', 'may', 'be', 'other', 'circumstances', 'under', 'which', 'individuals', 'would', \"n't\", 'want', 'the', 'government', 'to', 'know', '0', 'they', 'had', 'retained', 'criminal', 'defense', 'lawyers', '*T*-1', '.']\n",
      "['*', 'Filling', 'out', 'detailed', 'forms', 'about', 'these', 'individuals', 'would', 'tip', 'the', 'IRS', 'off', 'and', 'spark', 'action', 'against', 'the', 'clients', ',', 'he', 'said', '0', '*T*-1', '.']\n",
      "['At', 'that', 'meeting', ',', 'he', 'said', '0', '*T*-1', ',', 'the', 'Justice', 'Department', 'assured', 'him', 'that', 'enforcement', 'procedures', 'would', \"n't\", 'be', 'threatened', '*-2', 'against', 'attorneys', 'without', 'further', 'review', 'and', 'advance', 'notice', '.']\n",
      "['In', 'some', 'cases', ',', 'the', 'IRS', 'asked', 'for', 'information', 'dating', 'back', 'to', 'forms', '0', 'it', 'received', '*T*-1', 'in', '1985', '.']\n",
      "['Federal', 'judges', 'make', '$', '89,500', '*U*', 'annually', ';', 'in', 'February', ',', 'Congress', 'rejected', 'a', 'bill', 'that', '*T*-1', 'would', 'have', 'increased', 'their', 'pay', 'by', '50', '%', '.']\n",
      "['``', 'Judges', 'are', 'not', 'getting', 'what', 'they', 'deserve', '*T*-1', '.']\n",
      "['When', 'you', 'become', 'a', 'federal', 'judge', '*T*-1', ',', 'all', 'of', 'a', 'sudden', 'you', 'are', 'relegated', '*-2', 'to', 'a', 'paltry', 'sum', '.', \"''\"]\n",
      "['The', 'dispute', 'involves', 'Darkhorse', 'Productions', 'Inc.', ',', 'a', 'TV', 'production', 'company', 'in', 'which', 'Mr.', 'Trudeau', 'is', 'a', 'co-owner', '*T*-1', '.']\n",
      "['A', 'federal', 'appeals', 'court', 'upheld', 'a', 'lower', 'court', 'ruling', 'that', 'the', 'U.S.', 'can', 'bar', 'the', 'use', 'of', 'federal', 'funds', 'for', 'family-planning', 'programs', 'that', '*T*-1', 'include', 'abortion-related', 'services', '.']\n",
      "['Meanwhile', ',', 'business', 'and', 'government', 'leaders', 'rebuked', 'the', 'computer', 'makers', ',', 'and', 'fretted', 'about', 'the', 'broader', 'statement', '0', 'the', 'companies', \"'\", 'actions', 'make', '*T*-1', 'about', 'Japanese', 'cutthroat', 'pricing', '.']\n",
      "['``', 'These', 'cases', 'lead', 'to', 'the', 'loss', 'of', 'the', 'firms', \"'\", 'social', 'and', 'international', 'credibility', ',', \"''\", 'a', 'ministry', 'statement', 'said', '*T*-1', '.']\n",
      "['``', 'We', 'would', 'like', '*-2', 'to', 'apologize', 'for', '*-3', 'having', 'caused', 'huge', 'trouble', ',', \"''\", 'Fujitsu', 'President', 'Takuma', 'Yamamoto', ',', 'read', '*T*-1', 'from', 'a', 'prepared', 'statement', 'as', 'he', 'stood', 'before', 'a', 'packed', 'news', 'conference', 'at', 'his', 'company', \"'s\", 'downtown', 'headquarters', '.']\n",
      "['The', 'bids', ',', 'he', 'added', '0', '*T*-1', ',', 'were', '``', 'contrary', 'to', 'common', 'sense', '.', \"''\"]\n",
      "['The', 'U.S.', 'government', 'in', 'recent', 'years', 'has', 'accused', 'Japanese', 'companies', 'of', '*', 'excessively', 'slashing', 'prices', 'on', 'semiconductors', 'and', 'supercomputers', '--', 'products', '0', 'Fujitsu', 'and', 'NEC', 'make', '*T*-1', '.']\n",
      "['The', '``', 'one-yen', \"''\", 'controversy', 'first', 'came', 'to', 'a', 'head', 'last', 'week', 'when', 'the', 'city', 'of', 'Hiroshima', 'announced', 'that', 'Fujitsu', 'won', 'a', 'contract', '*', 'to', 'design', 'a', 'computer', 'system', '0', '*T*-2', 'to', 'map', 'its', 'waterworks', '*T*-1', '.']\n",
      "['``', 'One', 'yen', 'is', 'not', 'ethical', ',', \"''\", 'Michio', 'Sasaki', ',', 'an', 'official', 'at', 'Keidanren', ',', 'the', 'Japan', 'Federation', 'of', 'Economic', 'Organizations', ',', 'said', '*T*-1', '.']\n",
      "['``', 'Over', 'the', 'summer', 'months', ',', 'there', 'has', 'been', 'a', 'slowing', 'in', 'the', 'rate', 'of', 'new', 'orders', 'from', 'the', 'computer', 'sector', ',', 'our', 'primary', 'market', ',', \"''\", 'said', '*T*-1', 'Wilfred', 'J.', 'Corrigan', ',', 'chairman', 'and', 'chief', 'executive', 'officer', '.']\n",
      "['``', 'Dollar-yen', '-LCB-', 'trade', '-RCB-', 'is', 'the', 'driving', 'force', 'in', 'the', 'market', ',', \"''\", 'said', '*T*-1', 'Tom', 'Trettien', ',', 'a', 'vice', 'president', 'with', 'Banque', 'Paribas', 'in', 'New', 'York', ',', '``', 'but', 'I', \"'m\", 'not', 'convinced', '*-2', '0', 'it', 'will', 'continue', '.']\n",
      "['Who', '*T*-1', 'knows', 'what', '*T*-2', 'will', 'happen', 'down', 'the', 'road', ',', 'in', 'three', 'to', 'six', 'months', ',', 'if', 'foreign', 'investment', 'starts', '*-3', 'to', 'erode', '?', \"''\"]\n",
      "['But', 'the', 'ratings', 'are', 'considerably', 'below', 'expectations', ',', 'and', 'some', 'stations', 'say', '0', 'they', 'may', 'not', 'buy', 'new', 'episodes', 'when', 'their', 'current', 'contracts', 'expire', '*T*-1', '.']\n",
      "['Meanwhile', ',', 'stations', 'are', 'fuming', 'because', ',', 'many', 'of', 'them', 'say', '0', '*T*-1', ',', 'the', 'show', \"'s\", 'distributor', ',', 'Viacom', 'Inc.', ',', 'is', 'giving', 'an', 'ultimatum', ':', '*', 'Either', 'sign', 'new', 'long-term', 'commitments', '*', 'to', 'buy', 'future', 'episodes', 'or', 'risk', '*-2', 'losing', '``', 'Cosby', \"''\", 'to', 'a', 'competitor', '.']\n",
      "['``', 'We', \"'re\", 'willing', '*-2', 'to', 'negotiate', ',', \"''\", 'says', '*T*-1', 'Dennis', 'Gillespie', ',', 'executive', 'vice', 'president', 'of', 'marketing', '.']\n",
      "['But', ',', 'says', '0', '*T*-1', 'the', 'general', 'manager', 'of', 'a', 'network', 'affiliate', 'in', 'the', 'Midwest', ',', '``', 'I', 'think', '0', 'if', 'I', 'tell', 'them', '0', 'I', 'need', 'more', 'time', ',', 'they', \"'ll\", 'take', '`', 'Cosby', \"'\", 'across', 'the', 'street', ',', \"''\"]\n",
      "['``', 'At', 'the', 'prices', '0', 'we', 'were', 'charged', '*-78', '*T*-1', ',', 'there', 'should', 'have', 'been', 'some', 'return', 'for', 'the', 'dollar', '.']\n",
      "['The', 'magazine', 'combines', 'how-to', 'pieces', 'on', 'topics', 'like', 'backyard', 'composting', ',', 'explanatory', 'essays', 'on', 'such', 'things', 'as', 'what', '*T*-1', 'happens', 'after', 'you', 'flush', 'your', 'toilet', ',', 'and', 'hard-hitting', 'pieces', 'on', 'alleged', 'environmental', 'offenders', '.']\n",
      "['In', 'one', 'feature', ',', 'called', '*', '``', 'In', 'the', 'Dumpster', ',', \"''\", 'editors', 'point', 'out', 'a', 'product', '0', 'they', 'deem', '*T*-1', 'to', 'be', 'a', 'particularly', 'bad', 'offender', '.']\n",
      "['The', 'magazine', \"'s\", 'editors', 'ran', 'a', 'giant', 'diagram', 'of', 'the', 'product', 'with', 'arrows', 'pointing', 'to', 'the', 'packaging', \"'s\", 'polystyrene', 'foam', ',', 'polyproplene', 'and', 'polyester', 'film', '--', 'all', 'plastic', 'items', '0', 'they', 'say', '0', '*T*-1', 'are', 'non-biodegradable', '.']\n",
      "['``', 'It', \"'s\", 'precisely', 'the', 'kind', 'of', 'product', 'that', '*T*-1', \"'s\", 'created', 'the', 'municipal', 'landfill', 'monster', ',', \"''\", 'the', 'editors', 'wrote', '*T*-2', '.']\n",
      "['Modifications', '*ICH*-3', 'had', 'been', 'made', '*-80', 'to', 'the', 'Souper', 'Combo', 'product', 'at', 'the', 'time', '0', 'the', 'issue', 'was', 'printed', '*-81', '*T*-1', ',', 'he', 'says', '0', '*T*-2', ',', '*-80', 'making', 'it', 'less', 'an', 'offender', 'than', '*', 'was', 'portrayed', '*-4', '.']\n",
      "['``', 'The', 'economics', 'of', 'magazine', 'publishing', 'pretty', 'much', 'require', 'that', 'you', 'have', 'a', 'pretty', 'solid', 'base', \"''\", 'of', 'big-time', 'ad', 'spenders', ',', 'he', 'adds', '0', '*T*-1', '.']\n",
      "['``', 'We', 'do', \"n't\", 'spend', 'much', 'on', 'print', 'advertising', ',', \"''\", 'she', 'says', '*T*-1', '.']\n",
      "['The', 'first', 'and', 'second', 'issues', 'sold', 'out', 'on', 'newsstands', ',', 'she', 'says', '0', '*T*-1', ',', 'and', 'the', 'magazine', 'has', 'orders', 'for', '93,000', 'subscriptions', '.']\n",
      "['I', \"'m\", 'not', 'saying', '0', 'advertising', 'revenue', 'is', \"n't\", 'important', ',', \"''\", 'she', 'says', '0', '*T*-1', ',', '``', 'but', 'I', 'could', \"n't\", 'sleep', 'at', 'night', \"''\", 'if', 'the', 'magazine', 'bowed', 'to', 'a', 'company', 'because', 'they', 'once', 'took', 'out', 'an', 'ad', '.']\n",
      "['Interpublic', 'Group', 'said', '0', 'its', 'television', 'programming', 'operations', '--', 'which', 'it', 'expanded', '*T*-1', 'earlier', 'this', 'year', '--', 'agreed', '*-2', 'to', 'supply', 'more', 'than', '4,000', 'hours', 'of', 'original', 'programming', 'across', 'Europe', 'in', '1990', '.']\n",
      "['It', 'said', '0', 'the', 'programs', ',', 'largely', 'game', 'shows', ',', 'will', 'be', 'provided', '*-84', 'by', 'its', 'E.C.', 'Television', 'unit', 'along', 'with', 'Fremantle', 'International', ',', 'a', 'producer', 'and', 'distributor', 'of', 'game', 'shows', 'of', 'which', 'it', 'recently', 'bought', '49', '%', '*T*-1', '.']\n",
      "['Interpublic', 'is', 'providing', 'the', 'programming', 'in', 'return', 'for', 'advertising', 'time', ',', 'which', 'it', 'said', '0', '*T*-1', 'will', 'be', 'valued', '*-85', 'at', 'more', 'than', '$', '75', 'million', '*U*', 'in', '1990', 'and', '$', '150', 'million', '*U*', 'in', '1991', '.']\n",
      "['About', '$', '490', 'million', '*U*', 'of', 'that', 'would', 'be', 'allocated', '*-87', 'to', 'the', 'buy-back', ',', '*', 'leaving', 'about', '$', '130', 'million', '*U*', ',', 'he', 'said', '0', '*T*-1', '.']\n",
      "['That', '$', '130', 'million', '*U*', ',', 'Mr.', 'Sherwood', 'said', '0', '*T*-1', ',', '``', 'gives', 'us', 'some', 'flexibility', 'in', 'case', 'Temple', 'raises', 'its', 'bid', '.']\n",
      "[\"''\", 'He', 'declined', '*-2', 'to', 'say', ',', 'however', ',', 'how', 'much', 'Sea', 'Containers', 'might', 'raise', 'its', 'price', '*T*-1', '.']\n",
      "['Mr.', 'Sherwood', 'speculated', 'that', 'the', 'leeway', 'that', 'Sea', 'Containers', 'has', '*T*-1', 'means', 'that', 'Temple', 'would', 'have', '*-2', 'to', '``', 'substantially', 'increase', 'their', 'bid', 'if', 'they', \"'re\", 'going', '*-3', 'to', 'top', 'us', '.', \"''\"]\n",
      "['The', 'lower', 'figures', ',', 'the', 'spokesman', 'said', '0', '*T*-1', ',', 'would', 'stem', 'from', 'preferred', 'shares', 'being', 'converted', '*-88', 'to', 'common', 'stock', 'and', 'the', 'possibility', 'that', 'Sea', 'Containers', \"'\", 'subsidiaries', 'might', 'be', 'required', '*-2', 'to', 'place', 'their', 'shares', 'in', 'the', 'open', 'market', '.']\n",
      "['Temple', 'added', 'that', 'Sea', 'Containers', 'is', 'still', 'mired', '*-2', 'in', 'legal', 'problems', 'in', 'Bermuda', ',', 'where', 'the', 'Supreme', 'Court', 'has', 'temporarily', 'barred', 'Sea', 'Containers', 'from', '*-3', 'buying', 'back', 'its', 'own', 'stock', 'in', 'a', 'case', 'brought', '*', 'by', 'Stena', 'and', 'Tiphook', '*T*-1', '.']\n",
      "['``', 'Today', \"'s\", 'action', ',', \"''\", 'Transportation', 'Secretary', 'Samuel', 'Skinner', 'said', '*T*-1', ',', '``', 'represents', 'another', 'milestone', 'in', 'the', 'ongoing', 'program', '0', '*T*-2', 'to', 'promote', 'vehicle', 'occupant', 'safety', 'in', 'light', 'trucks', 'and', 'minivans', 'through', 'its', 'extension', 'of', 'passenger', 'car', 'standards', '.', \"''\"]\n",
      "['In', 'September', ',', 'the', 'department', 'had', 'said', '0', 'it', 'will', 'require', 'trucks', 'and', 'minivans', 'to', 'be', 'equipped', '*-90', 'with', 'the', 'same', 'front-seat', 'headrests', 'that', '*T*-1', 'have', 'long', 'been', 'required', '*-91', 'on', 'passenger', 'cars', '.']\n",
      "['``', 'But', 'now', ',', 'there', 'seems', '*-2', 'to', 'be', 'a', 'fairly', 'systematic', 'effort', '*', 'to', 'address', 'the', 'problem', ',', \"''\", 'said', '*T*-1', 'Chuck', 'Hurley', ',', 'vice', 'president', 'of', 'communications', 'for', 'the', 'Insurance', 'Institute', 'for', 'Highway', 'Safety', '.']\n",
      "['``', 'We', 'could', 'prevent', 'many', 'of', 'these', 'fatalities', 'with', 'minimum', 'roof-crush', 'standards', ',', \"''\", 'he', 'said', '*T*-1', '.']\n",
      "['Later', 'yesterday', ',', 'a', 'Massachusetts', 'senate', 'committee', 'approved', 'a', 'bill', '0', '*T*-1', 'to', 'allow', 'national', 'interstate', 'banking', 'by', 'banks', 'in', 'the', 'state', '*', 'beginning', 'in', '1991', '.']\n",
      "['Currently', ',', 'both', 'Massachusetts', 'and', 'Connecticut', ',', 'where', 'most', 'of', 'Bank', 'of', 'New', 'England', \"'s\", 'operations', 'are', '*T*-1', ',', 'allow', 'interstate', 'banking', 'only', 'within', 'New', 'England', '.']\n",
      "['We', 'have', ',', 'and', 'I', \"'m\", 'sure', '0', 'others', 'have', '*?*', ',', 'considered', 'what', 'our', 'options', 'are', '*T*-160', ',', 'and', 'we', \"'ve\", 'had', 'conversations', 'with', 'people', 'who', 'in', 'the', 'future', '*T*-1', 'might', 'prove', '*-2', 'to', 'be', 'interesting', 'partners', '.', \"''\"]\n",
      "['Mr.', 'Driscoll', 'did', \"n't\", 'elaborate', 'about', 'who', 'the', 'potential', 'partners', 'were', '*T*-1', 'or', 'when', 'the', 'talks', 'were', 'held', '*-94', '*T*-2', '.']\n"
     ]
    },
    {
     "name": "stdout",
     "output_type": "stream",
     "text": [
      "['Giant', 'Group', 'is', 'led', '*-96', 'by', 'three', 'Rally', \"'s\", 'directors', ',', 'Burt', 'Sugarman', ',', 'James', 'M.', 'Trotter', 'III', 'and', 'William', 'E.', 'Trotter', 'II', ',', 'who', 'last', 'month', '*T*-1', 'indicated', '0', 'they', 'hold', 'a', '42.5', '%', 'stake', 'in', 'Rally', \"'s\", 'and', 'plan', '*-2', 'to', 'seek', 'a', 'majority', 'of', 'seats', 'on', 'Rally', \"'s\", 'nine-member', 'board', '.']\n",
      "['When', 'Warren', 'Winiarski', ',', 'proprietor', 'of', 'Stag', \"'s\", 'Leap', 'Wine', 'Cellars', 'in', 'Napa', 'Valley', ',', 'announced', 'a', '$', '75', '*U*', 'price', 'tag', 'for', 'his', '1985', 'Cask', '23', 'Cabernet', 'this', 'fall', '*T*-1', ',', 'few', 'wine', 'shops', 'and', 'restaurants', 'around', 'the', 'country', 'balked', '.']\n",
      "['``', 'This', 'is', 'the', 'peak', 'of', 'my', 'wine-making', 'experience', ',', \"''\", 'Mr.', 'Winiarski', 'declared', '*T*-1', 'when', 'he', 'introduced', 'the', 'wine', 'at', 'a', 'dinner', 'in', 'New', 'York', '*T*-2', ',', '``', 'and', 'I', 'wanted', '*-3', 'to', 'single', 'it', 'out', 'as', 'such', '.', \"''\"]\n",
      "['The', 'first', 'Champagne', '0', '*T*-1', 'to', 'crack', 'that', 'price', 'barrier', 'was', 'the', '1979', 'Salon', 'de', 'Mesnil', 'Blanc', 'de', 'Blancs', '.']\n",
      "['``', 'There', 'are', 'certain', 'cult', 'wines', 'that', '*T*-163', 'can', 'command', 'these', 'higher', 'prices', ',', \"''\", 'says', '*T*-1', 'Larry', 'Shapiro', 'of', 'Marty', \"'s\", ',', 'one', 'of', 'the', 'largest', 'wine', 'shops', 'in', 'Dallas', '.']\n",
      "['Wine', 'auctions', 'have', 'almost', 'exhausted', 'the', 'limited', 'supply', 'of', 'those', 'wines', ',', 'Mr.', 'Shapiro', 'continued', ':', '0', '*T*-1', '``', 'We', \"'ve\", 'seen', 'a', 'dramatic', 'decrease', 'in', 'demand', 'for', 'wines', 'from', 'the', \"'40s\", 'and', \"'50s\", ',', 'which', '*T*-165', 'go', 'for', '$', '300', 'to', '$', '400', '*U*', 'a', 'bottle', '.']\n",
      "['It', \"'s\", 'made', '*-2', 'only', 'in', 'years', 'when', 'the', 'grapes', 'ripen', 'perfectly', '*T*-1', '-LRB-', 'the', 'last', 'was', '1979', '-RRB-', 'and', 'comes', 'from', 'a', 'single', 'acre', 'of', 'grapes', 'that', '*T*-166', 'yielded', 'a', 'mere', '75', 'cases', 'in', '1987', '.']\n",
      "['``', 'It', \"'s\", 'just', 'sort', 'of', 'a', 'one-upsmanship', 'thing', 'with', 'some', 'people', ',', \"''\", 'added', '*T*-1', 'Larry', 'Shapiro', '.']\n",
      "['``', 'They', 'wo', \"n't\", 'buy', 'if', 'the', 'quality', 'is', 'not', 'there', ',', \"''\", 'said', '*T*-1', 'Cedric', 'Martin', 'of', 'Martin', 'Wine', 'Cellar', 'in', 'New', 'Orleans', '.']\n",
      "['Image', 'has', ',', 'of', 'course', ',', 'a', 'great', 'deal', '0', '*', 'to', 'do', '*T*-1', 'with', 'what', '*T*-170', 'sells', 'and', 'what', '*T*-171', 'does', \"n't\", '*?*', ',', 'and', 'it', 'ca', \"n't\", 'be', 'forced', '*-100', '.']\n",
      "['It', \"'s\", 'hardly', 'a', 'question', 'of', 'quality', '--', 'the', '1982', 'Salon', 'is', 'a', 'beautiful', 'wine', ',', 'but', ',', 'as', 'Mr.', 'Pratt', 'noted', '0', '*T*-1', ',', 'people', 'have', 'their', 'own', 'ideas', 'about', 'value', '.']\n",
      "['``', 'The', 'economy', 'is', 'clearly', 'slowing', ',', \"''\", 'says', '*T*-1', 'Robert', 'Black', ',', 'president', 'of', 'the', 'Richmond', 'Federal', 'Reserve', 'Bank', '.']\n",
      "['``', 'If', 'you', 'look', 'at', 'the', 'third', 'quarter', 'as', '*', 'posting', 'roughly', '2.5', '%', 'growth', ',', 'I', 'do', 'see', 'some', 'slowing', 'in', 'the', 'fourth', 'quarter', ',', \"''\", 'agrees', '*T*-1', 'Kansas', 'City', 'Fed', 'President', 'Roger', 'Guffey', '.']\n",
      "['``', 'We', \"'re\", 'coming', 'closer', 'to', '*', 'achieving', 'the', 'stated', 'objective', 'of', '*', 'slowing', 'the', 'economy', 'to', 'a', 'point', 'where', 'hopefully', 'some', 'downward', 'trend', 'in', 'prices', 'will', 'occur', '*T*-1', ',', \"''\", 'said', 'Mr.', 'Guffey', '.']\n",
      "['``', 'I', 'think', '0', 'the', 'market', 'had', 'been', 'expecting', 'the', 'Fed', 'to', 'ease', 'sooner', 'and', 'a', 'little', 'more', 'than', 'it', 'has', '*?*', 'to', 'date', ',', \"''\", 'said', '*T*-1', 'Robert', 'Johnson', ',', 'vice', 'president', 'of', 'global', 'markets', 'for', 'Bankers', 'Trust', 'Co', '.']\n",
      "['And', 'in', 'the', 'Chicago', 'district', ',', 'the', 'report', 'said', '0', '*T*-1', ',', '``', 'a', 'manufacturer', 'of', 'capital', 'goods', 'noted', 'slower', 'orders', 'for', 'some', 'types', ',', 'including', 'defense', 'equipment', ',', 'petroleum', 'equipment', ',', 'food', 'packaging', 'machinery', 'and', 'material', 'handling', 'equipment', '.', \"''\"]\n",
      "['Integra-A', 'Hotel', '&', 'Restaurant', 'Co.', 'said', '0', 'its', 'planned', 'rights', 'offering', '0', '*T*-1', 'to', 'raise', 'about', '$', '9', 'million', '*U*', 'was', 'declared', '*-103', 'effective', 'and', 'the', 'company', 'will', 'begin', '*-2', 'mailing', 'materials', 'to', 'shareholders', 'at', 'the', 'end', 'of', 'this', 'week', '.']\n",
      "['Unless', 'it', 'can', 'raise', 'money', 'in', 'financial', 'markets', ',', 'Mr.', 'Basham', 'said', '0', '*T*-1', ',', 'the', 'federal', 'government', 'wo', \"n't\", 'have', 'the', 'cash', '0', '*', 'to', 'pay', 'off', '$', '13.8', 'billion', '*U*', 'in', 'Treasury', 'bills', 'that', '*T*-176', 'mature', 'on', 'Thursday', '*T*-2', '.']\n",
      "['The', 'securities', '0', '*T*-1', 'to', 'be', 'sold', '*-107', 'next', 'week', 'will', 'raise', 'about', '$', '10', 'billion', '*U*', 'in', 'cash', 'and', 'redeem', '$', '20', 'billion', '*U*', 'in', 'maturing', 'notes', '.']\n",
      "['--', '$', '10', 'billion', '*U*', 'of', 'three-year', 'notes', ',', '0', '*T*-1', 'to', 'be', 'auctioned', '*-108', 'Tuesday', 'and', 'to', 'mature', 'Nov.', '15', ',', '1992', '.']\n",
      "['--', '$', '10', 'billion', '*U*', 'of', '10-year', 'notes', ',', '0', '*T*-1', 'to', 'be', 'auctioned', '*-109', 'Wednesday', 'and', 'to', 'mature', 'Nov.', '15', ',', '1999', '.']\n",
      "['--', '$', '10', 'billion', '*U*', 'of', '30-year', 'bonds', ',', '0', '*T*-1', 'to', 'be', 'auctioned', '*-110', 'Thursday', 'and', 'to', 'mature', 'Aug.', '15', ',', '2019', '.']\n",
      "['The', 'remaining', '$', '21.9', 'billion', '*U*', 'could', 'be', 'raised', '*-111', 'through', 'the', 'sale', 'of', 'short-term', 'Treasury', 'bills', ',', 'two-year', 'notes', 'in', 'November', 'and', 'five-year', 'notes', 'in', 'early', 'December', ',', 'the', 'Treasury', 'said', '0', '*T*-1', '.']\n",
      "['Reames', ',', 'a', 'maker', 'and', 'marketer', 'of', 'frozen', 'noodles', 'and', 'pre-cooked', 'pasta', 'based', '*', 'in', 'Clive', ',', 'Iowa', ',', 'has', 'annual', 'sales', 'of', 'about', '$', '11', 'million', '*U*', ',', 'Lancaster', 'said', '0', '*T*-1', '.']\n",
      "['Analysts', 'were', 'disappointed', '*-112', 'that', 'the', 'enthusiasm', '*ICH*-2', '0', 'investors', 'showed', '*T*-1', 'for', 'stocks', 'in', 'the', 'wake', 'of', 'Georgia-Pacific', \"'s\", '$', '3.18', 'billion', '*U*', 'bid', 'for', 'Great', 'Northern', 'Nekoosa', 'evaporated', 'so', 'quickly', '.']\n",
      "['``', 'He', 'has', 'clamped', 'on', 'their', 'ankle', 'like', 'a', 'pit', 'bull', ',', \"''\", 'says', '*T*-1', 'Paul', 'Leming', ',', 'a', 'vice', 'president', 'with', 'Morgan', 'Stanley', '&', 'Co', '.']\n",
      "['Mr.', 'Simmons', 'owns', '88', '%', 'of', 'Valhi', 'Inc.', ',', 'which', 'in', 'turn', '*T*-1', 'owns', 'two-thirds', 'of', 'NL', '.']\n",
      "['J.', 'Landis', 'Martin', ',', 'NL', 'president', 'and', 'chief', 'executive', 'officer', ',', 'said', '0', 'NL', 'and', 'Mr.', 'Simmons', 'cut', 'the', 'price', '*ICH*-2', '0', 'they', 'were', 'proposing', '*T*-1', 'for', 'Georgia', 'Gulf', 'because', 'they', 'initially', 'planned', 'a', 'transaction', 'that', '*T*-180', 'included', 'about', '$', '250', 'million', '*U*', 'in', 'equity', 'and', 'a', 'substantial', 'amount', 'of', 'high-yield', 'subordinated', 'debt', '.']\n",
      "['Now', ',', 'he', 'said', '0', '*T*-1', ',', 'the', 'group', 'plans', '*-2', 'to', 'put', 'in', '``', 'several', 'hundred', 'million', \"''\", 'dollars', 'in', 'equity', 'and', 'finance', 'the', 'remainder', 'with', 'bank', 'debt', '.']\n",
      "['Where', 'they', 'disagree', '*T*-1', 'is', 'on', 'the', 'subject', 'of', 'U.S.', 'direct', 'investment', 'in', 'Japan', '.']\n",
      "['The', 'Japanese', '``', 'should', 'see', 'this', 'rhetoric', 'as', 'a', 'signal', 'of', 'the', 'need', 'for', 'a', 'change', 'in', 'their', 'own', 'economy', ',', \"''\", 'says', '0', '*T*-1', 'Charles', 'Dallara', ',', 'U.S.', 'assistant', 'Treasury', 'secretary', ',', 'who', '*T*-184', 'has', 'been', 'in', 'Tokyo', 'this', 'week', '*-2', 'informally', 'discussing', 'the', 'impending', 'negotiations', 'with', 'government', 'and', 'business', 'leaders', '.']\n",
      "['``', 'We', 'have', 'a', 'long', 'history', 'of', '*', 'maintaining', 'an', 'open', 'direct-investment', 'policy', ',', \"''\", 'Mr.', 'Dallara', 'says', '*T*-1', '.']\n",
      "['One', 'clear', 'sign', 'of', 'Japan', \"'s\", 'nervousness', 'came', 'this', 'week', ',', 'when', 'a', 'spokesman', 'for', 'Japan', \"'s\", 'Foreign', 'Ministry', 'devoted', 'nearly', 'all', 'of', 'a', 'regular', ',', 'half-hour', 'briefing', 'for', 'foreign', 'journalists', 'to', 'the', 'subject', 'of', 'recent', 'Japanese', 'investments', 'in', 'the', 'U.S.', '*T*-1', '.']\n",
      "['``', 'We', 'believe', 'that', 'it', '*EXP*-3', 'is', 'vitally', 'important', 'for', 'those', 'Japanese', 'business', 'interests', '-LCB-', 'in', 'the', 'U.S.', '.', '-RCB-', 'to', 'be', 'more', 'aware', 'of', 'the', 'emotions', 'and', 'concerns', 'of', 'the', 'American', 'people', ',', \"''\", 'said', '*T*-1', 'the', 'spokesman', ',', 'Taizo', 'Watanabe', '.']\n",
      "['At', 'the', 'same', 'time', ',', 'though', ',', 'he', 'chastised', 'the', 'media', 'for', '*', 'paying', 'such', 'close', 'attention', 'to', 'Japanese', 'investment', 'when', 'other', 'foreign', 'countries', ',', 'notably', 'Britain', ',', 'are', 'acquiring', 'more', 'American', 'assets', '*T*-1', '.']\n",
      "['Among', 'them', 'are', '*T*-1', 'differences', 'in', 'savings', 'and', 'investment', 'rates', ',', 'corporate', 'structures', 'and', 'management', ',', 'and', 'government', 'spending', '.']\n",
      "['``', 'We', 'feel', 'very', 'strongly', 'that', 'we', 'really', 'need', 'action', 'across', 'the', 'full', 'range', 'of', 'issues', '0', 'we', \"'ve\", 'identified', '*T*-1', ',', 'and', 'we', 'need', 'it', 'by', 'next', 'spring', ',', \"''\", 'Mr.', 'Dallara', 'says', '*T*-2', '.']\n",
      "['``', '*', 'Just', 'to', 'say', '0', 'the', 'distribution', 'system', 'is', 'wrong', 'does', \"n't\", 'mean', 'anything', ',', \"''\", 'says', '*T*-1', 'a', 'Ministry', 'of', 'International', 'Trade', 'and', 'Industry', 'official', '.']\n",
      "['``', 'Little', 'by', 'little', ',', 'there', 'is', 'progress', ',', \"''\", 'says', '*T*-1', 'the', 'MITI', 'official', '.']\n",
      "['*', 'Take', 'the', 'deal', 'with', 'Candela', 'Laser', 'Corp.', ',', 'a', 'Wayland', ',', 'Mass.', ',', 'manufacturer', 'of', 'high-tech', 'medical', 'devices', ',', 'which', 'three', 'years', 'ago', '*T*-1', 'set', 'its', 'sights', 'on', 'Japan', 'as', 'an', 'export', 'market', '.']\n",
      "['``', 'They', 'view', 'this', 'as', 'a', 'growth', 'area', 'so', 'they', 'went', 'about', 'it', 'with', 'a', 'systematic', 'approach', ',', \"''\", 'says', '*T*-1', 'Richard', 'Olsen', ',', 'a', 'Candela', 'vice', 'president', '.']\n",
      "['Indeed', ',', 'for', 'many', 'Japanese', 'trading', 'companies', ',', 'the', 'favorite', 'U.S.', 'small', 'business', 'is', 'one', 'whose', 'research', 'and', 'development', '*T*-1', 'can', 'be', 'milked', '*-117', 'for', 'future', 'Japanese', 'use', '.']\n",
      "['In', 'the', 'first', 'half', 'of', '1989', 'alone', ',', 'Japanese', 'corporations', 'invested', '$', '214', 'million', '*U*', '*ICH*-2', 'in', 'minority', 'positions', 'in', 'U.S.', 'companies', ',', 'a', '61', '%', 'rise', 'from', 'the', 'figure', 'for', 'all', 'of', '1987', ',', 'reports', '0', '*T*-1', 'Venture', 'Economics', 'Inc', '.']\n",
      "['``', 'It', \"'s\", 'not', 'just', 'a', 'simple', 'investment', 'in', 'a', 'small', 'company', ',', \"''\", 'Mr.', 'Wakui', 'says', '*T*-1', '.']\n",
      "['Mitsubishi', \"'s\", 'investment', 'in', 'Free', 'State', 'is', '``', 'very', 'small', '...', 'less', 'than', '$', '4', 'million', '*U*', ',', \"''\", 'Mr.', 'Wakui', 'says', '0', '*T*-1', '.']\n",
      "['These', 'vertically', 'integrated', 'combines', ',', 'some', 'of', 'which', '*T*-1', 'got', 'their', 'start', 'in', 'Japan', \"'s\", 'feudal', 'period', ',', 'deal', 'globally', 'in', 'commodities', ',', 'construction', 'and', 'manufacturing', '.']\n",
      "['``', 'All', 'the', '``', 'sogo-shosha', \"''\", 'are', 'looking', 'for', 'new', 'business', ',', \"''\", 'says', '*T*-1', 'Arthur', 'Klauser', ',', 'adviser', 'to', 'the', 'president', 'of', 'Mitsui', ',', 'U.S.A.', ',', '*-2', 'using', 'the', 'Japanese', 'term', 'for', 'the', 'largest', 'of', 'the', 'global', 'trading', 'houses', '.']\n",
      "['``', 'Strategic', 'objectives', ',', 'not', 'financial', 'return', ',', 'drive', 'many', 'of', 'the', 'deals', ',', \"''\", 'says', '*T*-1', 'a', 'Venture', 'Economics', 'spokesman', '.']\n",
      "['In', '*', 'investing', 'on', 'the', 'basis', 'of', 'future', 'transactions', ',', 'a', 'role', 'often', 'performed', '*', 'by', 'merchant', 'banks', ',', 'trading', 'companies', 'can', 'cut', 'through', 'the', 'logjam', 'that', 'small-company', 'owners', 'often', 'face', '*T*-1', 'with', 'their', 'local', 'commercial', 'banks', '.']\n",
      "['``', 'It', \"'s\", 'the', 'classic', 'problem', 'of', 'the', 'small', 'businessman', ',', \"''\", 'says', '*T*-1', 'Malcolm', 'Davies', ',', 'managing', 'director', 'of', 'Trading', 'Alliance', 'Corp.', 'of', 'New', 'York', '.']\n",
      "['They', 'want', 'assets', ',', 'they', 'want', 'a', 'balance', 'sheet', ',', 'which', '*T*-194', 'has', 'no', 'relation', 'to', 'the', 'business', '0', 'a', 'company', 'can', 'generate', '*T*-1', '.', \"''\"]\n",
      "['Mr.', 'Klauser', 'says', '0', 'Mitsui', 'has', '75', 'U.S.', 'subsidiaries', 'in', 'which', 'it', 'holds', '35', '%', 'interest', 'or', 'more', '*T*-1', 'and', 'the', 'trading', 'company', 'hopes', '*-2', 'to', 'double', 'the', 'number', 'of', 'its', 'U.S.', 'affiliates', 'in', '1990', '.']\n",
      "['A', '1', '%', 'to', '2', '%', '*U*', 'return', 'on', '$', '17', 'billion', '*U*', '``', 'ai', \"n't\", 'hay', ',', \"''\", 'Mr.', 'Klauser', 'says', '0', '*T*-1', '.']\n",
      "['*-4', 'A', 'high-balance', 'customer', 'that', 'banks', 'pine', 'for', '*T*-1', ',', 'she', 'did', \"n't\", 'give', 'much', 'thought', 'to', 'the', 'rates', '0', 'she', 'was', 'receiving', '*T*-2', ',', 'nor', 'to', 'the', 'fees', '0', 'she', 'was', 'paying', '*T*-3', '.']\n",
      "['All', '0', 'she', 'had', '*-2', 'to', 'do', '*T*-1', 'was', 'put', '$', '15,000', '*U*', 'in', 'a', 'certificate', 'of', 'deposit', ',', 'or', 'qualify', 'for', 'a', '$', '10,000', '*U*', 'personal', 'line', 'of', 'credit', '.']\n",
      "['``', 'I', 'deserve', 'something', 'for', 'my', 'loyalty', ',', \"''\", 'she', 'says', '*T*-1', '.']\n",
      "['For', 'nearly', 'a', 'decade', ',', 'banks', 'have', 'competed', 'for', 'customers', 'primarily', 'with', 'the', 'interest', 'rates', '0', 'they', 'pay', '*T*-1', 'on', 'their', 'deposits', 'and', 'charge', '*T*-1', 'on', 'their', 'loans', '.']\n",
      "['For', 'nearly', 'a', 'decade', ',', 'banks', 'have', 'competed', 'for', 'customers', 'primarily', 'with', 'the', 'interest', 'rates', '0', 'they', 'pay', '*T*-1', 'on', 'their', 'deposits', 'and', 'charge', '*T*-1', 'on', 'their', 'loans', '.']\n",
      "['``', 'You', \"'re\", 'dead', 'in', 'the', 'water', 'if', 'you', 'are', \"n't\", 'segmenting', 'the', 'market', ',', \"''\", 'says', '*T*-1', 'Anne', 'Moore', ',', 'president', 'of', 'Synergistics', 'Research', 'Corp.', ',', 'a', 'bank', 'consulting', 'firm', 'in', 'Atlanta', '.']\n",
      "['The', 'program', 'not', 'only', 'offers', 'a', 'pre-approved', 'car', 'loan', 'up', 'to', '$', '18,000', '*U*', ',', 'but', 'throws', 'in', 'a', 'special', 'cash-flow', 'statement', '0', '*T*-1', 'to', 'help', 'in', '*', 'saving', 'money', '.']\n",
      "['``', 'Varying', 'age', ',', 'geography', 'and', 'life-style', 'differences', 'create', 'numerous', 'sub-markets', ',', \"''\", 'Ms.', 'MacDonald', 'says', '*T*-1', '.']\n",
      "['``', 'An', 'active', '55-year-old', 'in', 'Boca', 'Raton', 'may', 'care', 'more', 'about', 'Senior', 'Olympic', 'games', ',', 'while', 'a', '75-year-old', 'in', 'Panama', 'City', 'may', 'care', 'more', 'about', 'a', 'seminar', 'on', 'health', ',', \"''\", 'she', 'says', '*T*-1', '.']\n",
      "['As', 'banks', \"'\", 'earnings', 'were', 'squeezed', '*-122', 'in', 'the', 'mid-1970s', ',', 'the', 'emphasis', 'switched', 'to', '*', 'finding', 'ways', '0', '*', 'to', 'cut', 'costs', '*T*-1', '.']\n",
      "['``', 'Today', ',', 'a', 'banker', 'is', 'worrying', 'about', 'local', ',', 'regional', 'and', 'money-center', '-LCB-', 'banks', '-RCB-', ',', 'as', 'well', 'as', 'thrifts', 'and', 'credit', 'unions', ',', \"''\", 'says', '*T*-1', 'Ms.', 'Moore', 'at', 'Synergistics', 'Research', '.']\n",
      "['``', 'The', 'average', 'household', 'will', 'spread', '19', 'accounts', 'over', 'a', 'dozen', 'financial', 'institutions', ',', \"''\", 'says', '*T*-1', 'Michael', 'P.', 'Sullivan', ',', 'who', '*T*-203', 'runs', 'his', 'own', 'bank', 'consulting', 'firm', 'in', 'Charlotte', ',', 'N.C', '.']\n",
      "['The', 'more', 'accounts', '0', 'customers', 'have', '*T*-1', ',', 'Mr.', 'Sullivan', 'says', '0', '*T*-2', ',', 'the', 'more', 'likely', 'they', 'are', '*-3', 'to', 'be', 'attracted', '*-123', 'to', 'a', 'package', '--', 'and', '*-3', 'to', 'be', 'loyal', 'to', 'the', 'bank', 'that', '*T*-205', 'offers', 'it', '.']\n",
      "['First', 'Union', ',', 'he', 'says', '0', '*T*-1', ',', 'now', 'has', 'packages', 'for', 'seven', 'customer', 'groups', '.']\n",
      "['The', 'Chandler', ',', 'Ariz.', ',', 'company', 'said', '0', 'it', 'will', 'resubmit', 'the', 'registration', '0', '*T*-1', 'to', 'cover', 'only', 'the', '2.3', 'million', 'warrants', ',', 'each', 'exercisable', 'for', 'the', 'purchase', 'of', 'one', 'common', 'share', '.']\n",
      "['Five', 'things', '0', 'you', 'can', 'do', '*T*-1', 'for', '$', '15,000', '*U*', 'or', 'less', ':']\n",
      "['As', 'a', 'Foster', 'Corporate', 'Parent', ',', 'you', 'will', 'experience', 'the', 'same', 'joy', 'felt', '*', 'by', 'Robert', 'Bass', ',', 'Lewis', 'Ranieri', ',', 'William', 'Simon', 'and', 'others', ',', 'who', '*T*-207', 'find', 'ways', '0', '*', 'to', 'help', 'troubled', 'savings', 'institutions', 'and', 'their', 'employees', 'help', 'themselves', '*T*-1', '.']\n",
      "['Every', 'day', '0', 'you', 'delay', '*T*-1', ',', 'a', 'savings', 'institution', \"'s\", 'health', '--', 'and', 'the', 'federal', 'budget', 'deficit', '--', 'grows', 'worse', '.']\n",
      "['*', 'Think', 'about', 'the', 'good', '0', 'you', 'can', 'do', '*T*-1', 'for', 'just', '$', '15,000', '*U*', 'a', 'month', ',', 'about', 'the', 'cost', 'of', 'a', 'mid-size', 'Chevrolet', 'or', 'two', 'semesters', 'at', 'a', 'state', 'university', '.']\n",
      "['Every', '$', '15,000', '*U*', '0', 'you', 'send', '*T*-1', 'will', 'go', 'a', 'long', 'way', '*', 'to', 'boost', 'sagging', 'net', 'worth', 'and', 'employee', 'morale', '--', 'and', 'keep', 'your', 'Foster', 'Savings', 'Institution', 'off', 'the', 'federal', 'budget', 'deficit', '!']\n",
      "['The', 'exchange', 'said', '0', 'it', 'decided', '0', 'a', 'new', 'circuit', 'breaker', 'was', 'needed', '*-126', 'following', 'a', 'review', 'of', 'the', 'tumultuous', 'trading', 'in', 'stocks', 'and', 'stock-index', 'futures', 'on', 'Friday', 'Oct.', '13', ',', 'when', 'the', 'Dow', 'Jones', 'industrials', 'plunged', '190', 'points', '*T*-1', 'and', 'stock-index', 'futures', 'prices', 'skidded', 'as', 'well', '*T*-1', '.']\n",
      "['The', 'exchange', 'said', '0', 'it', 'decided', '0', 'a', 'new', 'circuit', 'breaker', 'was', 'needed', '*-126', 'following', 'a', 'review', 'of', 'the', 'tumultuous', 'trading', 'in', 'stocks', 'and', 'stock-index', 'futures', 'on', 'Friday', 'Oct.', '13', ',', 'when', 'the', 'Dow', 'Jones', 'industrials', 'plunged', '190', 'points', '*T*-1', 'and', 'stock-index', 'futures', 'prices', 'skidded', 'as', 'well', '*T*-1', '.']\n",
      "['The', 'Merc', 'said', 'that', 'its', 'existing', '30-minute', ',', '12-point', 'limit', 'on', 'S&P', '500', 'stock-index', 'futures', 'trading', '-LRB-', 'equal', 'to', 'about', '100', 'points', 'on', 'the', 'Dow', 'Jones', 'industrials', '-RRB-', ',', 'which', '*T*-1', 'was', 'triggered', '*-127', 'Oct.', '13', ',', 'will', 'remain', 'in', 'effect', '.']\n",
      "['But', 'when', 'the', 'contract', 'reopened', '*T*-1', ',', 'the', 'subsequent', 'flood', 'of', 'sell', 'orders', 'that', '*T*-211', 'quickly', 'knocked', 'the', 'contract', 'down', 'to', 'the', '30-point', 'limit', 'indicated', 'that', 'the', 'intermediate', 'limit', 'of', '20', 'points', 'was', 'needed', '*-128', '*-128', 'to', 'help', 'keep', 'stock', 'and', 'stock-index', 'futures', 'prices', 'synchronized', '.']\n",
      "['All', 'of', 'the', 'changes', 'require', 'regulatory', 'approval', ',', 'which', '*T*-1', 'is', 'expected', '*-129', 'shortly', '.']\n",
      "['In', 'Washington', ',', 'House', 'aides', 'said', '0', 'Mr.', 'Phelan', 'told', 'congressmen', 'that', 'the', 'collar', ',', 'which', '*T*-213', 'banned', 'program', 'trades', 'through', 'the', 'Big', 'Board', \"'s\", 'computer', 'when', 'the', 'Dow', 'Jones', 'Industrial', 'Average', 'moved', '50', 'points', '*T*-1', ',', 'did', \"n't\", 'work', 'well', '.']\n",
      "['A', 'House', 'aide', 'suggested', 'that', 'Mr.', 'Phelan', 'was', 'so', '``', 'vague', 'and', 'mushy', \"''\", 'that', 'it', 'was', 'the', 'kind', 'of', 'meeting', 'where', 'people', 'of', 'all', 'viewpoints', 'could', '``', 'come', 'out', '*-2', 'feeling', 'good', '*T*-1', '.', \"''\"]\n",
      "['At', 'one', 'point', ',', 'Mr.', 'Phelan', 'angered', 'the', 'subcommittee', \"'s\", 'chairman', ',', 'Rep.', 'Edward', 'Markey', '-LRB-', 'D.', ',', 'Mass.', '-RRB-', ',', 'by', '*-2', 'not', 'going', 'much', 'beyond', 'what', '*T*-1', 'already', 'had', 'been', 'reported', '*-131', 'in', 'the', 'morning', 'newspapers', '.']\n",
      "['``', 'Markey', 'said', '0', 'we', 'could', 'have', 'done', 'this', 'in', 'public', \"''\", 'because', 'so', 'little', 'sensitive', 'information', 'was', 'disclosed', '*-132', ',', 'the', 'aide', 'said', '0', '*T*-1', '.']\n",
      "['At', 'another', 'point', 'during', 'the', 'hearing', ',', 'Rep.', 'Markey', 'asked', 'Mr.', 'Phelan', 'what', '*T*-1', 'would', 'be', 'discussed', '*-133', 'at', 'a', 'New', 'York', 'exchange', 'board', 'meeting', 'today', '.']\n",
      "['That', 'response', 'annoyed', 'Rep.', 'Markey', ',', 'House', 'aides', 'said', '0', '*T*-1', ',', 'and', 'the', 'congressman', 'snapped', 'back', 'that', 'there', 'had', 'been', 'enough', 'studies', 'of', 'the', 'issue', 'and', 'that', 'it', 'was', 'time', 'for', 'action', 'on', 'the', 'matter', '.']\n"
     ]
    },
    {
     "name": "stdout",
     "output_type": "stream",
     "text": [
      "['Change-ringing', ',', 'a', 'mind-boggling', 'exercise', '0', 'the', 'English', 'invented', '*T*-1', '380', 'years', 'ago', ',', 'requires', 'physical', 'dexterity', '--', 'some', 'bells', 'weigh', 'more', 'than', 'a', 'ton', '--', 'combined', '*', 'with', 'intense', 'mental', 'concentration', '.']\n",
      "['Each', 'variation', ',', 'or', 'change', ',', 'can', 'occur', 'only', 'once', ',', 'the', 'rules', 'state', '0', '*T*-1', '.']\n",
      "['In', 'a', 'well-known', 'detective-story', 'involving', 'church', 'bells', ',', 'English', 'novelist', 'Dorothy', 'L.', 'Sayers', 'described', 'ringing', 'as', 'a', '``', 'passion', '-LCB-', 'that', '-RCB-', '*T*-1', 'finds', 'its', 'satisfaction', 'in', 'mathematical', 'completeness', 'and', 'mechanical', 'perfection', '.', \"''\"]\n",
      "['``', 'Ringing', 'does', 'become', 'a', 'bit', 'of', 'an', 'obsession', ',', \"''\", 'admits', '*T*-1', 'Stephanie', 'Pattenden', ',', 'master', 'of', 'the', 'band', 'at', 'St.', 'Mary', 'Abbot', 'and', 'one', 'of', 'England', \"'s\", 'best', 'female', 'ringers', '.']\n",
      "['When', 'their', 'changes', 'are', 'completed', '*-137', '*T*-1', ',', 'and', 'after', 'they', 'have', 'worked', 'up', 'a', 'sweat', ',', 'ringers', 'often', 'skip', 'off', 'to', 'the', 'local', 'pub', ',', '*-2', 'leaving', 'worship', 'for', 'others', 'below', '.']\n",
      "['``', 'They', 'were', 'a', 'self-perpetuating', 'club', 'that', '*T*-229', 'treated', 'the', 'tower', 'as', 'sort', 'of', 'a', 'separate', 'premises', ',', \"''\", 'the', 'Vicar', 'Hummerstone', 'says', '*T*-1', '.']\n",
      "['An', 'entirely', 'new', 'band', '*ICH*-2', 'rings', 'today', 'at', 'Great', 'Torrington', ',', 'several', 'of', 'whom', '*T*-1', 'are', 'members', 'of', 'the', 'congregation', '.']\n",
      "['But', 'there', 'still', 'are', \"n't\", 'enough', 'ringers', '0', '*T*-1', 'to', 'ring', 'more', 'than', 'six', 'of', 'the', 'eight', 'bells', '.']\n",
      "['But', 'C.J.B.', 'Marshall', ',', 'vicar', 'of', 'a', 'nearby', 'church', ',', 'feels', '0', 'the', 'fault', 'is', 'in', 'the', 'stairs', 'from', 'the', 'bell', 'tower', 'that', '*T*-1', 'are', 'located', '*-138', 'next', 'to', 'the', 'altar', '.']\n",
      "['``', 'The', 'sound', 'of', 'bells', 'is', 'a', 'net', '0', '*T*-1', 'to', 'draw', 'people', 'into', 'the', 'church', ',', \"''\", 'he', 'says', '*T*-2', '.']\n",
      "['But', 'the', 'council', \"'s\", 'program', '*', 'to', 'attract', 'and', 'train', 'ringers', 'is', 'only', 'partly', 'successful', ',', 'says', '0', '*T*-1', 'Mr.', 'Baldwin', '.']\n",
      "['``', 'Right', 'now', ',', 'we', \"'re\", 'lucky', 'if', 'after', 'five', 'years', 'we', 'keep', 'one', 'new', 'ringer', 'out', 'of', '10', ',', \"''\", 'he', 'adds', '*T*-1', '.']\n",
      "['In', 'the', 'torrent', 'of', 'replies', 'that', '*T*-1', 'followed', ',', 'one', 'woman', 'ringer', 'from', 'Solihull', 'observed', 'that', '``', 'the', 'average', 'male', 'ringer', 'leaves', 'quite', 'a', 'lot', '0', '*T*-2', 'to', 'be', 'desired', '*-141', ':', '*-3', 'badly', 'dressed', ',', 'decorated', 'with', 'acne', 'and', 'a', 'large', 'beer-belly', ',', 'frequently', 'unwashed', 'and', 'unbearably', 'flatulent', 'in', 'peals', '.', \"''\"]\n",
      "['But', '*', 'do', \"n't\", 'breathe', 'too', 'easy', ':', 'Those', 'dividend', 'increases', 'may', 'signal', 'trouble', 'ahead', 'for', 'stock', 'prices', ',', 'some', 'analysts', 'warn', '0', '*T*-1', '.']\n",
      "['In', 'the', 'past', ',', 'they', 'say', '0', '*T*-1', ',', 'the', 'strongest', 'dividend', 'growth', 'has', 'often', 'come', 'at', 'times', 'when', 'the', 'stock-market', 'party', 'was', 'almost', 'over', '*T*-2', '.']\n",
      "['That', 'can', 'be', 'a', 'trap', 'for', 'unwary', 'investors', ',', 'says', '0', '*T*-1', 'Richard', 'Bernstein', ',', 'senior', 'quantitative', 'analyst', 'at', 'Merrill', 'Lynch', '&', 'Co', '.']\n",
      "['Strong', 'dividend', 'growth', ',', 'he', 'says', '0', '*T*-1', ',', 'is', '``', 'the', 'black', 'widow', 'of', 'valuation', \"''\", '--', 'a', 'reference', 'to', 'the', 'female', 'spiders', 'that', '*T*-231', 'attract', 'males', 'and', 'then', 'kill', 'them', 'after', 'mating', '.']\n",
      "['``', 'Invariably', ',', 'those', 'strong', 'periods', 'in', 'the', 'economy', 'give', 'way', 'to', 'recessionary', 'environments', ',', \"''\", 'he', 'says', '*T*-1', '.']\n",
      "['Indeed', ',', 'analysts', 'say', 'that', 'payouts', 'have', 'sometimes', 'risen', 'most', 'sharply', 'when', 'prices', 'were', 'already', 'on', 'their', 'way', 'down', 'from', 'cyclical', 'peaks', '*T*-1', '.']\n",
      "['A', 'drop', 'below', 'that', '3', '%', 'benchmark', '``', 'has', 'always', 'been', 'a', 'strong', 'warning', 'sign', 'that', 'stocks', 'are', 'fully', 'valued', '*-2', ',', \"''\", 'says', '0', '*T*-1', 'Mr.', 'Boesel', 'of', 'T.', 'Rowe', 'Price', '.']\n",
      "['There', \"'s\", 'never', 'been', 'an', 'exception', ',', \"''\", 'says', '0', '*T*-1', 'Gerald', 'W.', 'Perritt', ',', 'a', 'Chicago', 'investment', 'adviser', 'and', 'money', 'manager', ',', 'based', 'on', 'a', 'review', 'of', 'six', 'decades', 'of', 'stock-market', 'data', '.']\n",
      "['The', 'last', 'time', '0', 'the', 'S&P', '500', 'yield', 'dropped', 'below', '3', '%', '*T*-1', 'was', 'in', 'the', 'summer', 'of', '1987', '.']\n",
      "['There', 'have', 'been', 'only', 'seven', 'other', 'times', '--', 'in', '1929', ',', '1933', ',', '1961', ',', '1965', ',', '1968', ',', '1971', 'and', '1972', '--', 'when', 'the', 'yield', 'on', 'the', 'S&P', '500', 'dropped', 'below', '3', '%', 'for', 'at', 'least', 'two', 'consecutive', 'months', '*T*-1', ',', 'Mr.', 'Perritt', 'found', '0', '*T*-2', '.']\n",
      "['And', 'in', 'each', 'case', ',', 'he', 'says', '0', '*T*-1', ',', 'a', 'sharp', 'drop', 'in', 'stock', 'prices', 'began', 'within', 'a', 'year', '.']\n",
      "['``', 'It', \"'s\", 'not', 'a', 'very', 'meaningful', 'indicator', 'currently', 'because', 'corporations', 'are', 'not', 'behaving', 'in', 'a', 'traditional', 'manner', ',', \"''\", 'says', '*T*-1', 'James', 'H.', 'Coxon', ',', 'head', 'of', 'stock', 'investments', 'for', 'Cigna', 'Corp.', ',', 'the', 'Philadelphia-based', 'insurer', '.']\n",
      "['In', 'particular', ',', 'Mr.', 'Coxon', 'says', '0', '*T*-1', ',', 'businesses', 'are', 'paying', 'out', 'a', 'smaller', 'percentage', 'of', 'their', 'profits', 'and', 'cash', 'flow', '*ICH*-3', 'in', 'the', 'form', 'of', 'dividends', 'than', 'they', 'have', '*?*', 'historically', '.']\n",
      "['That', 'is', 'just', 'a', 'tad', 'below', 'the', 'average', 'of', 'the', 'past', '40', 'years', 'or', 'so', ',', 'he', 'says', '0', '*T*-1', '.']\n",
      "['In', 'other', 'years', 'in', 'which', 'there', 'have', 'been', 'moderate', 'economic', 'slowdowns', '--', 'the', 'environment', '0', 'the', 'firm', 'expects', '*T*-1', 'in', '1990', '*T*-2', '--', 'the', 'change', 'in', 'dividends', 'ranged', 'from', 'a', 'gain', 'of', '4', '%', 'to', 'a', 'decline', 'of', '1', '%', ',', 'according', 'to', 'PaineWebber', 'analyst', 'Thomas', 'Doerflinger', '.']\n",
      "['The', 'minority', 'argument', ',', 'meanwhile', ',', 'is', 'that', 'businesses', 'have', 'the', 'financial', 'wherewithal', '*ICH*-2', 'this', 'time', 'around', '0', '*', 'to', 'declare', 'sharply', 'higher', 'dividends', '*T*-1', 'even', 'if', 'their', 'earnings', 'weaken', '.']\n",
      "['One', 'indicator', '0', 'investors', 'might', 'want', '*-2', 'to', 'watch', '*T*-1', 'is', 'the', 'monthly', 'tally', 'from', 'Standard', '&', 'Poor', \"'s\", 'of', 'the', 'number', 'of', 'public', 'companies', 'adjusting', 'their', 'dividends', '.']\n",
      "['That', 'followed', 'four', 'straight', 'months', 'in', 'which', 'the', 'number', 'of', 'increases', 'trailed', 'the', 'year-earlier', 'pace', '*T*-1', '.']\n",
      "['In', 'any', 'case', ',', 'opinion', '*ICH*-2', 'is', 'mixed', 'on', 'how', 'much', 'of', 'a', 'boost', 'the', 'overall', 'stock', 'market', 'would', 'get', '*T*-1', 'even', 'if', 'dividend', 'growth', 'continues', 'at', 'double-digit', 'levels', '.']\n",
      "['``', '*', 'Having', 'the', 'dividend', 'increases', 'is', 'a', 'supportive', 'element', 'in', 'the', 'market', 'outlook', ',', 'but', 'I', 'do', \"n't\", 'think', '0', 'it', \"'s\", 'a', 'main', 'consideration', ',', \"''\", 'he', 'says', '*T*-1', '.']\n",
      "['Bell', \"'s\", 'father-in-law', ',', 'Gardner', 'G.', 'Hubbard', ',', 'wealthy', 'and', 'well-connected', ',', 'obtained', 'financing', '0', '*T*-1', 'to', 'start', 'the', 'American', 'Bell', 'Telephone', 'Co.', 'in', 'Boston', ',', 'which', '*T*-2', 'even', 'had', 'a', 'subsidiary', 'in', 'New', 'York', 'called', '*', 'the', 'Telephone', 'Co.', 'of', 'New', 'York', '.']\n",
      "['This', 'is', 'where', 'Bell', \"'s\", 'patents', 'went', '*T*-1', '.']\n",
      "['When', 'Bell', 'established', 'that', 'the', 'Berliner', 'patent', 'caveat', 'was', 'registered', '*-145', '10', 'days', 'before', 'Edison', \"'s\", 'application', '*T*-1', ',', 'Western', 'Union', 'dropped', 'the', 'lawsuit', 'and', 'agreed', '*-2', 'never', 'to', 'enter', 'the', 'telephone', 'business', '--', 'the', 'basis', 'for', 'the', 'company', \"'s\", 'current', 'plight', '.']\n",
      "['Further', ',', 'he', 'said', '0', '*T*-1', ',', 'the', 'company', 'does', \"n't\", 'have', 'the', 'capital', 'needed', '*', '*', 'to', 'build', 'the', 'business', 'over', 'the', 'next', 'year', 'or', 'two', '.']\n",
      "['``', 'We', 'flat', 'ran', 'out', 'of', 'financing', 'resources', ',', \"''\", 'Mr.', 'Jerritts', 'said', '*T*-1', '.']\n",
      "['The', 'company', ',', 'which', '*T*-237', 'recently', 'said', '0', 'it', 'lacked', 'the', 'profits', 'and', 'capital', '0', '*', 'to', 'pay', 'dividends', 'on', 'its', 'Series', 'A', 'convertible', 'preferred', 'stock', '*T*-1', ',', 'said', '0', 'it', 'has', 'hired', 'an', 'investment', 'banker', '0', '*T*-2', 'to', 'help', 'it', 'raise', 'additional', 'cash', '.']\n",
      "['But', 'the', 'former', 'U.S.', 'president', \"'s\", 'sixth', 'visit', 'to', 'China', ',', 'during', 'which', 'he', 'spoke', 'at', 'length', 'with', 'Chinese', 'leaders', '*T*-1', ',', 'was', 'nowhere', 'near', 'as', 'successful', 'at', '*', 'easing', 'strains', 'that', '*T*-239', 'have', 'recently', 'afflicted', 'the', 'Sino-U.S.', 'relationship', '.']\n",
      "['Mr.', 'Nixon', ',', 'the', 'most', 'prominent', 'American', '0', '*T*-1', 'to', 'come', 'to', 'China', 'since', 'Beijing', \"'s\", 'bloody', 'suppression', 'of', 'pro-democracy', 'demonstrators', 'in', 'June', ',', 'harped', 'on', 'international', 'outrage', 'over', 'the', 'massacre', '.']\n",
      "['One', 'official', 'newspaper', ',', 'Legal', 'Daily', ',', 'even', 'directly', 'criticized', 'Mr.', 'Nixon', ',', 'who', '*T*-240', 'is', 'normally', 'referred', 'to', '*T*-1', 'here', 'as', 'an', '``', 'old', 'friend', '.', \"''\"]\n",
      "['The', 'paper', 'accused', 'him', 'of', '*-3', 'being', 'a', 'leading', 'proponent', 'of', '``', 'peaceful', 'evolution', ',', \"''\", 'a', 'catch', 'phrase', '0', '*', 'to', 'describe', 'what', 'China', 'believes', '0', '*T*-1', 'is', 'the', 'policy', '*ICH*-4', 'of', 'Western', 'countries', '*', 'to', 'seduce', 'socialist', 'nations', 'into', 'the', 'capitalist', 'sphere', '*T*-2', '.']\n",
      "['``', 'Many', 'in', 'the', 'United', 'States', ',', 'including', 'many', 'friends', 'of', 'China', ',', 'believe', '0', 'the', 'crackdown', 'was', 'excessive', 'and', 'unjustified', ',', \"''\", 'Mr.', 'Nixon', 'told', 'Mr.', 'Yang', ',', 'who', '*T*-242', 'was', 'directly', 'involved', '*-2', 'in', '*', 'ordering', 'the', 'attack', '*T*-1', '.']\n",
      "['``', 'The', 'events', 'of', 'April', 'through', 'June', 'damaged', 'the', 'respect', 'and', 'confidence', 'which', 'most', 'Americans', 'previously', 'had', '*T*-1', 'for', 'the', 'leaders', 'of', 'China', '.', \"''\"]\n",
      "['Relations', 'between', 'China', 'and', 'the', 'U.S.', 'have', 'been', 'tense', 'since', 'June', '7', ',', 'when', 'Chinese', 'dissident', 'Fang', 'Lizhi', 'and', 'his', 'wife', ',', 'Li', 'Shuxian', ',', 'took', 'refuge', 'in', 'the', 'U.S.', 'Embassy', 'in', 'Beijing', '*T*-1', '.']\n",
      "['Shortly', 'afterwards', ',', 'Mr.', 'Bush', 'imposed', 'a', 'series', 'of', 'anti-China', 'sanctions', ',', 'including', 'suspension', 'of', 'most', 'high-level', 'talks', ',', 'which', '*T*-1', 'could', 'be', 'codified', '*-147', 'in', 'U.S.', 'congressional', 'legislation', 'in', 'the', 'coming', 'weeks', '.']\n",
      "['``', 'Ideas', 'are', 'going', 'over', 'borders', ',', 'and', 'there', \"'s\", 'no', 'SDI', 'ideological', 'weapon', 'that', '*T*-245', 'can', 'shoot', 'them', 'down', ',', \"''\", 'he', 'told', 'a', 'group', 'of', 'Americans', '*T*-1', 'at', 'the', 'U.S.', 'Embassy', 'on', 'Wednesday', '.']\n",
      "['J.L.', 'Henry', 'has', \"n't\", 'any', 'Miami', 'telephone', 'listing', ',', 'an', 'operator', 'said', '0', '*T*-1', '.']\n",
      "['Biscayne', 'has', \"n't\", 'any', 'telephone', 'listing', ',', 'an', 'operator', 'said', '0', '*T*-1', '.']\n",
      "['He', 'described', 'the', 'situation', 'as', '``', 'an', 'escrow', 'problem', ',', 'a', 'timing', 'issue', ',', \"''\", 'which', 'he', 'said', '0', '*T*-1', 'was', 'rapidly', 'rectified', '*-2', ',', 'with', 'no', 'losses', 'to', 'customers', '.']\n",
      "['The', 'firm', 'and', 'the', 'NASD', 'differ', 'over', 'the', 'meaning', 'of', 'markup', 'and', 'markdown', ',', 'he', 'added', '0', '*T*-1', '.']\n",
      "['Except', 'where', '*', 'noted', '*-3', '*T*-1', ',', 'none', 'of', 'these', 'people', 'could', 'be', 'reached', '*-2', 'for', 'comment', 'or', 'had', 'any', 'comment', '.']\n",
      "['The', 'matter', '``', 'did', \"n't\", 'involve', 'anybody', \"'s\", 'securities', 'transactions', ',', \"''\", 'he', 'added', '0', '*T*-1', '.']\n",
      "['``', 'Insurance', 'agents', 'have', 'been', 'forced', '*-158', 'by', 'their', 'companies', 'into', '*-2', 'becoming', 'registered', 'reps', ',', \"''\", 'he', 'said', '*T*-1', ',', '``', 'but', 'they', 'are', 'not', 'providing', 'compliance', 'and', 'security-type', 'training', 'so', 'that', 'we', 'can', 'avoid', 'stupid', 'mistakes', '.', \"''\"]\n",
      "['But', 'in', 'London', 'and', 'Tokyo', ',', 'where', 'computer-driven', 'trading', 'now', 'plays', 'a', 'small', 'but', 'growing', 'role', '*T*-1', ',', 'traders', 'say', '0', 'a', 'number', 'of', 'hurdles', 'loom', '.']\n",
      "['Japan', 'is', '``', 'very', 'concerned', \"''\", 'about', 'the', 'possible', 'effects', 'of', 'program', 'trading', ',', 'a', 'senior', 'Japanese', 'official', 'said', '0', '*T*-1', 'after', 'the', 'Oct.', '13', 'stock', 'plunge', 'in', 'New', 'York', '.']\n",
      "['They', 'have', \"n't\", 'forgotten', 'the', 'leap', 'in', 'share', 'prices', 'last', 'Dec.', '7', ',', 'when', 'the', 'first', 'bout', 'of', 'foreign-led', 'index', 'arbitrage', 'drove', 'stocks', 'skyward', 'in', 'the', 'last', 'half-hour', 'of', 'trading', '*T*-1', ',', '*', 'startling', 'regulators', 'who', '*T*-254', 'thought', '0', 'they', 'had', 'written', 'enough', 'rules', '0', '*T*-2', 'to', 'prevent', 'such', 'a', 'swing', '.']\n",
      "['``', 'Maybe', 'it', 'was', \"n't\", 'enough', ',', \"''\", 'a', 'Finance', 'Ministry', 'official', 'noted', '*T*-1', 'after', 'the', 'Dec.', '7', 'surge', '.']\n",
      "['``', 'It', 'has', 'not', 'been', 'disruptive', 'in', 'the', 'markets', 'here', ',', \"''\", 'Mr.', 'Maughan', 'said', '*T*-1', '.']\n",
      "['Index-arbitrage', 'trading', 'is', '``', 'something', '0', 'we', 'want', '*-1', 'to', 'watch', '*T*-1', 'closely', ',', \"''\", 'an', 'official', 'at', 'London', \"'s\", 'Stock', 'Exchange', 'said', '0', '*T*-2', '.']\n",
      "['But', 'a', 'survey', 'early', 'this', 'summer', 'indicated', 'that', 'the', 'volume', 'of', 'index-options', 'trading', 'was', 'only', '15', '%', 'of', 'the', 'size', 'of', 'the', 'underlying', 'equity', 'market', ',', 'exchange', 'officials', 'said', '0', '*T*-1', '.']\n",
      "['``', 'There', 'are', 'no', 'smiles', 'about', 'this', 'bill', ',', \"''\", 'Rep.', 'Pat', 'Williams', '-LRB-', 'D.', ',', 'Mont', '.', '-RRB-', 'said', '*T*-1', 'during', 'House', 'floor', 'debate', 'yesterday', '.']\n",
      "['But', '``', 'because', 'it', \"'s\", 'all', '0', 'we', \"'ve\", 'got', '*T*-1', ',', 'I', \"'m\", 'going', '*-2', 'to', 'vote', 'for', 'it', '.', \"''\"]\n",
      "['While', 'the', 'minimum', 'wage', 'had', 'traditionally', 'been', 'pegged', '*-164', 'at', 'half', 'the', 'average', 'U.S.', 'manufacturing', 'wage', ',', 'the', 'level', 'of', '$', '4.25', '*U*', 'an', 'hour', 'in', '1991', 'will', 'still', 'be', 'less', 'than', '35', '%', 'of', 'average', 'factory', 'pay', ',', 'Mr.', 'Williams', 'said', '0', '*T*-1', '.']\n",
      "['But', 'Rep.', 'Marge', 'Roukema', '-LRB-', 'R.', ',', 'N.J', '.', '-RRB-', 'instead', 'praised', 'the', 'House', \"'s\", 'acceptance', 'of', 'a', 'new', 'youth', '``', 'training', \"''\", 'wage', ',', 'a', 'subminimum', 'that', 'GOP', 'administrations', 'have', 'sought', '*T*-1', 'for', 'many', 'years', '.']\n",
      "['*', 'Adopting', 'a', 'training-wage', 'policy', 'means', '``', '*', 'getting', 'beyond', 'the', 'nickel', 'and', 'diming', 'of', 'the', 'minimum', 'wage', ',', \"''\", 'Mrs.', 'Roukema', 'said', '0', '*T*-1', '.']\n",
      "['The', 'White', 'House', 'previously', 'insisted', 'on', 'an', 'unrestricted', 'six-month', 'training', 'wage', 'that', '*T*-1', 'could', 'be', 'paid', '*-165', 'any', 'time', '0', 'a', 'worker', 'of', 'any', 'age', 'took', 'a', 'new', 'job', '*T*-2', '.']\n",
      "['But', 'a', 'takeover', 'battle', 'opens', 'up', 'the', 'possibility', 'of', 'a', 'bidding', 'war', ',', 'with', 'all', '0', 'that', 'implies', '*T*-1', '.']\n",
      "['*-2', 'Given', '*-3', 'that', 'choice', ',', 'associates', 'of', 'Mr.', 'Hahn', 'and', 'industry', 'observers', 'say', '0', 'the', 'former', 'university', 'president', '--', 'who', '*T*-1', 'has', 'developed', 'a', 'reputation', 'for', '*', 'not', 'overpaying', 'for', 'anything', '--', 'would', 'fold', '.']\n",
      "['``', 'There', \"'s\", 'a', 'price', 'above', 'which', 'I', \"'m\", 'positive', '0', 'Marshall', 'has', 'the', 'courage', '0', '*', 'not', 'to', 'pay', '*T*-1', '*T*-3', ',', \"''\", 'says', '*T*-2', 'A.D.', 'Correll', ',', 'Georgia-Pacific', \"'s\", 'executive', 'vice', 'president', 'for', 'pulp', 'and', 'paper', '.']\n",
      "['He', 'also', 'is', 'a', 'consensus', 'manager', ',', 'insiders', 'say', '0', '*T*-1', '.']\n",
      "['The', 'decision', '*', 'to', 'make', 'the', 'bid', 'for', 'Nekoosa', ',', 'for', 'example', ',', 'was', 'made', '*-2', 'only', 'after', 'all', 'six', 'members', 'of', 'Georgia-Pacific', \"'s\", 'management', 'committee', 'signed', 'onto', 'the', 'deal', '--', 'even', 'though', 'Mr.', 'Hahn', 'knew', '0', 'he', 'wanted', '*-3', 'to', 'go', 'after', 'the', 'company', 'early', 'on', ',', 'says', '0', '*T*-1', 'Mr.', 'Correll', '.']\n",
      "['Georgia-Pacific', \"'s\", 'sales', 'climbed', 'to', '$', '9.5', 'billion', '*U*', 'last', 'year', ',', 'compared', 'with', '$', '6', 'billion', '*U*', 'in', '1983', ',', 'when', 'Mr.', 'Hahn', 'took', 'the', 'reins', '*T*-1', '.']\n",
      "['Mr.', 'Hahn', 'attributes', 'the', 'gains', 'to', 'the', 'philosophy', 'of', '*', 'concentrating', 'on', 'what', 'a', 'company', 'knows', '*T*-1', 'best', '.']\n",
      "['``', 'The', 'record', 'of', 'companies', 'that', '*T*-8', 'have', 'diversified', 'is', \"n't\", 'all', 'that', 'impressive', ',', \"''\", 'he', 'says', '*T*-1', '.']\n",
      "['It', 'would', 'be', 'a', 'good', 'match', ',', 'Mr.', 'Hahn', 'and', 'many', 'analysts', 'say', '0', '*T*-1', ',', 'of', 'two', 'healthy', 'companies', 'with', 'high-quality', 'assets', 'and', 'strong', 'cash', 'flows', '.']\n",
      "['In', 'this', 'instance', ',', 'industry', 'observers', 'say', '0', '*T*-1', ',', 'he', 'is', 'entering', 'uncharted', 'waters', '.']\n",
      "['A', 'House-Senate', 'conference', 'approved', 'major', 'portions', 'of', 'a', 'package', 'for', 'more', 'than', '$', '500', 'million', '*U*', 'in', 'economic', 'aid', 'for', 'Poland', 'that', '*T*-1', 'relies', 'heavily', 'on', '$', '240', 'million', '*U*', 'in', 'credit', 'and', 'loan', 'guarantees', 'in', 'fiscal', '1990', 'in', 'hopes', 'of', '*', 'stimulating', 'future', 'trade', 'and', 'investment', '.']\n",
      "['The', 'funding', 'is', 'attached', '*-11', 'to', 'an', 'estimated', '$', '27.1', 'billion', '*U*', 'transportation', 'bill', 'that', '*T*-1', 'goes', '*ICH*-2', 'next', 'to', 'the', 'Senate', 'and', 'carries', 'with', 'it', 'a', 'proposed', 'permanent', 'smoking', 'ban', 'on', 'virtually', 'all', 'U.S.', 'domestic', 'airline', 'flights', '.']\n",
      "['But', 'there', \"'s\", 'disagreement', 'over', 'how', '*', 'to', 'do', 'it', '*T*-1', '.']\n",
      "['``', 'The', 'primary', 'purpose', 'of', 'a', 'railing', 'is', '*', 'to', 'contain', 'a', 'vehicle', 'and', 'not', 'to', 'provide', 'a', 'scenic', 'view', ',', \"''\", 'says', '*T*-1', 'Jack', 'White', ',', 'a', 'planner', 'with', 'the', 'Indiana', 'Highway', 'Department', '.']\n"
     ]
    },
    {
     "name": "stdout",
     "output_type": "stream",
     "text": [
      "['Garret', 'Boone', ',', 'who', '*T*-11', 'teaches', 'art', 'at', 'Earlham', 'College', ',', 'calls', 'the', 'new', 'structure', '``', 'just', 'an', 'ugly', 'bridge', \"''\", 'and', 'one', 'that', '*T*-1', 'blocks', 'the', 'view', 'of', 'a', 'new', 'park', 'below', '.']\n",
      "['The', 'Soviets', ',', 'who', '*T*-12', 'normally', 'have', 'few', 'clients', 'other', 'than', 'the', 'state', ',', 'will', 'get', '``', 'exposure', 'to', 'a', 'market', 'system', ',', \"''\", 'he', 'says', '0', '*T*-1', '.']\n",
      "['``', 'In', 'Moscow', ',', 'they', 'kept', '*-5', 'asking', 'us', 'things', 'like', ',', '`', 'Why', 'do', 'you', 'make', '15', 'different', 'corkscrews', ',', 'when', 'all', '0', 'you', 'need', '*T*-3', 'is', 'one', 'good', 'one', '*T*-4', '*T*-2', '?', \"'\", \"''\", 'he', 'says', '*T*-1', '.']\n",
      "['Grain', 'elevators', 'built', '*', 'in', 'the', '1920s', 'and', \"'30s\", 'have', 'six-inch', 'concrete', 'walls', 'and', 'a', 'tubular', 'shape', 'that', '*T*-1', 'would', 'easily', 'contain', 'semicircular', 'cells', 'with', 'a', 'control', 'point', 'in', 'the', 'middle', ',', 'the', 'New', 'York', 'firm', 'says', '0', '*T*-2', '.']\n",
      "['Besides', ',', 'Eggers', 'says', '0', '*T*-1', ',', 'grain', 'elevators', 'are', 'worth', '*', 'preserving', 'for', 'aesthetic', 'reasons', '--', 'one', 'famed', 'architect', 'compared', 'them', 'to', 'the', 'pyramids', 'of', 'Egypt', '.']\n",
      "['A', 'number', 'of', 'cities', '--', 'including', 'Minneapolis', ',', 'Philadelphia', 'and', 'Houston', '--', 'have', 'vacant', 'grain', 'elevators', ',', 'Eggers', 'says', '0', '*T*-1', '.']\n",
      "['A', 'medium-sized', 'one', 'in', 'Brooklyn', ',', 'it', 'says', '0', '*T*-1', ',', 'could', 'be', 'altered', '*-2', 'to', 'house', 'up', 'to', '1,000', 'inmates', 'at', 'a', 'lower', 'cost', 'than', '*', 'building', 'a', 'new', 'prison', 'in', 'upstate', 'New', 'York', '.']\n",
      "['A', 'second', 'citation', 'covering', 'the', 'company', \"'s\", 'Clairton', ',', 'Pa.', ',', 'coke', 'works', 'involved', 'more', 'than', '200', 'alleged', 'violations', 'of', 'electrical-safety', 'and', 'other', 'requirements', ',', 'for', 'which', 'OSHA', 'proposed', '$', '1.2', 'million', '*U*', 'in', 'fines', '*T*-1', '.']\n",
      "['``', 'Particularly', 'flagrant', ',', \"''\", 'Mrs.', 'Dole', 'said', '0', '*T*-2', ',', '``', 'are', '*T*-1', 'the', 'company', \"'s\", 'numerous', 'failures', '*', 'to', 'properly', 'record', 'injuries', 'at', 'its', 'Fairless', 'works', ',', 'in', 'spite', 'of', 'the', 'firm', 'promise', '0', 'it', 'had', 'made', '*T*-3', 'in', 'an', 'earlier', 'corporate-wide', 'settlement', 'agreement', '*', 'to', 'correct', 'such', 'discrepancies', '.', \"''\"]\n",
      "['``', 'Once', 'we', 'do', ',', 'they', 'will', 'receive', 'very', 'serious', 'evaluation', ',', \"''\", 'the', 'spokesman', 'said', '*T*-1', '.']\n",
      "['He', 'said', 'that', ',', 'if', 'and', 'when', 'safety', 'problems', 'were', 'identified', '*-15', '*T*-1', ',', 'they', 'were', 'corrected', '*-16', '.']\n",
      "['USX', 'has', '15', 'working', 'days', '0', '*', 'to', 'contest', 'the', 'citations', 'and', 'proposed', 'penalties', ',', 'before', 'the', 'independent', 'Occupational', 'Safety', 'and', 'Health', 'Review', 'Commission', '*T*-1', '.']\n",
      "['Your', 'Oct.', '6', 'editorial', '``', 'The', 'Ill', 'Homeless', \"''\", 'referred', 'to', 'research', 'by', 'us', 'and', 'six', 'of', 'our', 'colleagues', 'that', '*T*-1', 'was', 'reported', '*-17', 'in', 'the', 'Sept.', '8', 'issue', 'of', 'the', 'Journal', 'of', 'the', 'American', 'Medical', 'Association', '.']\n",
      "['You', 'did', 'not', 'note', 'that', 'the', 'homeless', 'people', '0', 'we', 'examined', '*T*-1', 'had', 'a', 'multitude', 'of', 'physical', 'disorders', 'in', 'addition', 'to', 'their', 'psychiatric', 'problems', 'and', 'substance', 'abuse', '.']\n",
      "['This', 'will', 'require', 'us', 'to', 'develop', 'a', 'much', 'more', 'sophisticated', 'understanding', 'of', 'the', 'dynamics', 'of', 'homelessness', 'than', 'we', 'currently', 'possess', '*?*', ',', 'an', 'understanding', 'that', '*T*-1', 'can', 'be', 'developed', '*-20', 'only', 'through', 'careful', 'study', 'and', 'research', '.']\n",
      "['Once', 'there', ',', 'what', 'ways', 'of', 'escape', '*ICH*-2', 'are', '*T*-1', 'open', 'to', 'them', 'other', 'than', 'drink', ',', 'drugs', 'or', 'insanity', '?']\n",
      "['Your', 'research', 'stopped', 'when', 'a', 'convenient', 'assertion', 'could', 'be', 'made', '*-22', '*T*-1', '.']\n",
      "['Why', 'did', \"n't\", 'you', 'mention', 'the', 'YMCA', 'or', 'the', 'YWCA', 'or', 'Catholic', 'Charities', 'USA', 'or', 'a', 'hundred', 'other', 'nonprofit', 'organizations', 'that', '*T*-17', 'participated', 'in', 'the', 'march', '*T*-1', '?']\n",
      "['Perpetual', 'preferred', 'shares', 'are', \"n't\", 'retractable', 'by', 'the', 'holders', ',', 'the', 'company', 'said', '0', '*T*-1', '.']\n",
      "['The', 'broader', 'question', 'is', 'where', 'the', 'Senate', 'stands', '*T*-1', 'on', 'the', 'issue', '.']\n",
      "['``', 'The', 'purpose', 'of', 'the', 'bill', 'is', '*', 'to', 'put', 'the', 'brakes', 'on', 'airline', 'acquisitions', 'that', '*T*-2', 'would', 'so', 'load', 'a', 'carrier', 'up', 'with', 'debt', 'that', 'it', 'would', 'impede', 'safety', 'or', 'a', 'carrier', \"'s\", 'ability', '*', 'to', 'compete', ',', \"''\", 'Rep.', 'John', 'Paul', 'Hammerschmidt', ',', '-LRB-', 'R.', ',', 'Ark', '.', '-RRB-', 'said', '*T*-1', '.']\n",
      "['The', 'bill', ',', 'as', 'it', 'was', 'approved', '*-26', 'by', 'the', 'House', 'Public', 'Works', 'and', 'Transportation', 'Committee', ',', 'would', 'give', 'the', 'Transportation', 'Department', 'up', 'to', '50', 'days', '0', '*', 'to', 'review', 'any', 'purchase', 'of', '15', '%', 'or', 'more', 'of', 'the', 'stock', 'in', 'an', 'airline', '*T*-1', '.']\n",
      "['The', 'House', 'approved', 'an', 'amendment', 'offered', '*', 'by', 'Rep.', 'Peter', 'DeFazio', '-LRB-', 'D.', ',', 'Ore.', '-RRB-', 'that', '*T*-1', 'would', ',', 'in', 'addition', 'to', 'the', 'previous', 'criteria', ',', 'also', 'require', 'the', 'department', 'to', 'block', 'the', 'acquisition', 'of', 'an', 'airline', 'if', 'the', 'added', 'debt', 'incurred', '*', 'were', 'likely', '*-2', 'to', 'result', 'in', 'a', 'reduction', 'in', 'the', 'number', 'of', 'the', 'carrier', \"'s\", 'employees', ',', 'or', 'their', 'wages', 'or', 'benefits', '.']\n",
      "['On', 'Tuesday', ',', 'the', 'House', 'approved', 'a', 'labor-backed', 'amendment', 'that', '*T*-1', 'would', 'require', 'the', 'Transportation', 'Department', 'to', 'reject', 'airline', 'acquisitions', 'if', 'the', 'person', 'seeking', '*', 'to', 'purchase', 'a', 'carrier', 'had', 'run', 'two', 'or', 'more', 'airlines', '*ICH*-4', 'previously', 'that', '*T*-2', 'have', 'filed', 'for', 'protection', 'from', 'creditors', 'under', 'Chapter', '11', 'of', 'the', 'federal', 'Bankruptcy', 'Code', '.']\n",
      "['You', 'now', 'may', 'drop', 'by', 'the', 'Voice', 'of', 'America', 'offices', 'in', 'Washington', 'and', 'read', 'the', 'text', 'of', 'what', 'the', 'Voice', 'is', 'broadcasting', '*T*-1', 'to', 'those', '130', 'million', 'people', 'around', 'the', 'world', 'who', '*T*-20', 'tune', 'in', 'to', 'it', 'each', 'week', '.']\n",
      "['You', 'can', 'even', 'take', 'notes', '--', 'extensive', 'notes', ',', 'for', 'the', 'Voice', 'folks', 'wo', \"n't\", 'look', 'over', 'your', 'shoulder', '--', 'about', 'what', 'you', 'read', '*T*-1', '.']\n",
      "['Propaganda', 'is', 'just', 'information', '0', '*T*-1', 'to', 'support', 'a', 'viewpoint', ',', 'and', 'the', 'beauty', 'of', 'a', 'democracy', 'is', 'that', 'it', 'enables', 'you', 'to', 'hear', 'or', 'read', 'every', 'viewpoint', 'and', 'then', 'make', 'up', 'your', 'own', 'mind', 'on', 'an', 'issue', '.']\n",
      "['The', 'Voice', 'of', 'America', 'is', 'a', 'government', 'agency', 'that', '*T*-1', 'broadcasts', 'news', 'and', 'views', '--', 'some', 'might', 'say', 'propaganda', '--', 'in', '43', 'languages', 'to', '130', 'million', 'listeners', 'around', 'the', 'world', '.']\n",
      "['How', \"'s\", 'that', '*T*-1', 'again', '?']\n",
      "['``', 'You', 'may', 'come', 'by', 'the', 'agency', '*-3', 'to', 'read', 'but', 'not', 'copy', 'either', 'manually', 'or', 'by', '*', 'photocopying', ',', \"''\", 'a', 'Voice', 'official', 'explained', '*T*-1', 'when', 'I', 'asked', '*T*-2', '.']\n",
      "['``', 'Nor', 'are', 'you', 'free', '*-2', 'to', 'reprint', 'such', 'material', ',', \"''\", 'I', 'was', 'advised', '*-31', '*T*-1', '.']\n",
      "['At', 'least', ',', 'that', \"'s\", 'the', 'way', '0', 'it', 'was', 'reported', '*-32', '*T*-1', '.']\n",
      "['--', 'The', 'USIA', 'said', 'that', ',', 'on', 'reflection', ',', 'of', 'course', 'I', 'could', 'print', 'anything', '0', 'I', 'could', 'get', 'my', 'hands', 'on', '*T*-1', '.']\n",
      "['The', 'word', 'dissemination', ',', 'it', 'decided', '0', '*T*-1', ',', 'referred', 'only', 'to', 'itself', '.']\n",
      "['``', 'The', 'USIA', 'officially', 'and', 'publicly', 'declared', 'the', 'absolute', 'right', '*ICH*-2', 'of', 'everyone', 'except', 'the', 'USIA', '*', 'to', 'disseminate', 'agency', 'program', 'materials', 'in', 'the', 'United', 'States', ',', \"''\", 'my', 'lawyer', ',', 'the', 'scholarly', 'Mark', 'McCormick', 'of', 'Des', 'Moines', ',', 'said', '*T*-1', 'in', 'a', 'memo', 'pointing', 'out', 'the', 'facts', 'and', 'trying', '*', 'to', 'make', 'me', 'feel', 'good', 'after', 'the', 'press', 'reported', 'that', 'I', 'had', 'lost', '.']\n",
      "['--', 'The', 'USIA', 'said', 'that', ',', 'on', 'reflection', ',', 'anyone', '*ICH*-2', 'could', 'view', 'the', 'VOA', 'materials', ',', 'not', 'just', 'the', 'reporters', ',', 'scholars', ',', 'researchers', 'and', 'congressmen', 'who', '*T*-1', 'are', 'mentioned', '*-34', 'in', 'the', 'statute', '.']\n",
      "['``', 'The', 'agency', 'publicly', 'and', 'officially', 'declared', 'in', 'the', 'lawsuit', 'that', 'persons', 'who', '*T*-24', 'examine', 'the', 'materials', 'may', 'make', 'notes', 'and', ',', 'while', 'the', 'agency', 'position', 'is', 'that', 'persons', 'may', 'not', 'take', 'verbatim', 'notes', ',', 'no', 'one', 'will', 'check', '*-3', 'to', 'determine', 'what', 'notes', 'a', 'person', 'has', 'taken', '*T*-25', ',', \"''\", 'Mr.', 'McCormick', 'reported', '*T*-1', '.']\n",
      "['``', 'The', 'First', 'Amendment', 'proscribes', 'the', 'government', 'from', '*-2', 'passing', 'laws', 'abridging', 'the', 'right', 'to', 'free', 'speech', ',', \"''\", 'Judge', 'Donald', \"O'Brien\", 'ruled', '*T*-1', '.']\n",
      "['In', 'an', 'era', 'when', 'every', 'government', 'agency', 'has', 'a', 'public-relations', 'machine', 'that', '*T*-2', 'sends', 'you', 'stuff', 'whether', 'you', 'want', 'it', 'or', 'not', '*T*-1', ',', 'this', 'does', 'seem', 'odd', '.']\n",
      "['So', 'the', 'next', 'step', ',', 'I', 'suspect', '0', '*T*-1', ',', 'is', '*', 'to', 'try', '*-2', 'to', 'get', 'the', 'law', 'changed', '.']\n",
      "['``', 'You', 'have', '...', 'raised', 'important', 'questions', 'which', '*T*-26', 'ought', '*-2', 'to', 'be', 'answered', '*-3', ':', 'What', 'does', 'USIA', 'say', '*T*-27', 'about', 'America', 'abroad', ';', 'how', 'do', 'we', 'say', 'it', '*T*-4', ';', 'and', 'how', 'can', 'American', 'taxpayers', 'get', 'the', 'answers', 'to', 'these', 'questions', '*T*-5', '?', \"''\", 'a', 'man', 'wrote', 'me', '*T*-1', 'a', 'couple', 'of', 'years', 'ago', '.']\n",
      "['R.', 'Gordon', 'McGovern', 'was', 'forced', '*-37', 'out', 'as', 'Campbell', 'Soup', 'Co.', \"'s\", 'president', 'and', 'chief', 'executive', 'officer', ',', 'the', 'strongest', 'evidence', 'yet', 'of', 'the', 'power', 'that', 'Dorrance', 'family', 'members', 'intend', '*-2', 'to', 'wield', '*T*-1', 'in', '*', 'reshaping', 'the', 'troubled', 'food', 'company', '.']\n",
      "['``', 'The', 'profit', 'motive', 'of', 'the', 'major', 'shareholders', 'has', 'clearly', 'changed', 'for', 'the', 'better', ',', \"''\", 'said', '*T*-1', 'John', 'McMillin', ',', 'a', 'food', 'industry', 'analyst', 'for', 'Prudential-Bache', 'in', 'New', 'York', '.']\n",
      "['``', 'New', 'managers', 'would', 'think', 'a', 'little', 'more', 'like', 'Wall', 'Street', ',', \"''\", 'Mr.', 'McMillin', 'added', '*T*-1', '.']\n",
      "['For', 'example', ',', 'Campbell', 'is', 'a', 'distant', 'third', 'in', 'the', 'U.K.', 'frozen', 'foods', 'market', ',', 'where', 'it', 'recently', 'paid', '24', 'times', 'earnings', 'for', 'Freshbake', 'Foods', 'PLC', 'and', 'wound', 'up', 'with', 'far', 'more', 'capacity', 'than', 'it', 'could', 'use', '*?*', '*T*-1', '.']\n",
      "['The', 'board', 'is', 'dominated', '*-41', 'by', 'the', 'heirs', 'of', 'the', 'late', 'John', 'T.', 'Dorrance', 'Jr.', ',', 'who', '*T*-31', 'controlled', 'about', '58', '%', 'of', 'Campbell', \"'s\", 'stock', 'when', 'he', 'died', 'in', 'April', '*T*-1', '.']\n",
      "['In', 'August', ',', 'the', 'company', 'took', 'a', '$', '343', 'million', '*U*', 'pretax', 'charge', 'against', 'fiscal', '1989', 'earnings', 'when', 'it', 'announced', 'a', 'world-wide', 'restructuring', 'plan', '*T*-1', '.']\n",
      "['During', 'Mr.', 'McGovern', \"'s\", 'nine-year', 'term', 'as', 'president', ',', 'the', 'company', \"'s\", 'sales', 'rose', 'to', '$', '5.7', 'billion', '*U*', 'from', '$', '2.8', 'billion', '*U*', 'and', 'net', 'income', 'increased', 'to', '$', '274', 'million', '*U*', 'from', '$', '130', 'million', '*U*', ',', 'the', 'statement', 'said', '0', '*T*-1', '.']\n",
      "['``', 'You', \"'ve\", 'got', '*-2', 'to', 'make', 'the', 'restructuring', 'work', ',', \"''\", 'said', '*T*-1', 'Mr.', 'Baum', '.']\n",
      "['``', 'We', 'look', 'upon', 'this', 'as', 'a', 'great', 'opportunity', '*', 'to', 'prove', 'the', 'fact', 'that', 'we', 'have', 'a', 'tremendous', 'management', 'team', ',', \"''\", 'he', 'said', '*T*-1', '.']\n",
      "['``', 'The', 'way', 'that', 'we', \"'ve\", 'been', 'managing', 'Campbell', 'U.S.A.', '*T*-2', 'can', 'hopefully', 'spread', 'to', 'other', 'areas', 'of', 'the', 'company', ',', \"''\", 'Mr.', 'Baum', 'said', '*T*-1', '.']\n",
      "['``', 'You', \"'ve\", 'got', 'two', 'champions', 'sitting', 'right', 'before', 'you', ',', \"''\", 'said', '*T*-1', 'Mr.', 'Baum', '.']\n",
      "['Robert', 'L.', 'Bernstein', ',', 'chairman', 'and', 'president', 'of', 'Random', 'House', 'Inc.', ',', 'announced', 'his', 'resignation', 'from', 'the', 'publishing', 'house', '0', 'he', 'has', 'run', '*T*-1', 'for', '23', 'years', '.']\n",
      "['In', 'an', 'interview', ',', 'Mr.', 'Bernstein', 'said', '0', 'his', 'departure', '``', 'evolved', 'out', 'of', 'discussions', 'with', 'Si', 'Newhouse', 'and', 'that', \"'s\", 'the', 'decision', '0', 'I', 'reached', '*T*-1', '.', \"''\"]\n",
      "['``', 'Bob', 'has', 'handled', 'the', 'extraordinary', 'growth', 'of', 'the', 'company', 'quite', 'brilliantly', ',', \"''\", 'said', '*T*-1', 'Mr.', 'Newhouse', '.']\n",
      "['There', 'is', 'also', 'speculation', 'that', 'Mr.', 'Newhouse', 'could', 'bring', 'in', 'a', 'powerhouse', 'businessman', 'or', 'another', 'Newhouse', 'family', 'member', '0', '*T*-1', 'to', 'run', 'the', 'business', 'side', ',', 'in', 'combination', 'with', 'a', 'publishing', 'executive', 'like', 'Robert', 'Gottlieb', ',', 'who', '*T*-38', 'left', 'Random', 'House', \"'s\", 'Alfred', 'A.', 'Knopf', '*-2', 'to', 'run', 'the', 'New', 'Yorker', ',', 'also', 'owned', '*', 'by', 'the', 'Newhouse', 'family', '.']\n",
      "['When', 'Ms.', 'Evans', 'took', 'her', 'job', '*T*-1', ',', 'several', 'important', 'divisions', 'that', '*T*-2', 'had', 'reported', 'to', 'her', 'predecessor', 'were', \"n't\", 'included', '*-3', 'partly', 'because', 'she', 'did', \"n't\", 'wish', '*-4', 'to', 'be', 'a', 'full-time', 'administrator', '.']\n",
      "['This', 'species', 'of', 'congressional', 'action', 'is', 'predicated', '*-50', 'on', 'an', 'interpretation', 'of', 'the', 'appropriations', 'clause', 'that', '*T*-1', 'is', 'erroneous', 'and', 'unconstitutional', '.']\n",
      "['Moreover', ',', 'the', 'framers', 'believed', 'that', 'the', 'nation', 'needed', 'a', 'unitary', 'executive', 'with', 'the', 'independence', 'and', 'resources', '0', '*', 'to', 'perform', 'the', 'executive', 'functions', 'that', 'the', 'Confederation', 'Congress', 'had', 'performed', '*T*-2', 'poorly', 'under', 'the', 'Articles', 'of', 'Confederation', '*T*-1', '.']\n",
      "['It', 'also', 'empowers', 'the', 'president', 'to', 'make', 'recess', 'appointments', ',', 'without', 'Senate', 'approval', ':', '``', 'The', 'President', 'shall', 'have', 'Power', '*', 'to', 'fill', 'up', 'all', 'Vacancies', 'that', '*T*-1', 'may', 'happen', 'during', 'the', 'Recess', 'of', 'the', 'Senate', ',', 'by', '*-2', 'granting', 'Commissions', 'which', '*T*-40', 'shall', 'expire', 'at', 'the', 'End', 'of', 'their', 'next', 'Session', '.', \"''\"]\n",
      "['Yet', 'Section', '605', 'of', 'the', 'appropriations', 'bill', 'for', 'the', 'executive', 'office', 'provides', ':', '``', 'No', 'part', 'of', 'any', 'appropriation', 'for', 'the', 'current', 'fiscal', 'year', 'contained', '*', 'in', 'this', 'or', 'any', 'other', 'Act', 'shall', 'be', 'paid', '*-53', 'to', 'any', 'person', 'for', 'the', 'filling', 'of', 'any', 'position', 'for', 'which', 'he', 'or', 'she', 'has', 'been', 'nominated', '*-54', '*T*-1', 'after', 'the', 'Senate', 'has', 'voted', '*-2', 'not', 'to', 'approve', 'the', 'nomination', 'of', 'said', 'person', '.', \"''\"]\n",
      "['The', 'language', 'of', 'the', 'appropriations', 'rider', 'implies', 'that', 'any', 'nomination', 'to', 'any', 'position', 'of', 'a', 'rejected', 'nominee', 'will', 'result', 'in', 'the', 'president', 'being', 'denied', '*-55', 'funding', '0', '*', 'to', 'pay', 'that', 'person', \"'s\", 'salary', '*T*-1', '.']\n",
      "['The', '1990', 'appropriations', 'bills', 'also', 'contain', 'a', 'number', 'of', '``', 'muzzling', \"''\", 'provisions', 'that', '*T*-1', 'violate', 'the', 'recommendation', 'clause', 'in', 'Article', 'II', 'of', 'the', 'Constitution', '.']\n",
      "['Muzzling', 'provisions', ',', 'which', '*T*-1', 'might', 'be', 'called', '*-56', '``', 'blindfold', 'laws', \"''\", 'as', 'well', ',', 'prevent', 'the', 'executive', 'branch', 'from', 'even', '*-2', 'looking', 'at', 'certain', 'policy', 'options', ',', 'let', 'alone', 'from', '*-2', 'recommending', 'them', 'to', 'Congress', '.']\n",
      "['Such', 'laws', 'violate', 'the', 'provision', 'in', 'Article', 'II', 'that', '*T*-1', 'requires', 'the', 'president', 'to', 'make', 'recommendations', 'to', 'Congress', ',', 'but', 'which', '*T*-41', 'gives', 'the', 'president', 'the', 'discretion', '0', '*', 'to', 'select', 'the', 'subject', 'matter', 'of', 'those', 'recommendations', '*T*-2', '.']\n",
      "['Probably', 'the', 'most', 'egregious', 'example', 'is', 'a', 'proviso', 'in', 'the', 'appropriations', 'bill', 'for', 'the', 'executive', 'office', 'that', '*T*-1', 'prevents', 'the', 'president', \"'s\", 'Office', 'of', 'Management', 'and', 'Budget', 'from', '*-2', 'subjecting', 'agricultural', 'marketing', 'orders', 'to', 'any', 'cost-benefit', 'scrutiny', '.']\n",
      "['President', 'Bush', 'should', 'veto', 'appropriations', 'acts', 'that', '*T*-1', 'contain', 'these', 'kinds', 'of', 'unconstitutional', 'conditions', 'on', 'the', 'president', \"'s\", 'ability', '*', 'to', 'discharge', 'his', 'duties', 'and', 'exercise', 'his', 'prerogatives', '.']\n",
      "['What', '*T*-1', 'becomes', 'custom', 'in', 'the', 'Bush', 'administration', 'will', 'only', 'become', 'more', 'difficult', '0', 'for', 'future', 'presidents', ',', 'including', 'Democrats', ',', 'to', 'undo', '*T*-2', '.']\n",
      "['Excision', 'of', 'appropriations', 'riders', 'that', '*T*-1', 'trespass', 'on', 'the', 'president', \"'s\", 'duties', 'and', 'prerogative', 'under', 'Article', 'II', 'would', 'be', 'different', 'from', 'the', 'line-item', 'veto', '.']\n",
      "['As', '*', 'discussed', 'in', 'the', 'context', 'of', '*', 'controlling', 'federal', 'spending', ',', 'the', 'line-item', 'veto', 'is', 'characterized', '*-59', 'as', 'a', 'way', '0', 'for', 'the', 'president', 'to', 'excise', 'perfectly', 'constitutional', 'provisions', 'in', 'a', 'spending', 'bill', 'that', '*T*-2', 'are', 'objectionable', 'merely', 'because', 'they', 'conflict', 'with', 'his', 'policy', 'objectives', '*T*-1', '.']\n",
      "['If', 'Congress', 'takes', 'the', 'dispute', 'to', 'the', 'Supreme', 'Court', '-LRB-', '*-2', 'assuming', '0', 'it', 'can', 'establish', 'standing', '0', '*', 'to', 'sue', '*T*-1', '-RRB-', ',', 'President', 'Bush', 'might', 'win', '.']\n",
      "['In', 'that', 'case', ',', 'he', 'might', 'receive', 'an', 'opinion', '*ICH*-2', 'from', 'the', 'court', 'that', '*T*-1', 'is', 'a', 'vindication', 'of', 'the', 'president', \"'s\", 'right', '*', 'to', 'perform', 'the', 'duties', 'and', 'exercise', 'the', 'prerogatives', '0', 'the', 'framers', 'thought', '0', '*T*-3', 'should', 'be', 'entrusted', '*-60', 'to', 'the', 'executive', '.']\n",
      "['Moreover', ',', 'the', 'electorate', 'would', 'have', 'received', 'a', 'valuable', 'civics', 'lesson', 'in', 'how', 'the', 'separation', 'of', 'powers', 'works', 'in', 'practice', '*T*-1', '.']\n",
      "['Net', 'cash', 'income', '--', 'the', 'amount', 'left', '*', 'in', 'farmers', \"'\", 'pockets', 'after', '*', 'deducting', 'expenses', 'from', 'gross', 'cash', 'income', '--', 'increased', 'in', '33', 'states', 'in', '1988', ',', 'as', 'the', 'drought', 'cut', 'into', 'crop', 'yields', 'and', 'drove', 'up', 'commodity', 'prices', ',', 'the', 'department', \"'s\", 'Economic', 'Research', 'Service', 'reported', '0', '*T*-1', 'yesterday', '.']\n",
      "['What', '*T*-42', 'saved', 'many', 'farmers', 'from', 'a', 'bad', 'year', 'was', 'the', 'opportunity', '*', 'to', 'reclaim', 'large', 'quantities', 'of', 'grain', 'and', 'other', 'crops', 'that', 'they', 'had', '``', 'mortgaged', \"''\", '*T*-1', 'to', 'the', 'government', 'under', 'price-support', 'loan', 'programs', '.']\n",
      "['At', 'the', 'same', 'time', ',', 'export', 'demand', 'for', 'U.S.', 'wheat', ',', 'corn', 'and', 'other', 'commodities', 'strengthened', ',', 'said', '*T*-1', 'Keith', 'Collins', ',', 'a', 'department', 'analyst', '.']\n",
      "['``', 'All', 'of', 'these', 'forces', 'came', 'together', 'in', '1988', '*', 'to', 'benefit', 'agriculture', ',', \"''\", 'Mr.', 'Collins', 'said', '*T*-1', '.']\n",
      "['Iowa', 'and', 'Minnesota', 'were', 'among', 'the', 'few', 'major', 'farm', 'states', '0', '*T*-1', 'to', 'log', 'a', 'decline', 'in', 'net', 'cash', 'income', '.']\n",
      "['An', 'attempted', 'buy-out', 'led', '*', 'by', 'John', 'J.', 'McCabe', ',', 'chief', 'operating', 'officer', ',', 'never', 'materialized', ',', 'and', 'a', 'stream', 'of', 'what', 'one', 'staff', 'member', 'dismissed', '*T*-1', 'as', '``', 'tire-kickers', 'and', 'lookee-loos', \"''\", 'had', 'filed', 'through', 'since', '.']\n",
      "['The', 'Herald', 'joins', 'the', 'Baltimore', 'News-American', ',', 'which', '*T*-46', 'folded', ',', 'and', 'the', 'Boston', 'Herald-American', ',', 'which', '*T*-1', 'was', 'sold', '*-62', ',', 'as', 'cornerstones', 'of', 'the', 'old', 'Hearst', 'newspaper', 'empire', 'abandoned', '*', 'by', 'the', 'company', 'in', 'the', '1980s', '.']\n",
      "['``', 'The', 'Herald', 'was', 'a', 'survivor', 'from', 'a', 'bygone', 'age', ',', \"''\", 'said', '*T*-1', 'J.', 'Kendrick', 'Noble', ',', 'a', 'media', 'analyst', 'with', 'PaineWebber', 'Inc', '.']\n",
      "['*-64', 'Founded', 'as', 'the', 'Examiner', 'in', '1903', 'by', 'Mr.', 'Hearst', ',', 'the', 'Herald', 'was', 'crippled', '*-64', 'by', 'a', 'bitter', ',', 'decade-long', 'strike', 'that', '*T*-1', 'began', 'in', '1967', 'and', 'cut', 'circulation', 'in', 'half', '.']\n",
      "['Some', 'long-tenured', 'employees', 'will', 'receive', 'additional', 'benefits', ',', 'the', 'company', 'said', '0', '*T*-1', '.']\n"
     ]
    },
    {
     "name": "stdout",
     "output_type": "stream",
     "text": [
      "['``', 'I', \"'ve\", 'never', 'seen', 'so', 'many', 'people', 'crying', 'in', 'one', 'place', 'at', 'one', 'time', ',', \"''\", 'said', '*T*-1', 'Bill', 'Johnson', ',', 'an', 'assistant', 'city', 'editor', '.']\n",
      "['``', 'I', \"'m\", 'doing', 'the', 'main', 'story', ',', 'and', 'I', \"'m\", 'already', 'two', 'beers', 'drunk', ',', \"''\", 'said', '*T*-1', 'reporter', 'Andy', 'Furillo', ',', 'whom', 'the', 'Times', 'hired', '*T*-50', 'away', 'several', 'years', 'ago', 'but', 'who', '*T*-49', 'returned', 'to', 'the', 'Herald', 'out', 'of', 'preference', '.']\n",
      "['``', '*', 'Forget', 'it', ',', \"''\", 'he', 'said', '*T*-1', 'as', 'he', 'handed', 'her', 'a', 'paper', '.']\n",
      "['Buick', 'approached', 'American', 'Express', 'about', 'a', 'joint', 'promotion', 'because', 'its', 'card', 'holders', 'generally', 'have', 'a', '``', 'good', 'credit', 'history', \"''\", 'and', 'are', '``', 'good', 'at', '*', 'making', 'payments', ',', \"''\", 'says', '*T*-1', 'a', 'spokeswoman', 'for', 'the', 'division', '.']\n",
      "['American', 'Express', 'also', 'represents', 'the', 'upscale', 'image', '0', '``', 'we', \"'re\", 'trying', '*-2', 'to', 'project', '*T*-1', ',', \"''\", 'she', 'adds', '*T*-3', '.']\n",
      "['For', 'American', 'Express', ',', 'the', 'promotion', 'is', 'part', 'of', 'an', 'effort', '*', 'to', 'broaden', 'the', 'use', 'of', 'its', 'card', 'for', 'retail', 'sales', ',', 'where', 'the', 'company', 'expects', '*-2', 'to', 'get', 'much', 'of', 'the', 'future', 'growth', 'in', 'its', 'card', 'business', '*T*-1', '.']\n",
      "['Many', 'auto', 'dealers', 'now', 'let', 'car', 'buyers', 'charge', 'part', 'or', 'all', 'of', 'their', 'purchase', 'on', 'the', 'American', 'Express', 'card', ',', 'but', 'few', 'card', 'holders', 'realize', 'this', ',', 'Mr.', 'Riese', 'says', '0', '*T*-1', '.']\n",
      "['But', 'GMAC', 'approved', 'the', 'Buick', 'program', ',', 'he', 'says', '0', '*T*-1', ',', 'because', 'the', 'American', 'Express', 'green', 'card', 'requires', 'payment', 'in', 'full', 'upon', 'billing', ',', 'and', 'so', 'does', \"n't\", 'carry', 'any', 'finance', 'rates', '.']\n",
      "['In', 'addition', ',', 'Buick', 'is', 'a', 'relatively', 'respected', 'nameplate', 'among', 'American', 'Express', 'card', 'holders', ',', 'says', '0', '*T*-1', 'an', 'American', 'Express', 'spokeswoman', '.']\n",
      "['When', 'the', 'company', 'asked', 'members', 'in', 'a', 'mailing', 'which', 'cars', 'they', 'would', 'like', '*-3', 'to', 'get', 'information', 'about', '*T*-2', 'for', 'possible', 'future', 'purchases', '*T*-1', ',', 'Buick', 'came', 'in', 'fourth', 'among', 'U.S.', 'cars', 'and', 'in', 'the', 'top', '10', 'of', 'all', 'cars', ',', 'the', 'spokeswoman', 'says', '0', '*T*-4', '.']\n",
      "['GMAC', 'screened', 'the', 'card-member', 'list', 'for', 'holders', 'more', 'than', '30', 'years', 'old', 'with', 'household', 'incomes', 'over', '$', '45,000', '*U*', 'who', '*T*-54', 'had', \"n't\", '``', 'missed', 'any', 'payments', ',', \"''\", 'the', 'Buick', 'spokeswoman', 'says', '0', '*T*-1', '.']\n",
      "['The', 'promotion', 'helped', 'Riviera', 'sales', 'exceed', 'the', 'division', \"'s\", 'forecast', 'by', 'more', 'than', '10', '%', ',', 'Buick', 'said', '0', '*T*-1', 'at', 'the', 'time', '.']\n",
      "['The', 'ruling', 'could', 'lead', 'to', 'the', 'cancellation', 'of', 'huge', 'bank', 'debts', '0', 'the', 'London', 'Borough', 'of', 'Hammersmith', 'and', 'Fulham', 'ran', 'up', '*T*-1', 'after', '*-2', 'losing', 'heavily', 'on', 'swap', 'transactions', '.']\n",
      "['When', 'two', 'parties', 'engage', 'in', 'an', 'interest-rate', 'swap', '*T*-1', ',', 'they', 'are', 'betting', 'against', 'each', 'other', 'on', 'future', 'rates', '.']\n",
      "['``', 'While', 'this', 'court', 'ruling', 'was', 'only', 'on', 'Hammersmith', ',', 'it', 'will', 'obviously', 'be', 'very', 'persuasive', 'in', 'other', 'cases', 'of', 'a', 'similar', 'nature', ',', \"''\", 'a', 'solicitor', 'representing', 'one', 'of', 'the', 'banks', 'said', '*T*-1', '.']\n",
      "['Since', 'October', \"'s\", 'minicrash', ',', 'Wall', 'Street', 'has', 'been', 'shaken', '*-69', 'by', 'an', 'explosion', 'of', 'resentment', 'against', 'program', 'trading', ',', 'the', 'computer-driven', ',', 'lightning-fast', 'trades', 'of', 'huge', 'baskets', 'of', 'stocks', 'and', 'futures', 'that', '*T*-1', 'can', 'send', 'stock', 'prices', 'reeling', 'in', 'minutes', '.']\n",
      "['The', 'real', 'battle', 'is', 'over', 'who', '*T*-1', 'will', 'control', 'that', 'market', 'and', 'reap', 'its', 'huge', 'rewards', '.']\n",
      "['On', 'one', 'side', 'of', 'this', 'power', 'struggle', 'stand', '*T*-1', 'the', 'forces', 'in', 'ascendency', 'on', 'Wall', 'Street', '--', 'the', 'New', 'Guard', '--', 'consisting', 'of', 'high-tech', 'computer', 'wizards', 'at', 'the', 'major', 'brokerage', 'firms', ',', 'their', 'pension', 'fund', 'clients', 'with', 'immense', 'pools', 'of', 'money', ',', 'and', 'the', 'traders', 'at', 'the', 'fast-growing', 'Chicago', 'futures', 'exchanges', '.']\n",
      "['Defending', 'their', 'ramparts', 'are', '*T*-1', 'Wall', 'Street', \"'s\", 'Old', 'Guard', '--', 'the', 'traditional', ',', 'stock-picking', 'money', 'managers', ',', 'tens', 'of', 'thousands', 'of', 'stock', 'brokers', ',', 'the', 'New', 'York', 'Stock', 'Exchange', \"'s\", 'listed', 'companies', 'and', 'the', 'clannish', 'floor', 'traders', ',', 'known', '*', 'as', 'specialists', ',', 'who', '*T*-65', 'make', 'markets', 'in', 'their', 'stocks', '.']\n",
      "['*', 'Kill', 'it', ',', \"''\", 'he', 'says', '*T*-1', '.']\n",
      "['Program', 'trading', 'money', 'managers', 'have', 'gained', 'control', 'over', 'a', 'big', 'chunk', 'of', 'the', 'invested', 'funds', 'in', 'this', 'country', ',', 'and', 'the', 'pressures', '*ICH*-2', 'on', 'such', 'money', 'managers', '*', 'to', 'produce', 'consistent', 'profits', 'has', 'wedded', 'them', 'to', 'the', 'ability', '*', 'to', 'move', 'rapidly', 'in', 'and', 'out', 'the', 'market', 'that', 'program', 'trading', 'gives', 'them', '*T*-1', '.']\n",
      "['What', '*T*-67', \"'s\", 'more', ',', 'the', 'last', 'time', '0', 'major', 'Wall', 'Street', 'firms', 'said', '0', 'they', 'were', 'getting', 'out', 'of', 'program', 'trading', '*T*-1', '--', 'in', 'the', 'aftermath', 'of', 'the', '1987', 'crash', '--', 'they', 'waited', 'a', 'few', 'months', 'and', 'then', 'sneaked', 'back', 'into', 'it', '.']\n",
      "['He', 'sold', 'his', 'exchange', 'seat', 'and', 'wrote', 'a', 'bitter', 'letter', 'to', 'Big', 'Board', 'Chairman', 'John', 'J.', 'Phelan', 'Jr.', 'in', 'which', 'he', 'said', '*T*-1', '0', 'the', 'Big', 'Board', 'is', 'too', 'focused', 'on', 'machines', ',', 'rather', 'than', 'people', '.']\n",
      "['``', 'I', 'do', 'not', 'want', 'my', 'money', 'invested', '*-2', 'in', 'what', 'I', 'consider', '*T*-3', 'as', 'nothing', 'more', 'than', 'a', 'casino', ',', \"''\", 'Mr.', 'Bradley', 'wrote', '*T*-1', '.']\n",
      "['Corporations', 'like', 'Contel', 'denounce', 'program', 'trading', ',', 'yet', 'Contel', 'has', 'in', 'the', 'past', 'hired', 'pension', 'fund', 'managers', 'like', 'Bankers', 'Trust', 'Co.', 'that', '*T*-1', 'are', 'also', 'big', 'program', 'traders', '.']\n",
      "['``', 'A', 'lot', 'of', 'people', 'would', 'like', '*-2', 'to', 'go', 'back', 'to', '1970', ',', \"''\", 'before', 'program', 'trading', ',', 'Mr.', 'Phelan', 'said', '0', '*T*-1', 'this', 'week', '.']\n",
      "['Critics', 'like', 'Mr.', 'Murray', '``', 'are', 'looking', 'for', 'witches', ',', 'and', 'people', 'who', '*T*-68', 'use', 'computers', '*', 'to', 'trade', 'are', 'a', 'convenient', 'boogieman', ',', \"''\", 'says', '0', '*T*-3', 'J.', 'Thomas', 'Allen', ',', 'president', 'of', 'Advanced', 'Investment', 'Management', 'Inc.', ',', 'a', 'Pittsburgh', 'firm', 'that', '*T*-1', 'runs', 'a', '$', '200', 'million', '*U*', 'fund', 'that', '*T*-2', 'uses', 'index', 'arbitrage', '.']\n",
      "['When', 'it', 'occurs', '*T*-1', ',', 'the', 'traders', 'place', 'orders', '*ICH*-2', 'via', 'computers', '*', 'to', 'buy', 'the', 'basket', 'of', 'stocks', '-LRB-', 'such', 'as', 'the', '500', 'stocks', 'that', '*T*-3', 'constitute', 'the', 'Standard', '&', 'Poor', \"'s\", '500', 'stock', 'index', '-RRB-', 'in', 'whichever', 'market', '*T*-4', 'is', 'cheaper', 'and', 'sell', 'them', 'in', 'the', 'more', 'expensive', 'market', ';', 'they', 'lock', 'in', 'the', 'difference', 'in', 'price', 'as', 'profit', '.']\n",
      "['The', 'speed', 'with', 'which', 'such', 'program', 'trades', 'take', 'place', '*T*-1', 'and', 'the', 'volatile', 'price', 'movements', '0', 'they', 'can', 'cause', '*T*-2', 'are', 'what', 'program', 'trading', 'critics', 'profess', '*-3', 'to', 'despise', '*T*-4', '.']\n",
      "['``', 'I', 'have', 'not', 'seen', 'one', 'iota', 'of', 'evidence', \"''\", '0', '*T*-3', 'to', 'support', 'restrictions', 'on', 'program', 'trading', '*T*-2', ',', 'says', '0', '*T*-1', 'a', 'Vanderbilt', 'University', 'finance', 'professor', ',', 'Hans', 'Stoll', ',', 'an', 'authority', 'on', 'the', 'subject', '.']\n",
      "['*-2', 'Unable', '*-3', 'to', 'unload', 'UAL', 'and', 'other', 'airline', 'shares', ',', 'takeover-stock', 'speculators', ',', 'or', 'risk', 'arbitragers', ',', 'dumped', 'every', 'blue-chip', 'stock', '0', 'they', 'had', '*T*-1', '.']\n",
      "['While', 'program', 'trades', 'swiftly', 'kicked', 'in', ',', 'a', '``', 'circuit', 'breaker', \"''\", 'that', '*T*-1', 'halted', 'trading', 'in', 'stock', 'futures', 'in', 'Chicago', 'made', 'some', 'program', 'trading', 'impossible', '.']\n",
      "['Susan', 'Del', 'Signore', ',', 'head', 'trader', 'at', 'Travelers', 'Investment', 'Management', 'Co.', ',', 'says', '0', 'critics', 'are', 'ignoring', '``', 'the', 'role', '0', 'the', '-LCB-', 'takeover', 'stock', '-RCB-', 'speculator', 'is', 'taking', '*T*-1', 'in', 'the', 'market', 'as', 'a', 'source', 'of', 'volatility', '.', \"''\"]\n",
      "['Not', 'surprisingly', ',', 'old-style', 'money', 'managers', 'have', 'been', 'losing', 'clients', 'to', 'giant', 'stock-index', 'funds', 'that', '*T*-1', 'use', 'computers', '*-2', 'to', 'juggle', 'portfolios', 'so', 'they', 'mirror', 'the', 'S&P', '500', '.']\n",
      "['*-2', 'The', 'son', 'of', 'a', 'specialist', 'and', 'once', 'one', 'himself', ',', 'Mr.', 'Phelan', 'has', 'nonetheless', 'been', 'striving', '--', 'with', 'products', 'like', 'the', 'new', 'stock', 'basket', 'that', 'his', 'former', 'colleagues', 'dislike', '*T*-1', 'so', 'much', '--', '*-2', 'to', 'keep', 'index', 'funds', 'and', 'other', 'program', 'traders', 'from', '*-3', 'taking', 'their', 'business', 'to', 'overseas', 'markets', '.']\n",
      "['``', 'When', 'the', 'sell', 'programs', 'hit', '*T*-1', ',', 'you', 'can', 'hear', 'the', 'order', 'printers', 'start', '*-2', 'to', 'go', \"''\", 'on', 'the', 'Big', 'Board', 'trading', 'floor', ',', 'says', '0', '*T*-3', 'one', 'specialist', 'there', '.']\n",
      "['``', 'The', 'buyers', 'walk', 'away', ',', 'and', 'the', 'specialist', 'is', 'left', '*-74', 'alone', \"''\", 'as', 'the', 'buyer', 'of', 'last', 'resort', 'for', 'his', 'stable', 'of', 'stocks', ',', 'he', 'contends', '0', '*T*-1', '.']\n",
      "['``', 'Small', 'investors', 'are', 'absolutely', 'dismayed', 'that', 'Wall', 'Street', 'is', 'stacking', 'the', 'deck', 'against', 'them', ',', 'and', 'these', 'wide', 'swings', 'are', 'scaring', 'them', 'to', 'death', ',', \"''\", 'says', '*T*-1', 'Raymond', 'A.', 'Mason', ',', 'chairman', 'of', 'regional', 'broker', 'Legg', 'Mason', 'Inc.', 'in', 'Baltimore', '.']\n",
      "['Index', 'traders', 'who', '*T*-71', 'buy', 'all', '500', 'stocks', 'in', 'the', 'S&P', '500', 'often', 'do', \"n't\", 'even', 'know', 'what', 'the', 'companies', '0', 'they', 'own', '*T*-1', 'actually', 'do', '*T*-2', ',', 'complains', '0', '*T*-3', 'Andrew', 'Sigler', ',', 'chairman', 'of', 'Champion', 'International', 'Corp', '.']\n",
      "['Oh', ',', 'you', \"'re\", 'in', 'the', 'paper', 'business', ',', \"''\", 'is', 'one', 'reaction', '0', 'Mr.', 'Sigler', 'says', '0', 'he', \"'s\", 'gotten', '*T*-1', 'from', 'his', 'big', 'institutional', 'shareholders', '.']\n",
      "['Among', 'the', 'top', 'practitioners', 'were', '*T*-1', 'Wall', 'Street', 'blue', 'bloods', ':', 'Morgan', 'Stanley', '&', 'Co.', ',', 'Kidder', 'Peabody', ',', 'Merrill', 'Lynch', ',', 'Salomon', 'Brothers', 'Inc.', 'and', 'PaineWebber', 'Group', 'Inc', '.']\n",
      "['``', 'There', \"'s\", 'a', 'lynch-mob', 'psychology', 'right', 'now', ',', \"''\", 'says', '*T*-1', 'the', 'top', 'program-trading', 'official', 'at', 'a', 'Wall', 'Street', 'firm', '.']\n",
      "['But', 'the', 'prospects', 'for', 'legislation', 'that', '*T*-1', 'targets', 'program', 'trading', 'is', 'unlikely', 'anytime', 'soon', '.']\n",
      "['``', 'You', \"'re\", 'not', 'going', '*-2', 'to', 'stop', 'the', 'idea', 'of', '*', 'trading', 'a', 'basket', 'of', 'stocks', ',', \"''\", 'says', '*T*-1', 'Vanderbilt', \"'s\", 'Prof.', 'Stoll', '.', '``']\n",
      "['Short', 'of', 'a', 'total', 'ban', ',', 'some', 'anti-programmers', 'have', 'proposed', 'several', 'middle-ground', 'reforms', ',', 'which', 'they', 'say', '0', '*T*-1', 'would', 'take', 'away', 'certain', 'advantages', '0', 'program', 'traders', 'currently', 'enjoy', '*T*-2', 'in', 'the', 'marketplace', 'that', 'other', 'investors', 'do', \"n't\", '*T*-3', '.']\n",
      "['Higher', 'margins', 'would', 'chase', 'away', 'dozens', 'of', 'smaller', 'traders', 'who', '*T*-72', 'help', 'larger', 'traders', 'buy', 'and', 'sell', ',', 'they', 'say', '*T*-1', '.']\n",
      "['Another', 'proposed', 'reform', 'is', '*', 'to', 'have', 'program', 'traders', 'answer', 'to', 'an', '``', 'uptick', 'rule', \"''\", 'a', 'reform', 'instituted', '*', 'after', 'the', 'Great', 'Crash', 'of', '1929', 'that', '*T*-1', 'protects', 'against', 'stocks', 'being', 'relentlessly', 'beaten', '*-2', 'downward', 'by', 'those', 'seeking', '*', 'to', 'profit', 'from', 'lower', 'prices', ',', 'namely', 'short', 'sellers', '.']\n",
      "['The', 'Big', 'Board', \"'s\", 'uptick', 'rule', 'prevents', 'the', 'short', 'sale', 'of', 'a', 'stock', 'when', 'the', 'stock', 'is', 'falling', 'in', 'price', '*T*-1', '.']\n",
      "['So', 'if', 'index', 'arbitrage', 'is', 'simply', '*', 'taking', 'advantage', 'of', 'thin', 'inefficiencies', 'between', 'two', 'markets', 'for', 'the', 'same', 'widget', ',', 'how', 'did', '``', 'program', 'trading', \"''\", 'evolve', 'into', 'the', 'evil', 'creature', 'that', '*T*-2', 'is', 'evoking', 'the', 'curses', 'of', 'so', 'many', 'observers', '*T*-1', '?']\n",
      "['An', 'index-arbitrage', 'trade', 'is', 'never', 'executed', 'unless', 'there', 'is', 'sufficient', 'difference', 'between', 'the', 'markets', 'in', 'New', 'York', 'and', 'Chicago', '0', '*T*-1', 'to', 'cover', 'all', 'transaction', 'costs', '.']\n",
      "['*', 'Think', 'about', 'what', '*T*-1', 'causes', 'the', 'difference', 'in', 'prices', 'between', 'the', 'two', 'markets', 'for', 'S&P', '500', 'stocks', '--', 'usually', 'it', 'is', 'large', 'investors', 'initiating', 'a', 'buy', 'or', 'sell', 'in', 'Chicago', '.']\n",
      "['A', 'large', 'investor', 'will', 'likely', 'cause', 'the', 'futures', 'market', 'to', 'decline', 'when', 'he', 'sells', 'his', 'futures', '*T*-1', '.']\n",
      "['Why', 'does', 'this', 'large', 'hypothetical', 'seller', 'trade', 'in', 'Chicago', 'instead', 'of', 'New', 'York', '*T*-1', '?']\n",
      "['In', 'a', 'competitive', 'market', ',', 'this', 'investor', 'has', 'many', 'ways', '0', '*', 'to', 'execute', 'his', 'transactions', '*T*-1', ',', 'and', 'he', 'will', 'have', 'more', 'alternatives', '-LRB-', 'both', 'foreign', 'and', 'domestic', '-RRB-', 'if', 'his', 'volume', 'is', 'profitable', '0', 'for', 'an', 'exchange', 'to', 'handle', '*T*-2', '.']\n",
      "['A', 'free', 'market', 'with', 'a', 'profit', 'motive', 'will', 'attract', 'each', 'investor', 'to', 'the', 'liquidity', 'and', 'risks', '0', 'he', 'can', 'tolerate', '*T*-1', '.']\n",
      "['Periods', 'before', 'the', 'advent', 'of', 'futures', 'or', 'program', 'trading', 'were', 'often', 'more', 'volatile', ',', 'usually', 'when', 'fundamental', 'market', 'conditions', 'were', 'undergoing', 'change', '*T*-1', '-LRB-', '1973-75', ',', '1937-40', ',', 'and', '1928-33', 'for', 'example', '-RRB-', '.']\n",
      "['It', '*EXP*-2', 'is', 'interesting', '*', 'to', 'see', 'the', 'fundamental', 'stock', 'pickers', 'scream', '``', 'foul', \"''\", 'on', 'program', 'trading', 'when', 'the', 'markets', 'decline', '*T*-1', ',', 'while', '*-3', 'hailing', 'the', 'great', 'values', 'still', 'abounding', 'as', 'the', 'markets', 'rise', '.']\n",
      "['Some', 'of', 'the', 'proposed', 'fixes', 'for', 'what', '*T*-1', 'is', 'labeled', '*-80', '``', 'program-trading', 'volatility', \"''\", 'could', 'be', 'far', 'worse', 'than', 'the', 'perceived', 'problem', '.']\n",
      "['How', 'does', 'a', 'nice', 'new', 'tax', ',', 'say', '5', '%', ',', 'on', 'any', 'financial', 'transaction', 'sound', '*T*-1', '?']\n",
      "['They', 'continually', 'advise', 'their', 'clients', 'on', 'which', 'individual', 'stocks', '*', 'to', 'buy', 'or', 'sell', '*T*-1', ',', 'while', 'their', 'clients', 'continue', '*-2', 'to', 'hope', 'for', 'superior', 'performance', '.']\n",
      "['Yet', 'our', 'efforts', 'are', 'somehow', 'less', 'noble', 'than', 'those', 'of', 'an', 'investment', 'expert', 'studiously', 'devouring', 'press', 'clippings', 'on', 'each', 'company', '0', 'he', 'follows', '*T*-1', '.']\n",
      "['Cost-effective', 'index', 'funds', 'just', 'are', \"n't\", 'sexy', 'enough', '*', 'to', 'justify', 'the', 'high', 'fees', 'and', 'commissions', 'that', 'retail', 'customers', 'frequently', 'pay', '*T*-1', ',', 'and', 'that', 'institutional', 'customers', 'refuse', '*-3', 'to', 'pay', '*T*-2', '.']\n",
      "['The', 'FTC', 'budget', 'request', 'of', '$', '70', 'million', '*U*', ',', 'about', '$', '34', 'million', '*U*', 'of', 'which', '*T*-1', 'would', 'go', 'for', 'antitrust', 'enforcement', ',', 'would', 'also', 'be', 'cut', '*-85', 'by', '$', '15', 'million', '*U*', '.']\n",
      "['``', 'When', 'you', 'do', 'that', '*T*-1', ',', 'there', 'is', 'not', 'a', 'cut', ',', 'but', 'there', 'is', 'in', 'fact', 'a', 'program', 'increase', 'of', '$', '5', 'million', '*U*', \"''\", 'each', 'for', 'the', 'FTC', 'and', 'the', 'Justice', 'Department', ',', 'Rep.', 'Neal', 'Smith', '-LRB-', 'D.', ',', 'Iowa', '-RRB-', 'said', '0', '*T*-2', 'during', 'House', 'debate', '.']\n",
      "['``', 'Today', 'is', 'not', 'the', 'time', '0', '*', 'to', 'signal', 'that', 'Congress', 'in', 'any', 'way', 'sanctions', 'the', 'dismal', 'state', 'into', 'which', 'antitrust', 'enforcement', 'has', 'fallen', '*T*-3', '*T*-2', ',', \"''\", 'Mr.', 'Edwards', 'argued', '0', '*T*-1', '.']\n",
      "['But', 'the', '1989', 'fall', 'total', 'of', '80', ',', 'while', 'well', 'below', '1988', 'activity', ',', 'shows', '``', 'a', 'steady', 'ratcheting', 'up', 'in', 'citizen', 'referenda', 'and', 'initiatives', ',', \"''\", 'says', '0', '*T*-1', 'Patrick', 'McGuigan', ',', 'editor', 'of', 'Family', ',', 'Law', 'and', 'Democracy', 'Report', '.']\n",
      "['In', 'California', ',', 'two', 'petition', 'drives', 'for', 'next', 'year', \"'s\", 'election', 'are', '``', 'essentially', 'finished', ',', \"''\", 'says', '0', '*T*-1', 'David', 'Schmidt', ',', 'author', 'of', '``', 'Citizen', 'Lawmakers', '.', \"''\"]\n",
      "['``', 'There', 'is', 'finally', 'some', 'sort', 'of', 'sense', 'in', 'the', 'market', ',', \"''\", 'she', 'says', '*T*-1', '.']\n",
      "['Corporations', 'and', 'museums', 'are', 'among', 'the', 'serious', 'buyers', ',', '*', 'giving', 'greater', 'market', 'stability', ',', 'says', '0', '*T*-1', 'Robert', 'Persky', 'of', 'the', 'Photograph', 'Collector', '.']\n",
      "['``', 'When', 'I', 'see', 'prints', 'going', 'into', 'the', 'hands', 'of', 'institutions', '*T*-1', ',', 'I', 'know', '0', 'they', 'are', \"n't\", 'going', '*-2', 'to', 'come', 'back', 'on', 'the', 'market', '.', \"''\"]\n",
      "['But', 'much', 'contemporary', 'work', 'is', 'also', 'fetching', '``', 'a', 'great', 'deal', 'of', 'money', ',', \"''\", 'says', '0', '*T*-1', 'Miles', 'Barth', 'of', 'the', 'International', 'Center', 'of', 'Photography', '.']\n",
      "['Colleges', ',', 'she', 'says', '0', '*T*-1', ',', 'are', 'eyeing', 'registration', 'through', '900', 'service', '.']\n",
      "['``', 'The', 'thing', 'that', '*T*-1', 'will', 'really', 'break', 'this', 'market', 'right', 'open', 'is', 'merchandising', ',', \"''\", 'Ms.', 'West', 'says', '*T*-2', '.']\n",
      "['Much', 'of', 'the', '800', 'service', 'will', '``', 'migrate', 'to', '900', ',', \"''\", 'predicts', '*T*-1', 'Jack', 'Lawless', ',', 'general', 'manager', 'of', 'US', 'Sprint', \"'s\", '900', 'product', '.']\n",
      "['Patients', 'who', '*T*-1', 'receive', 'canine', 'or', 'feline', 'visitors', 'are', 'found', '*-2', 'to', 'have', 'lower', 'blood', 'pressure', 'and', 'improved', 'appetite', 'and', 'be', 'more', 'receptive', 'to', 'therapy', ',', 'says', '0', '*T*-3', 'Mary', 'Ann', \"O'Loughlin\", ',', 'program', 'coordinator', '.']\n",
      "['Hammacher', 'Schlemmer', '&', 'Co.', 'offers', 'a', 'fiber-optic', 'Christmas', 'tree', 'that', '*T*-1', 'eliminates', 'the', 'need', '*', 'to', 'string', 'lights', '.']\n",
      "['``', 'We', \"'re\", 'gaining', '1,200', 'new', 'customers', 'each', 'week', ',', \"''\", 'says', '*T*-1', 'Jack', 'Mogavero', 'of', 'General', 'Health', 'Care', 'Corp.', ',', 'Piscataway', ',', 'N.J', '.']\n",
      "['Among', 'its', 'new', 'customers', ':', 'day-care', 'centers', 'that', '*T*-1', 'previously', 'spurned', 'the', 'service', '.']\n",
      "['Elisa', 'Hollis', 'launched', 'a', 'diaper', 'service', 'last', 'year', 'because', 'State', 'College', ',', 'Pa.', ',', 'where', 'she', 'lives', '*T*-1', ',', 'did', \"n't\", 'have', 'one', '.']\n",
      "['Diaper', 'shortages', 'this', 'summer', 'limited', 'growth', 'at', 'Stork', 'Diaper', 'Services', ',', 'Springfield', ',', 'Mass.', ',', 'where', 'business', 'is', 'up', '25', '%', 'in', '*T*-1']\n",
      "['*', 'Also', 'spurring', 'the', 'move', 'to', 'cloth', ':', 'diaper', 'covers', 'with', 'Velcro', 'fasteners', 'that', '*T*-1', 'eliminate', 'the', 'need', 'for', 'safety', 'pins', '.']\n",
      "['Only', '57.6', '%', 'of', 'New', 'Yorkers', 'watch', 'the', 'local', 'news', ',', 'the', 'lowest', 'viewership', 'in', 'the', 'country', ',', 'says', '0', '*T*-1', 'a', 'new', 'study', 'by', 'Impact', 'Resources', 'Inc.', ',', 'Columbus', ',', 'Ohio', '...', '.']\n",
      "['Program', 'trading', 'is', '``', 'a', 'racket', ',', \"''\", 'complains', '0', '*T*-1', 'Edward', 'Egnuss', ',', 'a', 'White', 'Plains', ',', 'N.Y.', ',', 'investor', 'and', 'electronics', 'sales', 'executive', ',', '``', 'and', 'it', \"'s\", 'not', 'to', 'the', 'benefit', 'of', 'the', 'small', 'investor', ',', 'that', \"'s\", 'for', 'sure', '.', \"''\"]\n",
      "['``', 'I', 'think', '0', 'program', 'trading', 'is', 'basically', 'unfair', 'to', 'the', 'individual', 'investor', ',', \"''\", 'says', '*T*-1', 'Leo', 'Fields', ',', 'a', 'Dallas', 'investor', '.']\n",
      "['He', 'notes', 'that', 'program', 'traders', 'have', 'a', 'commission', 'cost', 'advantage', 'because', 'of', 'the', 'quantity', 'of', 'their', 'trades', ',', 'that', 'they', 'have', 'a', 'smaller', 'margin', 'requirement', 'than', 'individual', 'investors', 'do', 'and', 'that', 'they', 'often', 'can', 'figure', 'out', 'earlier', 'where', 'the', 'market', 'is', 'heading', '*T*-1', '.']\n",
      "['A.', 'Donald', 'Anderson', ',', 'a', '59-year-old', 'Los', 'Angeles', 'investor', 'who', '*T*-1', 'says', '0', 'the', 'stock', 'market', \"'s\", '``', 'fluctuations', 'and', 'gyrations', 'give', 'me', 'the', 'heebie-jeebies', ',', \"''\", 'does', \"n't\", 'see', 'much', 'point', 'in', '*', 'outlawing', 'program', 'trading', '.']\n",
      "['Those', 'who', '*T*-1', 'still', 'want', '*-2', 'to', 'do', 'it', '``', 'will', 'just', 'find', 'some', 'way', '0', '*', 'to', 'get', 'around', \"''\", 'any', 'attempt', '*', 'to', 'curb', 'it', '*T*-3', '.']\n",
      "['``', 'I', 'think', '0', 'we', \"'ve\", 'got', 'enough', 'securities', 'laws', ',', \"''\", 'he', 'says', '*T*-1', '.']\n",
      "['Peter', 'Anthony', ',', 'who', '*T*-1', 'runs', 'an', 'employment', 'agency', 'in', 'New', 'York', ',', 'decries', 'program', 'trading', 'as', '``', '*', 'limiting', 'the', 'game', 'to', 'a', 'few', ',', \"''\", 'but', 'he', 'also', 'is', \"n't\", 'sure', '0', 'it', 'should', 'be', 'more', 'strictly', 'regulated', '*-2', '.']\n",
      "['Glenn', 'Britta', ',', 'a', '25-year-old', 'New', 'York', 'financial', 'analyst', 'who', '*T*-1', 'plays', 'options', 'for', 'his', 'personal', 'account', ',', 'says', '0', 'he', 'is', '``', 'factoring', \"''\", 'the', 'market', \"'s\", 'volatility', '``', 'into', 'investment', 'decisions', '.', \"''\"]\n",
      "['*', 'Arbitraging', 'on', 'differences', 'between', 'spot', 'and', 'futures', 'prices', 'is', 'an', 'important', 'part', 'of', 'many', 'financial', 'markets', ',', 'he', 'says', '0', '*T*-1', '.']\n",
      "['But', '``', 'I', \"'m\", 'a', 'long-term', 'investor', ',', \"''\", 'he', 'says', '*T*-1', '.']\n",
      "['``', 'If', 'we', 'have', 'a', 'real', 'bad', 'day', ',', 'the', 'program', 'would', 'say', ',', '`', '*', 'Buy', ',', \"'\", \"''\", 'he', 'explains', '*T*-1', '.']\n",
      "['What', 'else', 'can', 'a', 'small', 'investor', 'do', '*T*-1', '?']\n",
      "['Mr.', 'Taccetta', 'says', '0', 'he', 'had', 'just', 'recouped', 'the', '$', '5,000', '*U*', '0', 'he', 'lost', '*T*-1', 'in', 'the', '1987', 'crash', 'when', 'he', 'lost', 'more', 'money', 'last', 'Oct.', '13', '*T*-2', '.']\n",
      "['She', 'believes', 'that', 'the', 'only', 'answer', 'for', 'individuals', 'is', '*', 'to', '``', 'buy', 'stocks', 'that', '*T*-1', \"'ll\", 'weather', 'any', 'storm', '.', \"''\"]\n",
      "['``', 'My', 'stocks', 'are', 'all', 'blue', 'chips', ',', \"''\", 'she', 'says', '*T*-1', '.']\n",
      "['``', 'If', 'the', 'market', 'goes', 'down', ',', 'I', 'figure', '0', 'it', \"'s\", 'paper', 'profits', '0', 'I', \"'m\", 'losing', '*T*-1', '.']\n",
      "['Young', \"'s\", 'Market', 'Co.', ',', 'a', 'wholesaler', 'of', 'spirits', ',', 'wines', 'and', 'other', 'goods', ',', 'said', '0', 'it', 'will', 'merge', 'with', 'a', 'new', 'corporation', 'formed', '*', 'by', 'the', 'Underwood', 'family', ',', 'which', '*T*-1', 'controls', 'Young', \"'s\", '.']\n"
     ]
    },
    {
     "name": "stdout",
     "output_type": "stream",
     "text": [
      "['The', 'scientists', 'said', '0', 'they', 'created', 'small', 'changes', 'in', 'the', 'crystal-lattice', 'structures', 'of', 'the', 'superconductors', '*-2', 'to', 'raise', 'the', 'amount', 'of', 'current', 'that', 'single', 'crystals', 'could', 'carry', '*T*-1', 'to', '600,000', 'amps', 'per', 'square', 'centimeter', 'in', 'a', 'moderately', 'strong', 'magnetic', 'field', '.']\n",
      "['Scientists', 'had', 'obtained', 'even', 'higher', 'current-carrying', 'capacity', 'in', 'thin', 'films', 'of', 'the', 'new', 'superconductors', ',', 'but', 'have', 'had', 'problems', '*-2', 'increasing', 'the', 'amount', 'of', 'current', 'that', 'bulk', 'crystals', 'could', 'carry', '*T*-1', '.']\n",
      "['Superconductors', 'conduct', 'electricity', 'without', 'resistance', 'when', '*-3', 'cooled', '*-2', '*T*-1', '.']\n",
      "['But', '``', 'it', 'wo', \"n't\", 'lead', 'to', 'imminent', 'use', \"''\", 'of', 'new', 'superconductors', ',', 'cautioned', '0', '*T*-1', 'Robert', 'B.', 'van', 'Dover', ',', 'one', 'of', 'the', 'AT&T', 'researchers', '.']\n",
      "['Mr.', 'van', 'Dover', 'said', '0', 'the', 'AT&T', 'team', 'created', 'the', 'desired', 'crystal', 'changes', 'by', '*-2', 'bombarding', 'superconductor', 'samples', 'with', 'neutrons', ',', 'a', 'process', 'that', '*T*-1', 'creates', 'some', 'radioactivity', 'in', 'the', 'samples', 'and', 'may', 'not', 'be', 'feasible', 'for', 'large-scale', 'commercial', 'use', '.']\n",
      "['Still', ',', 'scientists', 'breathed', 'a', 'collective', 'sigh', 'of', 'relief', 'about', 'the', 'finding', ',', 'because', 'it', 'demonstrates', 'how', '*', 'to', 'overcome', 'the', '``', 'flux', 'pinning', \"''\", 'problem', 'that', '*T*-1', 'earlier', 'this', 'year', 'was', 'widely', 'publicized', 'as', '*', 'undercutting', 'new', 'superconductors', \"'\", 'potential', '*T*-2', '.']\n",
      "['Mr.', 'van', 'Dover', 'said', '0', 'the', 'crystal', 'changes', '0', 'his', 'team', 'introduced', '*T*-1', 'apparently', 'pins', 'the', 'magnetic', 'fields', 'in', 'place', ',', '*', 'preventing', 'them', 'from', '*-3', 'lowering', 'current-carrying', 'capacity', '.']\n",
      "['Mr.', 'van', 'Dover', 'added', 'that', 'researchers', 'are', 'trying', '*-2', 'to', 'determine', 'precisely', 'what', 'crystal', 'changes', '*T*-1', 'solved', 'the', 'problem', '.']\n",
      "['*', 'Determining', 'that', 'may', 'enable', 'them', 'to', 'develop', 'better', 'ways', '0', '*', 'to', 'introduce', 'the', 'needed', 'crystal-lattice', 'patterns', '*T*-1', '.']\n",
      "['He', 'succeeds', 'James', 'A.', 'Taylor', ',', 'who', '*T*-1', 'stepped', 'down', 'as', 'chairman', ',', 'president', 'and', 'chief', 'executive', 'in', 'March', 'for', 'health', 'reasons', '.']\n",
      "['The', 'latest', 'results', 'include', 'some', 'unusual', 'write-downs', ',', 'which', '*T*-1', 'had', 'an', 'after-tax', 'impact', 'of', '$', '4.9', 'million', '*U*', '.']\n",
      "['There', 'is', '$', '30.9', 'million', '*U*', 'of', 'fourth', 'series', 'bonds', ',', 'the', 'interest', 'on', 'which', '*T*-1', 'is', 'not', 'subject', 'to', 'the', 'federal', 'alternative', 'minimum', 'tax', '.']\n",
      "['There', 'is', '$', '49.9', 'million', '*U*', 'of', 'fifth', 'series', 'bonds', ',', 'which', '*T*-1', 'are', 'subject', 'to', 'the', 'federal', 'alternative', 'minimum', 'tax', '.']\n",
      "['He', 'is', 'an', 'avid', 'fan', 'of', 'a', 'proposition', 'on', 'next', 'week', \"'s\", 'ballot', '0', '*', 'to', 'help', '*-2', 'build', 'a', 'replacement', 'for', 'Candlestick', 'Park', '*T*-1', '.']\n",
      "['As', 'San', 'Francisco', 'digs', 'out', 'from', 'The', 'Pretty', 'Big', 'One', ',', 'opponents', 'say', '0', 'the', 'last', 'thing', '0', 'the', 'city', 'can', 'afford', '*T*-1', 'is', 'an', 'expensive', 'new', 'stadium', '.']\n",
      "['George', 'Christopher', ',', 'the', 'former', 'San', 'Francisco', 'mayor', 'who', '*T*-1', 'built', 'Candlestick', 'Park', 'for', 'the', 'Giants', 'in', 'the', '1960s', ',', 'wo', \"n't\", 'endorse', 'the', 'new', 'ballpark', '.']\n",
      "['He', 'did', \"n't\", 'see', 'why', 'the', 'taxpayers', 'should', 'help', '*-2', 'build', 'something', '0', 'he', 'would', 'then', 'use', '*T*-1', '*', 'to', 'turn', 'a', 'healthy', 'profit', '.']\n",
      "['``', 'This', 'stadium', 'shows', 'that', 'anything', '0', 'government', 'can', 'do', '*T*-2', ',', 'we', 'can', 'do', '*-3', 'better', ',', \"''\", 'Mr.', 'Robbie', 'says', '*T*-1', '.']\n",
      "['But', 'to', 'Moon', 'Landrieu', ',', 'the', 'former', 'New', 'Orleans', 'mayor', 'who', '*T*-1', 'helped', '*-3', 'build', 'that', 'city', \"'s\", 'cavernous', ',', 'money-losing', 'Superdome', ',', 'questions', 'of', 'who', '*T*-2', 'benefits', 'or', 'the', 'bottom', 'line', 'are', 'of', 'little', 'relevance', '.']\n",
      "['``', 'The', 'Superdome', 'is', 'an', 'exercise', 'in', 'optimism', ',', 'a', 'statement', 'of', 'faith', ',', \"''\", 'he', 'has', 'said', '*T*-1', '.']\n",
      "['Securities', 'firms', 'are', 'among', 'the', 'biggest', 'issuers', 'of', 'commercial', 'paper', ',', 'or', 'short-term', 'corporate', 'IOUs', ',', 'which', 'they', 'sell', '*T*-1', '*-2', 'to', 'finance', 'their', 'daily', 'operations', '.']\n",
      "['``', 'Just', 'as', 'the', '1980s', 'bull', 'market', 'transformed', 'the', 'U.S.', 'securities', 'business', ',', 'so', 'too', 'will', '*?*', 'the', 'more', 'difficult', 'environment', 'of', 'the', '1990s', ',', \"''\", 'says', '*T*-1', 'Christopher', 'T.', 'Mahoney', ',', 'a', 'Moody', \"'s\", 'vice', 'president', '.']\n",
      "['What', '*T*-1', 'worries', 'credit-rating', 'concerns', 'the', 'most', 'is', 'that', 'Wall', 'Street', 'firms', 'are', 'taking', 'long-term', 'risks', 'with', 'their', 'own', 'capital', 'via', 'leveraged', 'buy-out', 'and', 'junk', 'bond', 'financings', '.']\n",
      "['``', 'The', 'recent', 'disarray', 'in', 'the', 'junk', 'bond', 'market', 'suggests', 'that', 'brokers', 'may', 'become', 'longer-term', 'creditors', 'than', 'they', 'anticipated', 'and', 'may', 'face', 'long', 'delays', \"''\", 'in', '*', 'getting', 'their', 'money', 'back', ',', 'says', '0', '*T*-2', 'Jeffrey', 'Bowman', ',', 'a', 'vice', 'president', 'at', 'S&P', ',', 'which', '*T*-1', 'raised', 'a', 'warning', 'flag', 'for', 'the', 'industry', 'in', 'April', 'when', 'it', 'downgraded', 'CS', 'First', 'Boston', '*T*-3', '.']\n",
      "['``', 'Wall', 'Street', 'is', 'facing', 'a', 'Catch-22', 'situation', ',', \"''\", 'says', '*T*-1', 'Mr.', 'Mahoney', 'of', 'Moody', \"'s\", '.']\n",
      "['Merchant', 'banking', ',', 'where', 'firms', 'commit', 'their', 'own', 'money', '*T*-1', ',', '``', 'is', 'getting', 'riskier', ',', 'and', 'there', \"'s\", 'less', 'of', 'it', '0', '*T*-2', 'to', 'go', 'around', '.', \"''\"]\n",
      "['In', 'a', 'recent', 'report', ',', 'Moody', \"'s\", 'said', '0', 'it', '``', 'expects', 'intense', 'competition', 'to', 'occur', 'through', 'the', 'rest', 'of', 'the', 'century', 'in', 'the', 'securities', 'industry', ',', 'which', '*T*-1', ',', 'combined', 'with', 'overcapacity', ',', 'will', 'create', 'poor', 'prospects', 'for', 'profitability', '.', \"''\"]\n",
      "['Both', 'Moody', \"'s\", 'and', 'S&P', 'cited', 'First', 'Boston', \"'s\", 'reliance', 'in', 'recent', 'years', 'on', 'merchant', 'banking', ',', 'which', '*T*-1', 'has', 'been', 'responsible', 'for', 'a', 'significant', 'portion', 'of', 'the', 'closely', 'held', 'firm', \"'s\", 'profit', '.']\n",
      "['``', 'These', 'two', 'exposures', 'alone', 'represent', 'a', 'very', 'substantial', 'portion', 'of', 'CS', 'First', 'Boston', \"'s\", 'equity', ',', \"''\", 'Moody', \"'s\", 'said', '*T*-1', '.']\n",
      "['But', 'its', 'earnings', 'became', 'a', 'major', 'disappointment', 'as', 'its', 'traditional', 'retail', ',', 'or', 'individual', 'investor', ',', 'business', 'showed', 'no', 'signs', 'of', '*', 'rebounding', 'from', 'the', 'slump', 'that', '*T*-1', 'followed', 'the', 'October', '1987', 'stock', 'market', 'crash', '.']\n",
      "['Shearson', '``', 'really', 'only', 'has', '$', '300', 'million', '*U*', 'of', 'capital', ',', \"''\", 'says', '*T*-1', 'Mr.', 'Bowman', 'of', 'S&P', '.']\n",
      "['``', 'A', 'year', 'ago', ',', 'Moody', \"'s\", 'also', 'had', 'Shearson', 'under', 'review', 'for', 'possible', 'downgrade', ',', \"''\", 'he', 'said', '*T*-1', '.']\n",
      "['The', 'firm', \"'s\", 'capital', ',', 'moreover', ',', 'has', \"n't\", 'grown', 'at', 'the', 'same', 'rate', 'as', 'in', 'the', 'past', ',', 'officials', 'at', 'these', 'firms', 'say', '0', '*T*-1', '.']\n",
      "['``', 'We', \"'re\", 'well', 'positioned', '*-2', 'with', '$', '1.7', 'billion', '*U*', 'of', 'capital', ',', \"''\", 'a', 'Drexel', 'spokesman', 'said', '0', '*T*-1', '.']\n",
      "['Moreover', ',', 'we', \"'ve\", 'probably', 'been', 'the', 'most', 'aggressive', 'firm', 'on', 'the', 'Street', 'in', '*', 'reducing', 'costs', ',', 'which', '*T*-1', 'are', 'down', 'around', '40', '%', 'over', 'the', 'last', 'six', 'months', '.']\n",
      "['Lewis', 'C.', 'Veraldi', ',', 'the', 'father', 'of', 'the', 'team', 'that', '*T*-1', 'created', 'the', 'highly', 'successful', 'Ford', 'Taurus', 'and', 'Mercury', 'Sable', 'cars', ',', 'retired', 'early', 'after', '*-2', 'experiencing', 'recent', 'heart', 'problems', '.']\n",
      "['But', 'he', 'is', 'best', 'known', '*-3', 'in', 'the', 'auto', 'industry', 'as', 'the', 'creator', 'of', 'a', 'team', 'car-development', 'approach', 'that', '*T*-1', 'produced', 'the', 'two', 'midsized', 'cars', 'that', '*T*-2', 'were', 'instrumental', 'in', '*', 'helping', 'the', 'No.', '2', 'auto', 'maker', 'record', 'profits', 'in', 'recent', 'years', 'and', 'in', '*', 'enabling', 'the', 'company', \"'s\", 'Ford', 'division', 'to', 'eclipse', 'General', 'Motors', 'Corp.', \"'s\", 'Chevrolet', 'division', 'as', 'the', 'top-selling', 'nameplate', 'in', 'the', 'U.S.', '.']\n",
      "['It', 'was', 'later', 'applied', 'to', 'other', 'new-car', 'programs', ',', 'including', 'those', 'that', '*T*-1', 'produced', 'the', 'Ford', 'Thunderbird', 'and', 'Mercury', 'Cougar', '.']\n",
      "['The', 'limits', 'to', 'legal', 'absurdity', 'stretched', 'another', 'notch', 'this', 'week', 'when', 'the', 'Supreme', 'Court', 'refused', '*-2', 'to', 'hear', 'an', 'appeal', 'from', 'a', 'case', 'that', '*T*-1', 'says', '0', 'corporate', 'defendants', 'must', 'pay', 'damages', 'even', 'after', '*-3', 'proving', 'that', 'they', 'could', 'not', 'possibly', 'have', 'caused', 'the', 'harm', '.']\n",
      "['But', 'this', 'case', 'is', 'a', 'stark', 'lesson', 'in', 'how', 'the', 'failures', 'of', 'the', 'traditional', 'policy-making', 'process', 'have', 'left', 'the', 'courts', 'as', 'the', 'only', 'forum', '0', 'this', 'country', 'has', '*T*-2', '0', '*', 'to', 'debate', 'risk', ',', 'technology', 'and', 'innovation', '*T*-3', '*T*-1', '.']\n",
      "['The', 'cases', 'quickly', 'went', 'to', 'court', ',', 'but', 'the', 'mothers', 'of', 'several', 'thousand', 'DES', 'plaintiffs', 'could', \"n't\", 'recall', 'whose', 'brand', 'they', 'used', '*T*-1', '.']\n",
      "['*', 'Beginning', 'in', '1980', ',', 'courts', 'in', 'several', 'states', 'including', 'California', 'and', 'New', 'York', 'decided', '*-2', 'to', 'suspend', 'the', 'common-law', 'rule', 'that', 'plaintiffs', 'must', 'prove', 'that', 'the', 'defendants', 'are', 'the', 'ones', 'who', '*T*-1', 'are', 'liable', '.']\n",
      "['The', 'ultimate', 'result', 'came', 'in', 'Hymowitz', 'v.', 'Lilly', ',', 'where', 'the', 'highest', 'New', 'York', 'court', 'expanded', 'the', 'market-share', 'approach', 'for', 'the', 'first', 'time', '*', 'to', 'say', 'that', 'drug', 'makers', 'that', '*T*-1', 'could', 'prove', '0', 'Mindy', 'Hymowitz', \"'s\", 'mother', 'did', \"n't\", 'use', 'their', 'pill', 'must', 'still', 'pay', 'their', 'share', 'of', 'any', 'damages', '*T*-2', '.']\n",
      "['``', 'Public', 'policy', 'favors', 'the', 'development', 'and', 'marketing', 'of', 'beneficial', 'new', 'drugs', ',', 'even', 'though', 'some', 'risks', ',', 'perhaps', 'serious', 'ones', ',', 'might', 'accompany', 'their', 'introduction', 'because', 'drugs', 'can', 'save', 'lives', 'and', 'reduce', 'pain', 'and', 'suffering', ',', \"''\", 'the', 'unanimous', 'court', 'said', '*T*-1', '.']\n",
      "['This', 'raises', 'the', 'key', 'issue', ':', 'What', '*', 'to', 'do', '*T*-2', 'about', 'people', 'who', '*T*-1', 'suffer', 'serious', 'injuries', 'from', 'beneficial', 'drugs', '?']\n",
      "['We', 'now', 'know', 'that', '*', 'holding', 'drug', 'makers', 'liable', 'where', 'there', \"'s\", 'no', 'evidence', 'that', 'they', 'or', 'anyone', 'else', 'knew', 'of', 'any', 'risks', '*T*-1', 'only', 'means', '0', 'the', 'drugs', 'wo', \"n't\", 'be', 'available', 'to', 'anyone', '.']\n",
      "['As', 'liability', 'expert', 'Peter', 'Huber', 'tells', 'us', ',', 'after', 'the', 'Hymowitz', 'case', ',', 'if', 'any', 'drug', 'maker', 'introduces', 'an', 'anti-miscarriage', 'drug', '``', 'it', \"'s\", 'time', '0', '*', 'to', 'sell', 'that', 'company', \"'s\", 'stock', 'short', '*T*-1', '.', \"''\"]\n",
      "['We', 'also', 'know', 'that', 'the', 'tort', 'system', 'is', 'a', 'lousy', 'way', '0', '*', 'to', 'compensate', 'victims', '*T*-1', 'anyway', ';', 'some', 'win', 'the', 'legal', 'lottery', ',', 'others', 'get', 'much', 'less', 'and', 'contingency-fee', 'lawyers', 'take', 'a', 'big', 'cut', 'either', 'way', '.']\n",
      "['Congress', 'could', 'create', 'a', 'compensation', 'program', '0', '*T*-1', 'to', 'help', 'such', 'victims', 'while', '*-2', 'protecting', 'the', 'national', 'interest', 'in', '*', 'encouraging', 'new', 'drugs', '.']\n",
      "['But', 'a', '1986', 'law', 'that', '*T*-1', 'supposedly', 'replaced', 'lawsuits', 'over', 'children', \"'s\", 'vaccines', 'with', 'a', 'compensation', 'fund', 'has', 'predictably', 'led', 'to', 'even', 'more', 'litigation', '.']\n",
      "['Everyone', 'by', 'now', 'understands', 'that', 'Congress', 'is', 'utterly', 'incapable', 'of', '*', 'writing', 'legislation', '0', '*', 'to', 'help', 'deserving', 'people', '*T*-1', 'without', 'its', 'becoming', 'some', 'billion-dollar', 'morass', '.']\n",
      "['Also', ',', 'substantially', 'lower', 'Dutch', 'corporate', 'tax', 'rates', 'helped', 'the', 'company', 'keep', 'its', 'tax', 'outlay', 'flat', 'relative', 'to', 'earnings', 'growth', ',', 'the', 'company', 'added', '0', '*T*-1', '.']\n",
      "['The', 'Rockford', ',', 'Ill.', ',', 'maker', 'of', 'fasteners', 'also', 'said', '0', 'it', 'expects', '*-2', 'to', 'post', 'sales', 'in', 'the', 'current', 'fiscal', 'year', 'that', '*T*-1', 'are', '``', 'slightly', 'above', \"''\", 'fiscal', '1989', 'sales', 'of', '$', '155', 'million', '*U*', '.']\n",
      "['At', 'Tokyo', ',', 'the', 'Nikkei', 'index', 'of', '225', 'selected', 'issues', ',', 'which', '*T*-1', 'gained', '132', 'points', 'Tuesday', ',', 'added', '14.99', 'points', 'to', '35564.43', '.']\n",
      "['The', 'development', ',', 'traders', 'said', '0', '*T*-1', ',', 'showed', 'that', 'there', 'is', 'more', 'than', 'ample', 'liquidity', 'available', 'for', 'investment', 'despite', 'the', 'market', \"'s\", 'recent', 'directionless', 'trend', '.']\n",
      "['The', 'Tokyo', 'Stock', 'Price', 'Index', '-LRB-', 'Topix', '-RRB-', 'of', 'all', 'issues', 'listed', '*', 'in', 'the', 'First', 'Section', ',', 'which', '*T*-1', 'gained', '16.05', 'points', 'Tuesday', ',', 'was', 'down', '1.46', 'points', ',', 'or', '0.05', '%', ',', 'at', '2691.19', '.']\n",
      "['The', 'Second', 'Section', 'index', ',', 'which', '*T*-1', 'added', '6.84', 'points', 'Tuesday', ',', 'was', 'up', '5.92', 'points', ',', 'or', '0.16', '%', ',', '*-2', 'to', 'close', 'at', '3648.82', '.']\n",
      "['Tokyu', 'Group', ',', 'Mitsubishi', 'Estate', 'and', 'Bridgestone\\\\/Firestone', ',', 'which', '*T*-1', 'advanced', 'Tuesday', ',', 'declined', 'on', 'profit-taking', '.']\n",
      "['Wednesday', \"'s\", 'dominant', 'issue', 'was', 'Yasuda', 'Fire', '&', 'Marine', 'Insurance', ',', 'which', '*T*-1', 'continued', '*-2', 'to', 'surge', 'on', 'rumors', 'of', 'speculative', 'buying', '.']\n",
      "['Among', 'other', 'winners', 'Wednesday', 'was', '*T*-2', 'Nippon', 'Shokubai', ',', 'which', '*T*-1', 'was', 'up', '80', 'at', '2,410', '.']\n",
      "['Sterling', \"'s\", 'firm', 'tone', ',', 'combined', 'with', 'a', 'steady', 'opening', 'on', 'Wall', 'Street', ',', 'also', 'tempted', 'some', 'investors', 'to', 'come', 'back', 'to', 'the', 'market', ',', 'dealers', 'said', '0', '*T*-1', '.']\n",
      "['Stocks', 'boosted', '*', 'by', 'market-makers', 'shopping', '*', 'to', 'cover', 'book', 'requirements', 'in', 'FT-SE', '100', 'shares', 'included', 'Carlton', 'Communications', ',', 'which', '*T*-1', 'climbed', '32', 'to', '778', '.']\n",
      "['Here', 'are', '*T*-1', 'price', 'trends', 'on', 'the', 'world', \"'s\", 'major', 'stock', 'markets', ',', 'as', '*', 'calculated', '*-2', 'by', 'Morgan', 'Stanley', 'Capital', 'International', 'Perspective', ',', 'Geneva', '.']\n",
      "['With', 'lipsticks', ',', 'liners', ',', 'lotions', 'and', 'creams', ',', 'There', 'are', 'still', 'beauty', 'plans', 'left', '0', '*', 'to', 'tackle', '*T*-1', ':', 'But', 'as', 'the', 'years', 'go', 'by', ',', 'it', 'seems', 'That', 'before', 'I', 'paint', ',', 'I', 'should', 'spackle', '.']\n",
      "['Named', '*-2', 'as', 'defendants', 'were', '*T*-1', 'Roland', 'Matthews', ',', 'president', ',', 'and', 'Peter', 'Jonas', ',', 'executive', 'vice', 'president', 'and', 'chief', 'financial', 'officer', ',', 'as', 'well', 'as', 'a', 'former', 'plant', 'manager', '.']\n",
      "['``', 'The', 'sustained', 'level', 'of', 'confidence', 'can', 'be', 'attributed', '*-3', 'to', 'the', 'continued', 'favorable', 'circumstances', 'which', '*T*-1', 'affect', 'the', 'consumer', \"'s\", 'day-to-day', 'economic', 'life', ',', \"''\", 'said', '*T*-2', 'Mr.', 'Linden', '.']\n",
      "['In', 'October', ',', '6.7', '%', 'of', 'respondents', 'said', '0', 'they', 'will', 'buy', 'a', 'car', ',', '*', 'easing', 'from', 'September', 'when', '8.1', '%', 'anticipated', 'a', 'purchase', '*T*-1', '.']\n",
      "['``', 'There', 'were', 'so', 'many', 'economic', 'reports', 'but', 'the', 'market', 'did', \"n't\", 'care', 'about', 'any', 'of', 'them', ',', \"''\", 'said', '*T*-1', 'Kathleen', 'Camilli', ',', 'a', 'money', 'market', 'economist', 'at', 'Drexel', 'Burnham', 'Lambert', 'Inc', '.']\n",
      "['``', 'So', 'the', 'focus', 'turned', 'to', 'other', 'fixed-income', 'markets', ',', 'corporate', 'and', 'mortgages', 'in', 'particular', ',', \"''\", 'she', 'said', '*T*-1', '.']\n",
      "['In', 'the', 'investment-grade', 'corporate', 'market', ',', '``', 'it', \"'s\", 'rare', 'that', 'you', 'get', 'an', 'opportunity', '*', 'to', 'buy', 'a', 'name', 'that', '*T*-1', 'has', 'such', 'broad', 'appeal', 'and', 'has', 'such', 'attractive', 'call', 'features', ',', \"''\", 'said', '0', '*T*-2', 'James', 'Ednie', ',', 'a', 'Drexel', 'industrial', 'bond', 'trader', '.']\n",
      "['In', 'the', 'Treasury', 'market', ',', 'investors', 'paid', 'scant', 'attention', 'to', 'the', 'day', \"'s\", 'economic', 'reports', ',', 'which', '*T*-1', 'for', 'the', 'most', 'part', 'provided', 'a', 'mixed', 'view', 'of', 'the', 'economy', '.']\n",
      "['``', 'Whether', 'you', 'thought', '0', 'the', 'economy', 'was', 'growing', 'weak', 'or', 'holding', '*', 'steady', ',', 'yesterday', \"'s\", 'economic', 'indicators', 'did', \"n't\", 'change', 'your', 'opinion', ',', \"''\", 'said', '*T*-1', 'Charles', 'Lieberman', ',', 'a', 'managing', 'director', 'at', 'Manufacturers', 'Hanover', 'Securities', 'Corp', '.']\n",
      "['The', 'employment', 'report', ',', 'which', 'at', 'times', '*T*-1', 'has', 'caused', 'wide', 'swings', 'in', 'bond', 'prices', ',', 'is', 'due', 'out', 'tomorrow', '.']\n",
      "['Some', 'dealers', 'said', '0', 'the', 'Treasury', \"'s\", 'intent', 'is', '*', 'to', 'help', 'government', 'bond', 'dealers', 'gauge', 'investor', 'demand', 'for', 'the', 'securities', ',', '*', 'given', 'uncertainties', 'about', 'when', 'the', 'auction', 'will', 'occur', '*T*-1', '.']\n",
      "['``', 'Even', 'the', '7.2', '%', 'return', 'from', 'the', 'risk-free', 'three-month', 'Treasury', 'bill', 'has', 'easily', 'outdistanced', 'the', '4.1', '%', 'return', 'from', 'junk', 'bonds', ',', \"''\", 'wrote', '*T*-1', 'Moody', \"'s\", 'economist', 'John', 'Lonski', 'in', 'yesterday', \"'s\", 'market', 'report', '.']\n",
      "['So', 'far', ',', 'they', 'said', '0', '*T*-2', ',', 'investors', 'appear', 'unenthusiastic', 'about', 'the', 'new', 'issue', 'which', '*T*-1', 'might', 'force', 'the', 'government', 'to', 'raise', 'the', 'coupon', 'to', 'more', 'than', '7', '%', '.']\n",
      "['Travelers', \"'s\", 'employee', 'benefits', 'group', ',', 'which', '*T*-1', 'includes', 'its', 'group', 'health', 'insurance', 'operations', ',', 'posted', 'earnings', 'of', '$', '24', 'million', '*U*', ',', 'compared', 'with', 'a', 'loss', 'of', '$', '3', 'million', '*U*', 'last', 'year', '.']\n"
     ]
    },
    {
     "name": "stdout",
     "output_type": "stream",
     "text": [
      "['National', 'Tyre', ',', 'which', '*T*-1', 'has', '420', 'branches', 'throughout', 'the', 'U.K.', ',', 'had', '1988', 'pretax', 'profit', 'of', '#', '8.5', 'million', '*U*', '.']\n",
      "['Rep.', 'John', 'Dingell', ',', 'an', 'important', 'sponsor', 'of', 'President', 'Bush', \"'s\", 'clean-air', 'bill', ',', 'plans', '*-2', 'to', 'unveil', 'a', 'surprise', 'proposal', 'that', '*T*-1', 'would', 'break', 'with', 'the', 'White', 'House', 'on', 'a', 'centerpiece', 'issue', ':', 'acid', 'rain', '.']\n",
      "['The', 'administration', \"'s\", 'plan', 'could', 'cost', 'utilities', ',', 'mainly', 'those', 'that', '*T*-1', 'use', 'coal', ',', 'up', 'to', '$', '4', 'billion', '*U*', 'a', 'year', '.']\n",
      "['Mr.', 'Dingell', \"'s\", 'staff', 'was', 'expected', '*-2', 'to', 'present', 'its', 'acid-rain', 'alternative', 'to', 'other', 'committee', 'members', ',', 'apparently', 'in', 'an', 'attempt', '*', 'to', 'appease', 'Midwestern', 'lawmakers', 'from', 'high-polluting', 'states', 'who', '*T*-1', 'insist', 'on', 'cost-sharing', '.']\n",
      "['While', 'the', 'new', 'proposal', 'might', 'appeal', 'to', 'the', 'dirtiest', 'utilities', ',', 'it', 'might', 'not', 'win', 'the', 'support', 'of', 'utilities', ',', 'many', 'in', 'the', 'West', ',', 'that', '*T*-1', 'already', 'have', 'added', 'expensive', 'cleanup', 'equipment', 'or', 'burn', 'cleaner-burning', 'fuels', '.']\n",
      "['Mr.', 'Russell', ',', 'who', '*T*-1', 'co-founded', 'the', 'Kansas', 'City', ',', 'Mo.-based', 'local', 'business', 'publications', 'concern', 'here', ',', 'said', '0', 'he', 'would', 'have', 'a', 'five-year', 'consulting', 'agreement', 'with', 'the', 'company', ',', 'which', '*T*-2', 'recently', 'underwent', 'an', 'ownership', 'change', '.']\n",
      "['Earlier', 'this', 'year', 'Shaw', 'Publishing', 'Inc.', ',', 'Charlotte', ',', 'acquired', '30', '%', 'of', 'American', 'City', '*T*-1', 'and', 'has', 'an', 'agreement', '*', 'to', 'acquire', 'a', 'further', '25', '%', 'from', 'E.W.', 'Scripps', 'Co.', 'next', 'year', '.']\n",
      "['A', 'nickname', 'for', 'measures', '0', '*', 'to', 'stop', 'the', 'market', 'from', '*-2', 'plunging', 'too', 'far', 'too', 'fast', '*T*-1', '.']\n",
      "['The', 'side', 'car', 'routes', 'program', 'trades', 'into', 'a', 'special', 'computer', 'file', 'that', '*T*-1', 'scans', 'for', 'imbalances', 'of', 'buy', 'and', 'sell', 'orders', '.']\n",
      "['If', ',', 'when', 'trading', 'resumes', '*T*-1', ',', 'the', 'S&P', 'futures', 'fall', '30', 'points', 'from', 'the', 'previous', 'day', \"'s\", 'close', ',', 'a', 'one-hour', 'trading', 'halt', 'takes', 'effect', '.']\n",
      "['Futures', 'Contracts', '--', 'Obligations', '*', 'to', 'buy', '-LRB-', 'for', 'those', 'who', '*T*-1', 'have', 'purchased', 'a', 'contract', '-RRB-', 'or', 'deliver', '-LRB-', 'for', 'those', 'who', '*T*-2', 'sold', 'one', '-RRB-', 'a', 'quantity', 'of', 'the', 'underlying', 'commodity', 'or', 'financial', 'instrument', 'at', 'the', 'agreed-upon', 'price', 'by', 'a', 'certain', 'date', '.']\n",
      "['Indexing', '--', 'Many', 'investors', ',', 'mainly', 'institutions', ',', 'follow', 'an', 'investment', 'strategy', 'of', '*', 'buying', 'and', 'holding', 'a', 'mix', 'of', 'stocks', '0', '*T*-1', 'to', 'match', 'the', 'performance', 'of', 'a', 'broad', 'stock-market', 'barometer', 'such', 'as', 'the', 'S&P', '500', '.']\n",
      "['Quant', '--', 'Generally', ',', 'any', 'Wall', 'Street', 'analyst', 'who', '*T*-1', 'employs', 'quantitive', 'research', 'techniques', '.']\n",
      "['The', 'newest', 'breed', ',', 'also', 'called', '*', '``', 'rocket', 'scientists', \"''\", 'because', 'of', 'their', 'backgrounds', 'in', 'physics', 'and', 'mathematics', ',', 'devise', 'the', 'complex', 'hedging', 'and', 'trading', 'strategies', 'that', '*T*-1', 'are', 'popularly', 'known', '*-2', 'as', 'program', 'trading', '.']\n",
      "['The', 'most', 'common', 'program-trading', 'vehicles', 'are', 'futures', 'contracts', 'on', 'Standard', '&', 'poor', \"'s\", '500-stock', 'index', '-LRB-', 'traded', '*', 'on', 'the', 'Chicago', 'Mercantile', 'Exchange', '-RRB-', ';', 'the', 'Major', 'Market', 'Index', ',', 'a', '20-stock', 'index', 'that', '*T*-1', 'mimics', 'the', 'Dow', 'Jones', 'Industrial', 'Average', '-LRB-', 'traded', '*', 'on', 'the', 'chicago', 'Board', 'of', 'Trade', '-RRB-', ';', 'and', 'the', 'S&P', '100', 'options', '-LRB-', 'traded', '*', 'on', 'the', 'Chicago', 'Board', 'Options', 'Exchange', ',', 'and', 'based', '*', 'on', '100', 'stocks', 'selected', '*', 'from', 'the', 'S&P', '500', '-RRB-', '.']\n",
      "['Such', 'an', 'application', 'for', 'federal', 'antitrust', 'clearance', 'is', 'necessary', 'for', 'any', 'investor', 'that', '*T*-1', 'might', 'seek', 'control', '.']\n",
      "['``', 'Maybe', 'he', 'just', 'wants', '*-2', 'to', 'make', 'something', 'happen', ',', \"''\", 'said', '*T*-1', 'one', 'takeover', 'expert', '.']\n",
      "['One', 'investment', 'banker', 'said', '0', 'Mr.', 'Steinberg', 'may', 'be', 'trying', '*-2', 'to', 'position', 'himself', 'as', 'a', 'friendly', 'investor', 'who', '*T*-1', 'could', 'help', 'UAL', 'Chairman', 'Stephen', 'Wolf', 'revive', 'a', 'failed', 'labor-management', 'bid', '.']\n",
      "['Mr.', 'Steinberg', ',', 'he', 'suggested', '0', '*T*-2', ',', 'could', 'replace', 'British', 'Airways', 'PLC', ',', 'which', '*T*-1', 'has', 'withdrawn', 'from', 'the', 'buy-out', 'group', '.']\n",
      "['But', 'any', 'potential', 'acquirer', 'must', 'attempt', '*-2', 'to', 'reach', 'some', 'kind', 'of', 'accord', 'with', 'the', 'company', \"'s\", 'employees', ',', 'primarily', 'its', 'pilots', 'and', 'the', 'powerful', 'machinists', \"'\", 'union', ',', 'which', '*T*-1', 'has', 'opposed', 'a', 'takeover', '.']\n",
      "['Primerica', ',', 'which', '*T*-1', 'had', 'owned', 'nearly', '70', '%', 'of', 'Williams', ',', 'will', 'pay', 'about', '16.7', 'million', 'shares', ',', 'currently', 'valued', '*', 'at', 'almost', '$', '472', 'million', '*U*', ',', 'for', 'the', 'rest', 'of', 'Williams', '.']\n",
      "['The', 'action', 'followed', 'by', 'one', 'day', 'an', 'Intelogic', 'announcement', 'that', 'it', 'will', 'retain', 'an', 'investment', 'banker', '*', 'to', 'explore', 'alternatives', '``', '0', '*T*-1', 'to', 'maximize', 'shareholder', 'value', ',', \"''\", 'including', 'the', 'possible', 'sale', 'of', 'the', 'company', '.']\n",
      "['Mr.', 'Edelman', 'declined', '*-2', 'to', 'specify', 'what', '*T*-1', 'prompted', 'the', 'recent', 'moves', ',', '*-2', 'saying', '0', 'they', 'are', 'meant', 'only', '*-4', 'to', 'benefit', 'shareholders', 'when', '``', 'the', 'company', 'is', 'on', 'a', 'roll', '*T*-3', '.', \"''\"]\n",
      "['He', 'added', ',', '``', 'This', 'has', 'nothing', '0', '*', 'to', 'do', '*T*-1', 'with', 'Marty', 'Ackerman', 'and', 'it', 'is', 'not', 'designed', ',', 'particularly', ',', '*-2', 'to', 'take', 'the', 'company', 'private', '.', \"''\"]\n",
      "['The', 'offer', ',', 'valued', '*', 'at', 'about', '$', '576', 'million', '*U*', 'for', 'the', '33', '%', 'of', 'Telerate', 'that', 'Dow', 'Jones', 'does', \"n't\", 'already', 'own', '*T*-1', ',', 'had', 'been', 'set', '*-2', 'to', 'expire', 'Nov.', '6', '.']\n",
      "['Dow', 'Jones', ',', 'which', '*T*-1', 'owns', 'about', '64', 'million', 'of', 'Telerate', \"'s\", '95', 'million', 'common', 'shares', 'outstanding', ',', 'said', 'that', 'about', '24,000', 'shares', 'have', 'been', 'tendered', '*-2', 'under', 'its', 'offer', '.']\n",
      "['Still', ',', 'he', 'added', '0', '*T*-1', ',', 'if', 'the', 'industrial', 'sector', 'remains', 'relatively', 'stable', ',', 'Rockwell', 'should', 'be', 'able', '*-2', 'to', 'recover', 'in', 'the', 'second', 'half', 'and', 'about', 'equal', 'fiscal', '1989', \"'s\", 'operating', 'profit', 'of', '$', '630.9', 'million', '*U*', '.']\n",
      "['The', 'prior-year', 'period', 'includes', 'a', 'one-time', 'favorable', 'tax', 'adjustment', 'on', 'the', 'B-1B', 'bomber', 'program', 'and', 'another', 'gain', 'from', 'sale', 'of', 'the', 'industrial', 'sewing-machine', 'business', ',', 'which', '*T*-1', 'made', 'net', '$', '185.9', 'million', '*U*', ',', 'or', '70', 'cents', 'a', 'share', '.']\n",
      "['The', 'Austin', ',', 'Texas-based', 'company', ',', 'which', '*T*-1', 'specializes', 'in', 'the', 'direct', 'sale', 'of', 'personal', 'computers', 'and', 'accessories', ',', 'said', '0', 'its', 'price', 'cuts', 'include', 'a', '$', '100', '*U*', 'reduction', 'on', 'its', 'System', '210', 'computer', 'with', '512', 'kilobytes', 'of', 'memory', ',', 'a', '40-megabyte', 'hard', 'disk', 'and', 'a', 'color', 'monitor', '.']\n",
      "['Personal', 'computer', 'prices', 'for', 'models', 'using', 'the', 'Intel', '286', 'and', '386', 'microprocessors', ',', 'which', 'the', 'Dell', 'models', 'use', '*T*-1', ',', 'generally', 'have', 'been', 'coming', 'down', 'as', 'chip', 'prices', 'have', 'fallen', '.']\n",
      "['The', 'March', 'delivery', ',', 'which', '*T*-1', 'has', 'no', 'limits', ',', 'settled', 'at', '14.53', 'cents', ',', 'up', '0.56', 'cent', 'a', 'pound', '.']\n",
      "['The', 'May', 'contract', ',', 'which', '*T*-1', 'also', 'is', 'without', 'restraints', ',', 'ended', 'with', 'a', 'gain', 'of', '0.54', 'cent', 'to', '14.26', 'cents', '.']\n",
      "['``', 'It', 'is', 'these', '645,000', 'tons', 'that', '*T*-1', 'are', 'in', 'question', 'for', 'this', 'crop', 'year', ',', \"''\", 'explained', '*T*-2', 'Judith', 'Ganes', ',', 'analyst', 'for', 'Shearson', 'Lehman', 'Hutton', ',', 'New', 'York', '.']\n",
      "['Above', 'all', ',', 'Mr.', 'Oxnard', 'noted', '0', '*T*-1', ',', 'the', 'situation', 'is', 'extremely', 'confused', '.']\n",
      "['``', 'Professional', 'sugar', 'people', 'here', 'who', '*T*-1', 'have', 'strong', 'contacts', 'with', 'the', 'Brazilian', 'sugar', 'industry', 'have', 'been', 'unable', '*-3', 'to', 'confirm', 'the', 'reports', 'or', 'get', 'enough', 'information', '0', '*', 'to', 'clarify', 'the', 'situation', '*T*-4', ',', \"''\", 'he', 'said', '*T*-2', '.']\n",
      "['Mexico', ',', 'which', '*T*-1', 'is', 'normally', 'a', 'sugar', 'exporter', ',', 'has', 'had', 'production', 'problems', 'in', 'the', 'past', 'two', 'years', ',', 'analysts', 'said', '0', '*T*-2', '.']\n",
      "['As', 'an', 'indicator', 'of', 'the', 'tight', 'grain', 'supply', 'situation', 'in', 'the', 'U.S.', ',', 'market', 'analysts', 'said', 'that', 'late', 'Tuesday', 'the', 'Chinese', 'government', ',', 'which', '*T*-1', 'often', 'buys', 'U.S.', 'grains', 'in', 'quantity', ',', 'turned', 'instead', 'to', 'Britain', '*-2', 'to', 'buy', '500,000', 'metric', 'tons', 'of', 'wheat', '.']\n",
      "['That', 'designation', 'would', ',', 'among', 'other', 'things', ',', 'provide', 'more', 'generous', 'credit', 'terms', 'under', 'which', 'the', 'Soviets', 'could', 'purchase', 'grain', '*T*-1', '.']\n",
      "['Buying', 'for', 'the', 'most', 'part', 'carried', 'over', 'from', 'the', 'previous', 'session', ',', 'and', 'traders', 'apparently', 'ignored', 'reports', 'that', 'a', 'Chilean', 'mine', 'strike', 'may', 'have', 'ended', 'almost', 'before', 'it', 'began', ',', 'an', 'analyst', 'said', '0', '*T*-1', '.']\n",
      "['According', 'to', 'news', 'service', 'reports', ',', 'most', 'workers', 'at', 'the', 'Disputado', 'mines', 'owned', '*', 'by', 'Exxon', 'Corp.', 'agreed', 'to', 'a', 'new', 'two-year', 'wage', 'contract', 'that', '*T*-1', 'includes', 'a', '5', '%', 'increase', 'and', 'other', 'benefits', '.']\n",
      "['However', ',', 'some', 'workers', 'have', \"n't\", 'yet', 'accepted', 'the', 'new', 'contract', 'and', 'are', 'continuing', 'negotiations', ',', 'the', 'analyst', 'said', '0', '*T*-1', '.']\n",
      "['The', 'Bougainville', 'copper', 'mine', 'has', 'been', 'inoperative', 'since', 'May', '15', 'because', 'of', 'attacks', 'by', 'native', 'landowners', 'who', '*T*-1', 'want', 'Bougainville', 'to', 'secede', 'from', 'Papua-New', 'Guinea', '.']\n",
      "['Equitable', 'of', 'Iowa', 'Cos.', ',', 'Des', 'Moines', ',', 'had', 'been', 'seeking', 'a', 'buyer', 'for', 'the', '36-store', 'Younkers', 'chain', 'since', 'June', ',', 'when', 'it', 'announced', 'its', 'intention', '*', 'to', 'free', 'up', 'capital', '*', 'to', 'expand', 'its', 'insurance', 'business', '*T*-1', '.']\n",
      "['His', 'appointment', 'to', 'that', 'post', ',', 'which', '*T*-1', 'has', 'senior', 'administrative', ',', 'staff', 'and', 'policy', 'responsibilities', ',', 'followed', 'a', 'several-year', 'tenure', 'as', 'Reuters', \"'s\", 'editor', 'in', 'chief', '.']\n",
      "['In', 'a', 'telephone', 'interview', ',', 'Mr.', 'Reupke', 'said', '0', 'his', 'departure', 'was', 'for', '``', 'personal', 'reasons', ',', \"''\", 'which', 'he', 'declined', '*-2', 'to', 'specify', '*T*-1', '.']\n",
      "['``', 'There', 'is', 'no', 'business', 'reason', 'for', 'my', 'departure', ',', \"''\", 'nor', 'any', 'disagreement', 'over', 'policy', ',', 'he', 'added', '0', '*T*-1', '.']\n",
      "['Mr.', 'Reupke', 'was', 'one', 'of', 'three', 'executives', 'on', 'Reuters', \"'s\", 'eight-person', 'executive', 'committee', 'who', '*T*-1', 'did', \"n't\", 'also', 'serve', 'on', 'the', 'company', \"'s\", 'board', 'of', 'directors', '.']\n",
      "['``', 'If', 'I', 'were', 'choosing', 'the', 'people', 'of', 'tomorrow', ',', 'I', 'would', 'have', 'chosen', 'the', 'people', 'who', '*T*-1', 'are', 'now', 'on', 'the', 'board', ',', \"''\", 'he', 'said', '*T*-2', '.']\n",
      "['The', 'senior', 'of', 'the', 'three', 'executives', 'who', '*T*-1', 'will', 'assume', 'Mr.', 'Reupke', \"'s\", 'duties', 'is', 'Nigel', 'Judah', ',', '58', ',', 'finance', 'director', 'and', 'a', 'Reuters', 'board', 'director', '.']\n",
      "['Savin', 'cited', '``', 'a', 'general', 'softening', 'in', 'the', 'demand', 'for', 'office', 'products', 'in', 'the', 'market', 'segments', 'in', 'which', 'Savin', 'competes', '*T*-1', '.']\n",
      "['In', 'addition', ',', 'Hadson', 'said', '0', 'it', 'will', 'write', 'off', 'about', '$', '3.5', 'million', '*U*', 'in', 'costs', 'related', '*', 'to', 'international', 'exploration', 'leases', 'where', 'exploration', 'efforts', 'have', 'been', 'unsuccessful', '*T*-1', '.']\n",
      "['The', 'Dow', 'Jones', 'Industrial', 'Average', ',', 'which', '*T*-1', 'had', 'jumped', '41.60', 'points', 'on', 'Tuesday', ',', 'drifted', 'on', 'either', 'side', 'of', 'its', 'previous', 'close', 'and', 'finished', 'with', 'a', 'gain', 'of', 'just', '0.82', 'at', '2645.90', '.']\n",
      "['``', 'This', 'market', \"'s\", 'still', 'going', 'through', 'its', 'pains', ',', \"''\", 'said', '*T*-1', 'Philip', 'Puccio', ',', 'head', 'of', 'equity', 'trading', 'at', 'Prudential-Bache', 'Securities', '.']\n",
      "['Uncertainty', 'about', 'the', 'prospects', 'for', 'further', 'action', '*', 'to', 'curtail', 'stock-index', 'arbitrage', ',', 'a', 'form', 'of', 'program', 'trading', 'blamed', '*', 'for', 'recent', 'volatility', 'in', 'the', 'market', ',', 'also', 'contributed', 'to', 'its', 'lack', 'of', 'direction', ',', 'Mr.', 'Puccio', 'said', '0', '*T*-1', '.']\n",
      "['``', 'I', 'sense', 'that', 'some', 'people', 'are', 'reluctant', '*-2', 'to', 'stick', 'their', 'necks', 'out', 'in', 'any', 'aggressive', 'way', 'until', 'after', 'the', 'figures', 'come', 'out', ',', \"''\", 'said', '*T*-1', 'Richard', 'Eakle', ',', 'president', 'of', 'Eakle', 'Associates', ',', 'Fair', 'Haven', ',']\n",
      "['Prudential-Bache', 'Securities', 'boosted', 'the', 'stock', \"'s\", 'short-term', 'investment', 'rating', 'in', 'response', 'to', 'the', 'departure', ';', 'analyst', 'John', 'McMillin', 'said', '0', 'he', 'believes', '0', 'the', 'company', 'will', 'turn', 'to', 'new', 'management', '``', 'that', '*T*-1', \"'s\", 'more', 'financially', 'oriented', '.', \"''\"]\n",
      "['Other', 'rumored', 'takeover', 'and', 'restructuring', 'candidates', '0', '*T*-2', 'to', 'attract', 'buyers', 'included', 'Woolworth', ',', 'which', '*T*-1', 'went', 'up', '1', '3\\\\/4', 'to', '59', '1\\\\/2', ';', 'Avon', 'Products', ',', 'up', '1', '3\\\\/4', 'to', '29', '1\\\\/4', ';', 'Paramount', 'Communications', ',', 'up', '2', 'to', '57', '7\\\\/8', ',', 'and', 'Ferro', ',', 'up', '2', '5\\\\/8', 'to', '28', '3\\\\/4', '.']\n",
      "['The', 'company', 'said', '0', 'it', 'plans', 'a', 'fourth-quarter', 'charge', ',', 'which', 'it', 'did', \"n't\", 'specify', '*T*-1', ',', 'for', 'an', 'early-retirement', 'program', '.']\n",
      "['AMR', 'climbed', '1', '3\\\\/4', 'to', '73', '1\\\\/8', 'amid', 'rumors', 'that', 'New', 'York', 'developer', 'Donald', 'Trump', 'was', 'seeking', 'financing', '0', '*', 'to', 'mount', 'a', 'new', ',', 'lower', 'offer', 'for', 'the', 'parent', 'company', 'of', 'American', 'Airlines', '*T*-1', '.']\n",
      "['Georgia', 'Gulf', 'added', '1', '3\\\\/4', 'to', '51', '1\\\\/4', 'after', 'NL', 'Industries', ',', 'controlled', '*', 'by', 'Dallas', 'investor', 'Harold', 'Simmons', ',', 'offered', '*-2', 'to', 'acquire', 'the', 'stock', '0', 'it', 'does', \"n't\", 'already', 'own', '*T*-1', 'for', '$', '50', '*U*', 'a', 'share', '.']\n",
      "['NL', ',', 'which', '*T*-1', 'closed', '*-2', 'unchanged', 'at', '22', '3\\\\/4', ',', 'has', 'a', 'stake', 'of', 'just', 'under', '10', '%', '.']\n",
      "['Great', 'Northern', 'Nekoosa', ',', 'which', '*T*-1', 'surged', '20', '1\\\\/8', 'Tuesday', 'after', 'Georgia-Pacific', 'launched', 'a', '$', '3.18', 'billion', '*U*', 'offer', 'for', 'the', 'company', ',', 'dropped', '1', '3\\\\/8', 'to', '61', '1\\\\/2', 'in', 'Big', 'Board', 'composite', 'trading', 'of', '5.1', 'million', 'shares', '.']\n",
      "['Georgia-Pacific', ',', 'which', '*T*-1', 'went', 'down', '2', '1\\\\/2', 'Tuesday', ',', 'lost', 'another', '1\\\\/2', 'to', '50', '3\\\\/8', '.']\n",
      "['Atsushi', 'Muramatsu', ',', 'executive', 'vice', 'president', 'and', 'chief', 'financial', 'officer', 'of', 'Nissan', ',', 'said', ',', '``', 'The', 'company', 'has', 'experienced', 'a', 'remarkable', 'turnaround', 'in', 'terms', 'of', 'profitability', 'since', 'the', 'fiscal', 'year', 'ending', 'March', '1987', ',', 'when', 'the', 'sharp', 'and', 'rapid', 'appreciation', 'of', 'the', 'yen', 'caused', 'many', 'difficulties', '*T*-1', '.']\n",
      "['``', 'It', 'can', 'be', 'said', 'that', 'the', 'trend', 'of', 'financial', 'improvement', 'has', 'been', 'firmly', 'set', ',', \"''\", 'he', 'added', '*T*-1', '.']\n",
      "['Heritage', 'Media', 'Corp.', ',', 'New', 'York', ',', 'said', '0', 'it', 'offered', '*-2', 'to', 'buy', 'the', 'shares', 'of', 'POP', 'Radio', 'Corp.', '0', 'it', 'does', \"n't\", 'already', 'own', '*T*-1', 'in', 'a', 'stock', 'swap', '.']\n",
      "['Heritage', ',', 'which', '*T*-1', 'owns', '51', '%', 'of', 'POP', \"'s\", '3.6', 'million', 'shares', 'outstanding', ',', 'said', '0', 'it', 'will', 'exchange', 'one', 'share', 'of', 'a', 'new', 'preferred', 'stock', 'for', 'each', 'POP', 'common', 'share', '0', 'it', 'does', \"n't\", 'already', 'own', '*T*-2', '.']\n",
      "['The', 'preferred', 'stock', ',', 'which', '*T*-1', 'would', 'have', 'a', 'dividend', 'rate', 'of', '$', '1.76', '*U*', 'a', 'year', ',', 'would', 'be', 'convertible', 'into', 'Heritage', 'common', 'at', 'a', 'rate', 'of', 'four', 'common', 'shares', 'for', 'each', 'preferred', '.']\n",
      "['New', 'York-based', 'POP', 'Radio', 'provides', ',', 'through', 'a', 'national', ',', 'in-store', 'network', ',', 'a', 'customized', 'music', ',', 'information', 'and', 'advertising', 'service', 'which', '*T*-1', 'simulates', 'live', 'radio', '.']\n",
      "['Harry', 'Millis', ',', 'an', 'analyst', 'at', 'McDonald', '&', 'Co.', 'in', 'Cleveland', ',', 'said', '0', 'GenCorp', \"'s\", 'unanticipated', 'losses', 'come', 'largely', 'from', 'an', 'accident', 'at', 'a', 'government-owned', 'assembly', 'plant', 'in', 'Kansas', ',', 'run', '*', 'by', 'a', 'private', 'subcontractor', ',', 'that', '*T*-1', 'makes', 'cluster', 'bombs', 'for', 'GenCorp', \"'s\", 'Aerojet', 'Ordnance', 'business', '.']\n",
      "['The', 'McAlpine', 'family', ',', 'which', '*T*-1', 'operates', 'a', 'number', 'of', 'multinational', 'companies', ',', 'including', 'a', 'London-based', 'engineering', 'and', 'construction', 'company', ',', 'also', 'lent', 'to', 'Meridian', 'National', '$', '500,000', '*U*', '.']\n",
      "['The', 'sale', 'of', 'shares', 'to', 'the', 'McAlpine', 'family', 'along', 'with', 'the', 'recent', 'sale', 'of', '750,000', 'shares', 'of', 'Meridian', 'stock', 'to', 'Haden', 'MacLellan', 'Holding', 'PLC', 'of', 'Surrey', ',', 'England', 'and', 'a', 'recent', 'public', 'offering', 'have', 'increased', 'Meridian', \"'s\", 'net', 'worth', 'to', '$', '8.5', 'million', '*U*', ',', 'said', '0', '*T*-1', 'William', 'Feniger', ',', 'chief', 'executive', 'officer', 'of', 'Toledo', ',', 'Ohio-based', 'Meridian', '.']\n",
      "['Last', 'week', ',', 'Miami-based', 'Carnival', 'disclosed', 'that', 'Waertsilae', 'Marine', 'Industries', ',', 'the', 'Finnish', 'shipyard', 'that', '*T*-1', 'is', 'building', 'Carnival', \"'s\", 'new', 'cruise', 'ships', ',', 'planned', '*-2', 'to', 'file', 'for', 'bankruptcy', '.']\n",
      "['The', 'bulk', 'of', 'the', 'pretax', 'charge', 'is', 'a', '$', '62', 'million', '*U*', 'write-off', 'of', 'capitalized', 'servicing', 'at', 'the', 'mobile', 'home', 'financing', 'subsidiary', ',', 'which', 'the', 'company', 'said', '0', '*T*-1', 'had', 'been', 'a', 'big', 'drain', 'on', 'earnings', '.']\n",
      "['First', 'of', 'America', ',', 'which', '*T*-1', 'now', 'has', '45', 'banks', 'and', '$', '12.5', 'billion', '*U*', 'in', 'assets', ',', 'announced', 'an', 'agreement', '*', 'to', 'acquire', 'the', 'Peoria', ',', 'Ill.', ',', 'bank', 'holding', 'company', 'in', 'January', '.']\n",
      "['Coleco', 'Industries', 'Inc.', ',', 'a', 'once', 'high-flying', 'toy', 'maker', 'whose', 'stock', '*T*-2', 'peaked', 'at', '$', '65', '*U*', 'a', 'share', 'in', 'the', 'early', '1980s', ',', 'filed', 'a', 'Chapter', '11', 'reorganization', 'plan', 'that', '*T*-1', 'provides', 'just', '1.125', 'cents', 'a', 'share', 'for', 'common', 'stockholders', '.']\n",
      "['But', 'Coleco', 'bounced', 'back', 'with', 'the', 'introduction', 'of', 'the', 'Cabbage', 'Patch', 'dolls', ',', 'whose', 'sales', '*T*-1', 'hit', '$', '600', 'million', '*U*', 'in', '1985', '.']\n",
      "['Rep.', 'Dingell', 'of', 'Michigan', 'plans', '*-3', 'to', 'unveil', 'today', 'a', 'proposal', 'that', '*T*-1', 'would', 'break', 'with', 'Bush', \"'s\", 'clean-air', 'bill', 'on', 'the', 'issue', 'of', 'emissions', 'that', '*T*-2', 'lead', 'to', 'acid', 'rain', '.']\n",
      "['Gunmen', 'in', 'Lebanon', 'assassinated', 'a', 'Saudi', 'Arabian', 'Embassy', 'employee', ',', 'and', 'the', 'pro-Iranian', 'Islamic', 'Jihad', 'took', 'responsibility', 'for', 'the', 'slaying', '0', '*T*-1', 'to', 'avenge', 'the', 'beheading', 'of', '16', 'terrorists', 'by', 'Riyadh', \"'s\", 'government', 'in', 'September', '.']\n"
     ]
    },
    {
     "name": "stdout",
     "output_type": "stream",
     "text": [
      "['Pakistan', \"'s\", 'Bhutto', 'defeated', 'the', 'first', 'no-confidence', 'motion', 'in', 'the', 'nation', \"'s\", '42-year', 'history', ',', '*-2', 'surviving', 'the', 'vote', 'that', '*T*-1', 'could', 'have', 'brought', 'down', 'her', '11-month-old', 'government', '.']\n",
      "['Bush', 'unveiled', 'a', 'package', 'of', 'trade', 'initiatives', '0', '*T*-1', 'to', 'help', '*-2', 'establish', '``', 'economic', 'alternatives', 'to', 'drug', 'trafficking', \"''\", 'in', 'the', 'Andean', 'nations', 'of', 'South', 'America', '.']\n",
      "['Sony', 'Columbia', 'Acquisition', 'Corp.', ',', 'formed', '*', 'for', 'the', 'Columbia', 'deal', ',', 'will', 'formally', 'take', 'ownership', 'of', 'the', 'movie', 'studio', 'later', 'this', 'month', ',', 'a', 'spokesman', 'said', '0', '*T*-1', '.']\n",
      "['Still', 'unresolved', 'is', '*T*-1', 'Sony', \"'s\", 'effort', '*', 'to', 'hire', 'producers', 'Jon', 'Peters', 'and', 'Peter', 'Guber', 'to', 'run', 'the', 'studio', '.']\n",
      "['Both', 'sides', 'are', 'in', 'talks', '0', '*', 'to', 'settle', 'the', 'dispute', '*T*-1', '.']\n",
      "['The', 'Chicago', 'Merc', 'plans', 'an', 'additional', '``', 'circuit', 'breaker', \"''\", '0', '*', 'to', 'stem', 'sharp', 'drops', 'in', 'the', 'market', '*T*-1', '.']\n",
      "['The', 'compromise', 'plan', ',', 'which', '*T*-1', 'boosts', 'the', 'minimum', 'wage', 'for', 'the', 'first', 'time', 'since', '1981', ',', 'is', 'expected', '*-2', 'to', 'clear', 'the', 'Senate', 'soon', '.']\n",
      "['Random', 'House', 'Chairman', 'Robert', 'Bernstein', 'said', '0', 'he', 'is', 'resigning', 'from', 'the', 'publishing', 'house', '0', 'he', 'has', 'run', '*T*-1', 'for', '23', 'years', '.']\n",
      "['Cray', 'Research', 'indicated', 'that', 'the', 'survival', 'of', 'a', 'spinoff', 'company', ',', 'which', '*T*-1', 'is', 'developing', 'a', 'new', 'supercomputer', ',', 'depends', 'heavily', 'on', 'its', 'chairman', 'and', 'chief', 'designer', ',', 'Seymour', 'Cray', '.']\n",
      "['Two', 'antitrust', 'agencies', 'may', 'face', 'further', 'cutbacks', 'because', 'of', 'a', 'complicated', 'new', 'funding', 'device', ',', 'some', 'Democrats', 'in', 'Congress', 'are', 'warning', '0', '*T*-1', '.']\n",
      "['All', 'this', 'has', 'cast', 'a', 'pall', 'over', 'Columbia', 'Savings', '&', 'Loan', 'Association', 'and', 'its', 'high-rolling', '43-year-old', 'chairman', ',', 'Thomas', 'Spiegel', ',', 'who', '*T*-1', 'built', 'the', '$', '12.7', 'billion', '*U*', 'Beverly', 'Hills', ',', 'Calif.', ',', 'thrift', 'with', 'high-yield', 'junk', 'bonds', '.']\n",
      "['While', 'many', 'problems', 'would', 'attend', 'a', 'restructuring', 'of', 'Columbia', ',', 'investors', 'say', '0', 'Mr.', 'Spiegel', 'is', 'mulling', 'such', 'a', 'plan', '0', '*', 'to', 'mitigate', 'Columbia', \"'s\", 'junk', 'problems', '*T*-1', '.']\n",
      "['Indeed', ',', 'Columbia', 'executives', 'recently', 'told', 'reporters', '0', 'they', 'were', 'interested', 'in', '*', 'creating', 'a', 'separate', 'unit', '0', '*T*-1', 'to', 'hold', 'Columbia', \"'s\", 'junk', 'bonds', 'and', 'perhaps', 'do', 'merchant', 'banking', '.']\n",
      "['That', \"'s\", 'why', 'Columbia', 'just', 'wrote', 'off', '$', '130', 'million', '*U*', 'of', 'its', 'junk', 'and', 'reserved', '$', '227', 'million', '*U*', 'for', 'future', 'junk', 'losses', '*T*-1', '.']\n",
      "['But', 'its', '17', 'big', 'junk', 'holdings', 'at', 'year', 'end', 'showed', 'only', 'a', 'few', 'bonds', 'that', '*T*-1', 'have', 'been', 'really', 'battered', '*-2', '.']\n",
      "['Some', 'think', '0', 'Columbia', \"'s\", 'thrift', ',', 'which', '*T*-1', 'now', 'is', 'seeking', 'a', 'new', 'chief', 'operating', 'officer', ',', 'might', 'be', 'capitalized', '*-3', 'at', ',', 'say', '$', '300', 'million', '*U*', ',', 'and', 'shopped', '*-3', 'to', 'a', 'commercial', 'bank', 'that', '*T*-2', 'wants', 'a', 'California', 'presence', '.']\n",
      "['``', 'They', 'are', \"n't\", 'really', 'a', 'thrift', ',', \"''\", 'says', '*T*-1', 'Jonathan', 'Gray', ',', 'a', 'Sanford', 'C.', 'Bernstein', 'analyst', '.']\n",
      "['Interleukin-3', 'may', 'help', 'in', '*', 'treating', 'blood', 'cell', 'deficiencies', 'associated', '*', 'with', 'cancer', 'treatment', ',', 'bone', 'marrow', 'transplants', 'and', 'other', 'blood-cell', 'disorders', ',', 'Genetics', 'Institute', 'said', '0', '*T*-1', '.']\n",
      "['The', 'patent', 'covers', 'BMP-1', 'type', 'proteins', 'and', 'pharmaceutical', 'compositions', 'and', 'methods', 'for', '*', 'treating', 'bone', 'or', 'cartilage', 'defects', ',', 'Genetics', 'Institute', 'said', '0', '*T*-1', '.']\n",
      "['The', 'company', 'added', 'that', 'it', 'has', 'filed', 'patent', 'applications', '``', 'on', 'a', 'large', 'number', 'of', 'different', 'BMP', 'proteins', \"''\", 'and', 'the', 'patent', 'on', 'BMP-1', 'is', 'the', 'first', '0', 'it', 'has', 'received', '*T*-1', '.']\n",
      "['BMP', 'products', 'may', 'be', 'useful', 'in', 'fracture', 'healing', 'and', 'in', '*', 'treating', 'bone', 'loss', 'associated', '*', 'with', 'periodontal', 'disease', 'and', 'certain', 'cancers', ',', 'the', 'company', 'said', '0', '*T*-1', '.']\n",
      "['The', 'Bush', 'administration', \"'s\", 'nomination', 'of', 'Clarence', 'Thomas', 'to', 'a', 'seat', 'on', 'the', 'federal', 'appeals', 'court', 'here', 'received', 'a', 'blow', 'this', 'week', 'when', 'the', 'American', 'Bar', 'Association', 'gave', 'Mr.', 'Thomas', 'only', 'a', '``', 'qualified', \"''\", 'rating', ',', 'rather', 'than', '``', 'well', 'qualified', '*T*-1', '.', \"''\"]\n",
      "['People', 'familiar', 'with', 'the', 'Senate', 'Judiciary', 'Committee', ',', 'which', '*T*-1', 'will', 'vote', 'on', 'the', 'nomination', ',', 'said', '0', 'some', 'liberal', 'members', 'of', 'the', 'panel', 'are', 'likely', '*-2', 'to', 'question', 'the', 'ABA', 'rating', 'in', 'hearings', 'on', 'the', 'matter', '.']\n",
      "['Groups', 'have', 'accused', 'him', 'of', '*', 'advocating', 'policies', 'that', '*T*-1', 'narrowed', 'rights', 'of', 'older', 'workers', 'and', 'of', '*', 'ignoring', 'discrimination', 'by', 'large', 'companies', '.']\n",
      "['``', 'We', \"'re\", 'pleased', '0', 'the', 'ABA', 'rated', 'him', 'qualified', ',', \"''\", 'David', 'Runkel', ',', 'the', 'department', \"'s\", 'chief', 'spokesman', ',', 'said', '*T*-1', 'in', 'an', 'interview', '.']\n",
      "['The', 'ABA', 'gives', 'a', '``', 'qualified', \"''\", 'rating', 'to', 'nominees', '0', 'it', 'believes', '0', '*T*-1', 'would', 'perform', '``', 'satisfactorily', \"''\", 'on', 'the', 'bench', '.']\n",
      "['Lentjes', \"'\", 'product', 'mix', 'of', 'specialized', 'boilers', 'and', 'pipes', 'provides', 'a', 'good', 'fit', 'with', 'its', 'own', 'Lurgi', 'G.m.b', '.', 'H.', 'plant', 'engineering', 'unit', ',', 'the', 'company', 'said', '0', '*T*-1', '.']\n",
      "['If', 'both', 'agencies', 'find', 'violations', 'of', 'the', 'U.S.', 'trade', 'law', ',', 'the', 'U.S.', 'would', 'assess', 'penalty', 'duties', 'on', 'the', 'imports', ',', 'which', '*T*-1', 'already', 'are', 'subject', 'to', 'import', 'quotas', 'under', 'bilateral', 'textile', 'and', 'apparel', 'trade', 'agreements', '.']\n",
      "['Upjohn', 'officials', 'said', '0', 'they', 'could', \"n't\", 'estimate', 'the', 'size', 'of', 'the', 'charge', 'until', 'they', 'determine', 'which', 'employees', ',', 'and', 'how', 'many', ',', '*T*-1', 'will', 'participate', 'in', 'the', 'retirement', 'plan', '.']\n",
      "['Chairman', 'Theodore', 'Cooper', 'called', 'the', 'program', 'part', 'of', 'the', 'company', \"'s\", 'two-year', 'strategy', '0', '*', 'to', 'implement', 'budget', 'constraints', 'and', '``', 'an', 'effective', 'headcount-control', 'program', '*T*-1', '.', \"''\"]\n",
      "['But', 'some', 'analysts', 'questioned', 'how', 'much', 'of', 'an', 'impact', 'the', 'retirement', 'package', 'will', 'have', '*T*-1', ',', 'because', 'few', 'jobs', 'will', 'end', 'up', '*-2', 'being', 'eliminated', '*-3', '.']\n",
      "['``', 'It', \"'s\", 'a', 'cosmetic', 'move', ',', \"''\", 'said', '*T*-1', 'Jonathan', 'S.', 'Gelles', 'of', 'Wertheim', 'Schroder', '&', 'Co', '.']\n",
      "['Earlier', 'staff-reduction', 'moves', 'have', 'trimmed', 'about', '300', 'jobs', ',', 'the', 'spokesman', 'said', '0', '*T*-1', '.']\n",
      "['When', '*-4', 'offered', '*-3', 'a', 'free', 'trip', 'from', 'the', 'Bronx', ',', 'Wedtech', \"'s\", 'home', ',', 'to', 'Washington', ',', 'D.C.', ',', 'by', 'one', 'of', 'Wedtech', \"'s\", 'principals', '*T*-2', ',', 'he', 'tells', 'the', 'reader', ',', '``', '*-5', 'mindful', 'of', '*', 'accepting', 'anything', 'of', 'value', 'from', 'those', '0', 'I', 'was', 'writing', 'about', '*T*-1', ',', 'I', 'declined', '.', \"''\"]\n",
      "['Bribe', 'by', 'bribe', ',', 'Mr.', 'Sternberg', 'and', 'his', 'co-author', ',', 'Matthew', 'C.', 'Harrison', 'Jr.', ',', 'lead', 'us', 'along', 'the', 'path', '0', 'Wedtech', 'traveled', '*T*-1', ',', 'from', 'its', 'inception', 'as', 'a', 'small', 'manufacturing', 'company', 'to', 'the', 'status', 'of', 'full-fledged', 'defense', 'contractor', ',', 'entrusted', '*', 'with', 'the', 'task', 'of', '*', 'producing', 'vital', 'equipment', 'for', 'the', 'Army', 'and', 'Navy', '.']\n",
      "['The', 'book', 'revolves', 'around', 'John', 'Mariotta', ',', 'the', 'founder', 'of', 'the', 'company', ',', 'and', 'Fred', 'Neuberger', ',', 'who', '*T*-1', 'became', 'his', 'partner', 'soon', 'after', 'Wedtech', \"'s\", 'creation', '.']\n",
      "['If', 'you', 'were', 'not', 'an', 'effective', 'crook', ',', 'you', 'found', 'yourself', 'out', 'in', 'the', 'cold', ',', 'a', 'fate', 'that', '*T*-1', 'eventually', 'befell', 'Mr.', 'Mariotta', ',', 'the', 'firm', \"'s\", 'semiliterate', '``', 'minority', \"''\", 'person', '.']\n",
      "['The', 'scammers', 'themselves', 'were', 'garden-variety', 'low', 'lifes', ',', 'conspicuous', 'consumers', 'who', '*T*-1', 'wanted', 'big', 'houses', ',', 'Mercedes', 'cars', ',', 'beautiful', 'women', ',', 'expensive', 'clothes', '.']\n",
      "['The', 'one', 'character', 'at', 'least', 'somewhat', 'interesting', 'was', 'Irving', 'Louis', 'Lobsenz', ',', 'a', 'pediatrician', 'who', '*T*-1', 'changed', 'his', 'name', 'to', 'Rusty', 'Kent', 'London', 'and', 'became', 'a', 'master', 'gambler', 'and', 'author', 'of', 'a', 'book', 'on', 'blackjack', '.']\n",
      "['Programs', 'like', 'Section', '8', '-LRB-', 'A', '-RRB-', 'are', 'a', 'little', 'like', '*', 'leaving', 'gold', 'in', 'the', 'street', 'and', 'then', 'expressing', 'surprise', 'when', 'thieves', 'walk', 'by', '*-2', 'to', 'scoop', 'it', 'up', '*T*-1', '.']\n",
      "['They', 'take', 'place', 'in', 'government', 'programs', 'that', '*T*-1', 'seem', 'tailor-made', 'for', 'corruption', '.']\n",
      "['Why', 'are', 'programs', 'like', 'this', 'not', 'eliminated', '*-2', '*T*-1', '?']\n",
      "['How', 'many', 'government', 'programs', 'and', 'policies', '*T*-1', 'exist', 'because', 'they', 'line', 'the', 'pockets', 'of', 'political', 'insiders', '?']\n",
      "['Carnival', ',', 'which', '*T*-1', 'has', 'three', 'ships', 'on', 'order', 'from', 'Waertsilae', 'Marine', ',', 'presented', 'claims', 'for', '$', '1.5', 'billion', '*U*', 'damages', 'in', 'the', 'bankruptcy', 'court', 'this', 'week', '.']\n",
      "['In', 'all', ',', 'the', 'company', 'hopes', '*-2', 'to', 'repay', '$', '45', 'million', '*U*', 'in', 'debt', 'through', 'the', 'sales', ',', 'which', '*T*-1', 'will', 'completely', 'discharge', 'its', 'secured', 'debt', ',', 'the', 'company', 'said', '0', '*T*-3', '.']\n",
      "['Concurrent', 'with', 'Mr.', 'Nichol', \"'s\", 'appointment', ',', 'Comprehensive', 'Care', 'moved', 'its', 'corporate', 'headquarters', 'from', 'Irvine', ',', 'Calif.', ',', 'to', 'St.', 'Louis', ',', 'where', 'the', 'company', 'maintained', 'its', 'contract', 'services', 'offices', '*T*-1', '.']\n",
      "['Ralston', 'attributed', 'its', 'fourth-quarter', 'slump', 'partly', 'to', 'higher', 'costs', 'of', 'ingredients', 'in', 'the', 'pet', 'food', 'business', 'as', 'well', 'as', 'competitive', 'pressures', ',', 'which', '*T*-1', 'required', 'higher', 'advertising', 'spending', '.']\n",
      "['For', 'the', 'year', ',', 'pet', 'food', 'volume', 'was', 'flat', ',', 'the', 'company', 'said', '0', '*T*-1', '.']\n",
      "['The', 'Continental', 'Baking', 'business', 'benefited', 'from', 'higher', 'margins', 'on', 'bread', 'and', 'on', 'increased', 'cake', 'sales', ',', 'it', 'added', '0', '*T*-1', '.']\n",
      "['The', 'percent', 'difference', 'compares', 'actual', 'profit', 'with', 'the', '30-day', 'estimate', 'where', 'at', 'least', 'three', 'analysts', 'have', 'issues', 'forecasts', 'in', 'the', 'past', '30', 'days', '*T*-1', '.']\n",
      "['The', 'Soviet', 'Union', 'bought', 'roughly', '310', 'million', 'bushels', 'of', 'U.S.', 'corn', '*ICH*-2', 'in', 'October', ',', 'which', '*T*-1', 'is', 'the', 'most', 'ever', 'sold', '*', 'to', 'the', 'Soviet', 'Union', 'in', 'one', 'month', 'from', 'the', 'U.S.', '.']\n",
      "['The', 'Soviet', 'Union', 'wants', 'much', 'of', 'it', 'delivered', '*-2', 'by', 'January', ',', 'which', '*T*-1', 'would', 'be', 'a', 'strain', 'in', 'most', 'years', '.']\n",
      "['But', 'it', 'is', 'particularly', 'difficult', 'this', 'autumn', 'because', 'of', 'low', 'water', 'levels', 'on', 'the', 'Mississippi', 'River', ',', 'on', 'which', 'flows', '*T*-1', 'much', 'of', 'the', 'U.S.', 'corn', 'that', '*T*-3', 'is', 'shipped', '*-2', 'overseas', '.']\n",
      "['``', 'We', 'are', 'shipping', 'the', 'most', 'corn', 'in', 'that', 'short', 'of', 'time', 'period', 'to', 'one', 'customer', 'on', 'record', ',', \"''\", 'said', '*T*-1', 'William', 'Dunton', ',', 'a', 'U.S.', 'Agriculture', 'Department', 'transportation', 'expert', '.']\n",
      "['Because', 'of', 'persistent', 'dry', 'weather', 'in', 'the', 'northern', 'Plains', ',', 'the', 'water', 'level', 'on', 'the', 'upper', 'section', 'of', 'the', 'Mississippi', 'River', 'is', 'so', 'low', 'that', 'many', 'river', 'operators', 'are', 'already', 'trimming', 'the', 'number', 'of', 'barges', '0', 'their', 'tows', 'push', '*T*-1', 'at', 'one', 'time', '.']\n",
      "['In', 'a', 'few', 'weeks', ',', 'many', 'barges', 'probably', 'wo', \"n't\", 'be', 'able', '*-2', 'to', 'operate', 'fully', 'loaded', 'south', 'of', 'St.', 'Louis', 'because', 'the', 'U.S.', 'Army', 'Corps', 'of', 'Engineers', 'is', 'beginning', '*-3', 'to', 'reduce', 'the', 'flow', 'of', 'the', 'Missouri', 'River', ',', 'which', '*T*-1', 'feeds', 'into', 'the', 'Mississippi', 'River', '.']\n",
      "['The', 'Army', 'Corps', 'is', 'cutting', 'the', 'flow', 'of', 'the', 'Missouri', 'River', 'about', 'two', 'weeks', 'earlier', 'than', 'normal', 'because', 'of', 'low', 'water', 'levels', 'in', 'the', 'reservoirs', 'that', '*T*-1', 'feed', 'it', '.']\n",
      "['Farmers', 'are', 'in', 'the', 'best', 'position', 'of', 'many', 'years', '0', '*', 'to', 'push', 'up', 'corn', 'prices', '*T*-1', '.']\n",
      "['Many', 'farmers', 'probably', 'would', \"n't\", 'sell', 'until', 'prices', 'rose', 'at', 'least', '20', 'cents', 'a', 'bushel', ',', 'said', '0', '*T*-1', 'Lyle', 'Reed', ',', 'president', 'of', 'Chicago', 'Central', '&', 'Pacific', 'Railroad', 'Co.', 'of', 'Waterloo', ',', 'Iowa', '.']\n",
      "['Gasoline', 'futures', 'continued', 'a', 'sell-off', 'that', '*T*-1', 'began', 'Monday', '.']\n",
      "['``', 'The', 'recent', 'rally', 'in', 'precious', 'metals', 'was', 'a', 'result', 'of', 'uncertainty', 'and', 'volatility', 'in', 'equities', ',', \"''\", 'he', 'said', '*T*-1', '.']\n",
      "['Yesterday', ',', 'the', 'stock', 'market', 'rose', 'strongly', ',', '*', 'creating', 'a', 'more', 'defensive', 'attitude', 'among', 'precious', 'metals', 'traders', ',', 'he', 'said', '0', '*T*-1', '.']\n",
      "['Silver', 'and', 'platinum', ',', 'which', '*T*-1', 'have', 'more', 'of', 'an', 'industrial', 'nature', 'than', 'gold', ',', 'were', 'even', 'weaker', ',', 'he', 'said', '0', '*T*-2', '.']\n",
      "['Silver', 'is', 'also', 'under', 'pressure', 'of', '``', 'extremely', 'high', \"''\", 'inventories', 'in', 'warehouses', 'of', 'the', 'Commodity', 'Exchange', ',', 'he', 'said', '0', '*T*-1', '.']\n",
      "['In', 'Chile', ',', 'workers', 'at', 'two', 'copper', 'mines', ',', 'Los', 'Bronces', 'and', 'El', 'Soldado', ',', 'which', '*T*-1', 'belong', 'to', 'the', 'Exxon-owned', 'Minera', 'Disputada', ',', 'yesterday', 'voted', '*-2', 'to', 'begin', 'a', 'full', 'strike', 'tomorrow', ',', 'an', 'analyst', 'said', '0', '*T*-3', '.']\n",
      "['Reasons', 'for', 'the', 'walkout', ',', 'the', 'analyst', 'said', '0', '*T*-1', ',', 'included', 'a', 'number', 'of', 'procedural', 'issues', ',', 'such', 'as', 'a', 'right', '*', 'to', 'strike', '.']\n",
      "['The', 'analyst', 'noted', 'that', 'also', 'inherent', 'in', 'all', 'metal', 'markets', 'was', '*T*-1', 'a', 'sympathetic', 'reaction', 'to', 'stocks', '.']\n",
      "['Also', 'contributing', 'to', 'the', 'firmness', 'in', 'copper', ',', 'the', 'analyst', 'noted', '0', '*T*-4', ',', 'was', '*T*-3', 'a', 'report', 'by', 'Chicago', 'purchasing', 'agents', ',', 'which', '*T*-1', 'precedes', 'the', 'full', 'purchasing', 'agents', \"'\", 'report', 'that', '*T*-2', 'is', 'due', 'out', 'today', 'and', 'gives', 'an', 'indication', 'of', 'what', 'the', 'full', 'report', 'might', 'hold', '*T*-5', '.']\n",
      "['NCR', 'Corp.', 'unveiled', 'two', 'models', 'of', 'its', 'Tower', 'line', 'of', 'midrange', 'computers', 'and', 'introduced', 'advanced', 'networking', 'software', '0', '*', 'to', 'allow', 'the', 'Tower', 'family', 'to', 'operate', 'as', 'a', 'central', 'hub', 'in', 'a', 'network', 'of', 'computers', '*T*-1', '.']\n",
      "['The', 'earnings', 'drop', 'appears', 'particularly', 'steep', 'in', 'comparison', 'with', 'last', 'year', \"'s\", 'unusually', 'strong', 'third', 'quarter', ',', 'when', 'the', 'company', 'was', 'riding', 'an', 'industrywide', 'boom', 'in', 'demand', 'and', 'pricing', '*T*-1', '.']\n",
      "['Among', 'segments', 'that', '*T*-1', 'continue', '*-2', 'to', 'operate', ',', 'though', ',', 'the', 'company', \"'s\", 'steel', 'division', 'continued', '*-3', 'to', 'suffer', 'from', 'soft', 'demand', 'for', 'its', 'tubular', 'goods', 'serving', 'the', 'oil', 'industry', 'and', 'other', 'markets', '.']\n",
      "['Profit', 'per', 'ton', 'of', 'steel', 'shipped', '*', 'dropped', 'to', 'about', '$', '33', '*U*', 'a', 'ton', 'from', '$', '42', '*U*', 'a', 'ton', 'last', 'year', 'and', '$', '53', '*U*', 'a', 'ton', 'in', 'the', 'second', 'quarter', ',', 'analysts', 'said', '0', '*T*-1', '.']\n",
      "['Still', ',', 'USX', 'fared', 'better', 'than', 'other', 'major', 'steelmakers', ',', '*-3', 'earning', 'more', 'per', 'ton', 'of', 'steel', 'shipped', '*', 'than', 'either', 'Bethlehem', 'Steel', 'Corp.', ',', 'which', '*T*-1', 'posted', 'a', '54', '%', 'drop', 'in', 'net', 'income', ',', 'or', 'Inland', 'Steel', 'Industries', 'Inc.', ',', 'whose', 'profit', '*T*-2', 'plummeted', '70', '%', '.']\n",
      "['In', 'New', 'York', 'Stock', 'Exchange', 'composite', 'trading', 'yesterday', ',', 'USX', 'shares', 'closed', 'up', '$', '1.25', '*U*', ',', 'at', '$', '34.625', '*U*', ',', 'as', 'the', 'reported', 'earnings', 'exceeded', 'projections', 'by', 'some', 'analysts', 'who', '*T*-1', 'had', \"n't\", 'expected', 'as', 'great', 'a', 'volume', 'of', 'asset', 'sales', '.']\n",
      "['Professors', 'Philip', 'Kurland', 'of', 'the', 'University', 'of', 'Chicago', 'and', 'Laurence', 'Tribe', 'of', 'Harvard', 'Law', 'School', 'said', '0', 'any', 'effort', 'by', 'President', 'Bush', '0', '*', 'to', 'claim', 'authority', 'for', 'a', 'line-item', 'veto', '*T*-1', 'would', 'contradict', 'the', 'text', 'of', 'the', 'Constitution', 'and', 'the', 'intent', 'of', 'its', 'authors', ',', 'as', 'well', 'as', 'the', 'views', 'of', 'previous', 'presidents', '.']\n",
      "['A', 'line-item', 'veto', 'is', 'a', 'procedure', 'that', '*T*-1', 'would', 'allow', 'a', 'president', 'to', 'veto', 'part', 'of', 'a', 'big', 'congressional', 'spending', 'bill', 'without', '*-2', 'having', '*-3', 'to', 'scuttle', 'the', 'entire', 'measure', '.']\n"
     ]
    }
   ],
   "source": [
    "# Attempt to visualise within the text in which context are these tags present \n",
    "\n",
    "for i in treebank_tagged_sents: \n",
    "    for w,t in i:\n",
    "        if w == '*T*-1':\n",
    "            print([w for w,t in i])\n",
    "            "
   ]
  }
 ],
 "metadata": {
  "kernelspec": {
   "display_name": "Python 3",
   "language": "python",
   "name": "python3"
  },
  "language_info": {
   "codemirror_mode": {
    "name": "ipython",
    "version": 3
   },
   "file_extension": ".py",
   "mimetype": "text/x-python",
   "name": "python",
   "nbconvert_exporter": "python",
   "pygments_lexer": "ipython3",
   "version": "3.6.7"
  }
 },
 "nbformat": 4,
 "nbformat_minor": 2
}
